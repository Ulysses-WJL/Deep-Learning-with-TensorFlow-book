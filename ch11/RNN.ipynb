{
 "cells": [
  {
   "cell_type": "markdown",
   "metadata": {
    "collapsed": true
   },
   "source": [
    "# 循环神经网络"
   ]
  },
  {
   "cell_type": "code",
   "execution_count": 1,
   "metadata": {},
   "outputs": [],
   "source": [
    "import tensorflow as tf\n",
    "import numpy as np\n",
    "import matplotlib.pyplot as plt\n",
    "\n",
    "%matplotlib inline"
   ]
  },
  {
   "cell_type": "code",
   "execution_count": 2,
   "metadata": {},
   "outputs": [],
   "source": [
    "from tensorflow.keras import layers"
   ]
  },
  {
   "cell_type": "markdown",
   "metadata": {},
   "source": [
    "## 序列\n",
    "具有先后顺序的数据一般叫作序列(Sequence). 我们把文字编码为数值的过程叫作**Word Embedding**.\n",
    "\n",
    "one-hot编码的优缺点:\n",
    "- 简单直观，编码过程不需要学习和训练;\n",
    "- 但高维度而且极其稀疏的，大量的位置为0，计算效率较低, 忽略了单词先天具有的语义相关性;\n",
    "\n",
    "余弦相关度(Cosine similarity), 衡量词向量(word vector)之间相关度:\n",
    "$$similarity(a, b) \\triangleq \\frac {a \\cdot b}{|a|\\cdot|b|}$$"
   ]
  },
  {
   "cell_type": "markdown",
   "metadata": {},
   "source": [
    "### Embedding层\n",
    "单词的表示层叫作Embedding层, 负责把单词编码为某个词向量𝒗\n",
    "\n",
    "$$v = f_{\\theta}(i|N_{vocab}, n)$$\n",
    "单词数量记为$N_{vocab}$, $v的长度为n$, $i$表示单词编号, 如2 表示“I”，3 表示“me”等."
   ]
  },
  {
   "cell_type": "code",
   "execution_count": 4,
   "metadata": {},
   "outputs": [
    {
     "data": {
      "text/plain": [
       "<tf.Tensor: id=38, shape=(10, 4), dtype=float32, numpy=\n",
       "array([[ 0.01682358,  0.01632296, -0.04518614, -0.03995992],\n",
       "       [-0.01552867, -0.04730228,  0.02433317,  0.03591125],\n",
       "       [-0.04516057,  0.00713903, -0.03482969,  0.02104682],\n",
       "       [-0.01187819, -0.04269988, -0.00756754,  0.02548065],\n",
       "       [ 0.03850854,  0.00589765,  0.03124896, -0.03757306],\n",
       "       [ 0.04235205,  0.00811402,  0.02873718, -0.00579195],\n",
       "       [-0.03040769, -0.01831502, -0.039783  ,  0.0080089 ],\n",
       "       [-0.03118372,  0.03825093, -0.00118135,  0.00731887],\n",
       "       [-0.04543108,  0.02904933,  0.04732319,  0.04652944],\n",
       "       [ 0.04989034, -0.02638212, -0.0214556 ,  0.02179935]],\n",
       "      dtype=float32)>"
      ]
     },
     "execution_count": 4,
     "metadata": {},
     "output_type": "execute_result"
    }
   ],
   "source": [
    "x = tf.range(10)  # 代表10个不同单词的编码\n",
    "\n",
    "x = tf.random.shuffle(x)\n",
    "# 10个单词, 每个单词用长度4 的向量表示\n",
    "net = layers.Embedding(10, 4)\n",
    "out = net(x)\n",
    "out"
   ]
  },
  {
   "cell_type": "code",
   "execution_count": null,
   "metadata": {},
   "outputs": [],
   "source": []
  }
 ],
 "metadata": {
  "kernelspec": {
   "display_name": "Python 3",
   "language": "python",
   "name": "python3"
  },
  "language_info": {
   "codemirror_mode": {
    "name": "ipython",
    "version": 3
   },
   "file_extension": ".py",
   "mimetype": "text/x-python",
   "name": "python",
   "nbconvert_exporter": "python",
   "pygments_lexer": "ipython3",
   "version": "3.7.2rc1"
  }
 },
 "nbformat": 4,
 "nbformat_minor": 1
}
