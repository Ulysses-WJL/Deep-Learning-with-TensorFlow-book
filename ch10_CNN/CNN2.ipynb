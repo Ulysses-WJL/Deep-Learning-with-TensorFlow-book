{
 "nbformat": 4,
 "nbformat_minor": 2,
 "metadata": {
  "language_info": {
   "name": "python",
   "codemirror_mode": {
    "name": "ipython",
    "version": 3
   },
   "version": "3.7.6-final"
  },
  "orig_nbformat": 2,
  "file_extension": ".py",
  "mimetype": "text/x-python",
  "name": "python",
  "npconvert_exporter": "python",
  "pygments_lexer": "ipython3",
  "version": 3,
  "kernelspec": {
   "name": "python37664bittf2conda2a75a45106264ceab7472c43279a5d24",
   "display_name": "Python 3.7.6 64-bit ('tf2': conda)"
  }
 },
 "cells": [
  {
   "cell_type": "markdown",
   "metadata": {},
   "source": [
    "# CIFAR10 与 VGG13 实战"
   ]
  },
  {
   "cell_type": "code",
   "execution_count": 1,
   "metadata": {},
   "outputs": [],
   "source": [
    "import tensorflow as tf\n",
    "import numpy as np\n",
    "import matplotlib.pyplot as plt\n",
    "\n",
    "%matplotlib inline\n",
    "\n",
    "plt.rcParams['font.size'] = 20\n",
    "plt.rcParams['figure.titlesize'] = 20\n",
    "plt.rcParams['figure.figsize'] = [12, 10]\n",
    "plt.rcParams['font.family'] = ['Noto Sans CJK JP'] # ['SimHei']\n",
    "plt.rcParams['axes.unicode_minus']=False "
   ]
  },
  {
   "cell_type": "code",
   "execution_count": 2,
   "metadata": {},
   "outputs": [],
   "source": [
    "gpus = tf.config.experimental.list_physical_devices('GPU')\n",
    "try:\n",
    "    for gpu in gpus:\n",
    "        tf.config.experimental.set_memory_growth(gpu, True)\n",
    "except RuntimeError as e:\n",
    "    print(e)"
   ]
  },
  {
   "cell_type": "code",
   "execution_count": 3,
   "metadata": {},
   "outputs": [],
   "source": [
    "from tensorflow.keras import datasets, losses, metrics, Sequential, layers, optimizers"
   ]
  },
  {
   "cell_type": "code",
   "execution_count": 4,
   "metadata": {},
   "outputs": [],
   "source": [
    "(X_train, y_train), (X_test, y_test) = datasets.cifar10.load_data()"
   ]
  },
  {
   "cell_type": "code",
   "execution_count": 5,
   "metadata": {},
   "outputs": [],
   "source": [
    "y_train = np.squeeze(y_train)\n",
    "y_test = np.squeeze(y_test)"
   ]
  },
  {
   "cell_type": "code",
   "execution_count": 6,
   "metadata": {},
   "outputs": [
    {
     "output_type": "stream",
     "name": "stdout",
     "text": "(50000, 32, 32, 3) (10000, 32, 32, 3) (50000,) (10000,)\n"
    }
   ],
   "source": [
    "print(X_train.shape, X_test.shape, y_train.shape, y_test.shape)"
   ]
  },
  {
   "cell_type": "code",
   "execution_count": 7,
   "metadata": {},
   "outputs": [],
   "source": [
    "def preprocessing(X, y):\n",
    "    X = tf.cast(X, dtype=tf.float32) / 255\n",
    "    y = tf.cast(y, dtype=tf.int32)\n",
    "    return X, y"
   ]
  },
  {
   "cell_type": "code",
   "execution_count": 8,
   "metadata": {},
   "outputs": [],
   "source": [
    "train_db = tf.data.Dataset.from_tensor_slices((X_train, y_train))\n",
    "test_db = tf.data.Dataset.from_tensor_slices((X_test, y_test))\n",
    "\n",
    "train_db = train_db.shuffle(10000).batch(128).map(preprocessing)\n",
    "test_db = test_db.shuffle(10000).batch(128).map(preprocessing)"
   ]
  },
  {
   "cell_type": "code",
   "execution_count": 9,
   "metadata": {},
   "outputs": [
    {
     "output_type": "execute_result",
     "data": {
      "text/plain": "<tf.Tensor: shape=(), dtype=float32, numpy=1.0>"
     },
     "metadata": {},
     "execution_count": 9
    }
   ],
   "source": [
    "sample = next(iter(train_db))\n",
    "tf.reduce_max(sample[0])"
   ]
  },
  {
   "cell_type": "code",
   "execution_count": 10,
   "metadata": {},
   "outputs": [
    {
     "output_type": "execute_result",
     "data": {
      "text/plain": "<matplotlib.image.AxesImage at 0x7f3bf01c7490>"
     },
     "metadata": {},
     "execution_count": 10
    },
    {
     "output_type": "display_data",
     "data": {
      "text/plain": "<Figure size 864x720 with 1 Axes>",
      "image/svg+xml": "<?xml version=\"1.0\" encoding=\"utf-8\" standalone=\"no\"?>\n<!DOCTYPE svg PUBLIC \"-//W3C//DTD SVG 1.1//EN\"\n  \"http://www.w3.org/Graphics/SVG/1.1/DTD/svg11.dtd\">\n<!-- Created with matplotlib (https://matplotlib.org/) -->\n<svg height=\"585.740625pt\" version=\"1.1\" viewBox=\"0 0 585.8375 585.740625\" width=\"585.8375pt\" xmlns=\"http://www.w3.org/2000/svg\" xmlns:xlink=\"http://www.w3.org/1999/xlink\">\n <defs>\n  <style type=\"text/css\">\n*{stroke-linecap:butt;stroke-linejoin:round;}\n  </style>\n </defs>\n <g id=\"figure_1\">\n  <g id=\"patch_1\">\n   <path d=\"M 0 585.740625 \nL 585.8375 585.740625 \nL 585.8375 0 \nL 0 0 \nz\n\" style=\"fill:none;\"/>\n  </g>\n  <g id=\"axes_1\">\n   <g id=\"patch_2\">\n    <path d=\"M 35.0375 550.8 \nL 578.6375 550.8 \nL 578.6375 7.2 \nL 35.0375 7.2 \nz\n\" style=\"fill:#ffffff;\"/>\n   </g>\n   <g clip-path=\"url(#paadf5f9d3b)\">\n    <image height=\"544\" id=\"imageea8cf02fd6\" transform=\"scale(1 -1)translate(0 -544)\" width=\"544\" x=\"35.0375\" xlink:href=\"data:image/png;base64,\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\" y=\"-6.8\"/>\n   </g>\n   <g id=\"matplotlib.axis_1\">\n    <g id=\"xtick_1\">\n     <g id=\"line2d_1\">\n      <defs>\n       <path d=\"M 0 0 \nL 0 3.5 \n\" id=\"m9cde0bddfa\" style=\"stroke:#000000;stroke-width:0.8;\"/>\n      </defs>\n      <g>\n       <use style=\"stroke:#000000;stroke-width:0.8;\" x=\"43.53125\" xlink:href=\"#m9cde0bddfa\" y=\"550.8\"/>\n      </g>\n     </g>\n     <g id=\"text_1\">\n      <!-- 0 -->\n      <defs>\n       <path d=\"M 26.09375 -1.296875 \nC 38.796875 -1.296875 46.59375 10.90625 46.59375 36.5 \nC 46.59375 61.796875 38.796875 73.90625 26.09375 73.90625 \nC 13.203125 73.90625 5.5 61.796875 5.5 36.5 \nC 5.5 10.90625 13.203125 -1.296875 26.09375 -1.296875 \nz\nM 26.09375 2 \nC 15.796875 2 9.203125 14.203125 9.203125 36.5 \nC 9.203125 58.5 15.796875 70.703125 26.09375 70.703125 \nC 36.296875 70.703125 42.90625 58.5 42.90625 36.5 \nC 42.90625 14.203125 36.296875 2 26.09375 2 \nz\n\" id=\"NotoSansCJKjp-Thin-48\"/>\n      </defs>\n      <g transform=\"translate(38.321875 573.68125)scale(0.2 -0.2)\">\n       <use xlink:href=\"#NotoSansCJKjp-Thin-48\"/>\n      </g>\n     </g>\n    </g>\n    <g id=\"xtick_2\">\n     <g id=\"line2d_2\">\n      <g>\n       <use style=\"stroke:#000000;stroke-width:0.8;\" x=\"128.46875\" xlink:href=\"#m9cde0bddfa\" y=\"550.8\"/>\n      </g>\n     </g>\n     <g id=\"text_2\">\n      <!-- 5 -->\n      <defs>\n       <path d=\"M 24.703125 -1.296875 \nC 35.703125 -1.296875 46.796875 7.5 46.796875 23.09375 \nC 46.796875 39.296875 37.296875 46.40625 25.40625 46.40625 \nC 20 46.40625 16 44.90625 12.296875 42.59375 \nL 14.703125 69.296875 \nL 43.09375 69.296875 \nL 43.09375 72.59375 \nL 11.40625 72.59375 \nL 8.796875 40 \nL 11.796875 38.203125 \nC 15.90625 41 19.703125 43 25.09375 43 \nC 36 43 43 35.296875 43 22.90625 \nC 43 10.40625 34.5 2 24.90625 2 \nC 14.796875 2 9.296875 6.40625 5.203125 10.796875 \nL 2.90625 8.09375 \nC 7.296875 3.703125 13.5 -1.296875 24.703125 -1.296875 \nz\n\" id=\"NotoSansCJKjp-Thin-53\"/>\n      </defs>\n      <g transform=\"translate(123.259375 573.68125)scale(0.2 -0.2)\">\n       <use xlink:href=\"#NotoSansCJKjp-Thin-53\"/>\n      </g>\n     </g>\n    </g>\n    <g id=\"xtick_3\">\n     <g id=\"line2d_3\">\n      <g>\n       <use style=\"stroke:#000000;stroke-width:0.8;\" x=\"213.40625\" xlink:href=\"#m9cde0bddfa\" y=\"550.8\"/>\n      </g>\n     </g>\n     <g id=\"text_3\">\n      <!-- 10 -->\n      <defs>\n       <path d=\"M 9.5 0 \nL 45.296875 0 \nL 45.296875 3.296875 \nL 29.703125 3.296875 \nL 29.703125 72.59375 \nL 26.59375 72.59375 \nC 23.5 70.796875 19.09375 69.296875 13.5 68.40625 \nL 13.5 65.796875 \nL 26.203125 65.796875 \nL 26.203125 3.296875 \nL 9.5 3.296875 \nz\n\" id=\"NotoSansCJKjp-Thin-49\"/>\n      </defs>\n      <g transform=\"translate(202.9875 573.68125)scale(0.2 -0.2)\">\n       <use xlink:href=\"#NotoSansCJKjp-Thin-49\"/>\n       <use x=\"52.099991\" xlink:href=\"#NotoSansCJKjp-Thin-48\"/>\n      </g>\n     </g>\n    </g>\n    <g id=\"xtick_4\">\n     <g id=\"line2d_4\">\n      <g>\n       <use style=\"stroke:#000000;stroke-width:0.8;\" x=\"298.34375\" xlink:href=\"#m9cde0bddfa\" y=\"550.8\"/>\n      </g>\n     </g>\n     <g id=\"text_4\">\n      <!-- 15 -->\n      <g transform=\"translate(287.925 573.68125)scale(0.2 -0.2)\">\n       <use xlink:href=\"#NotoSansCJKjp-Thin-49\"/>\n       <use x=\"52.099991\" xlink:href=\"#NotoSansCJKjp-Thin-53\"/>\n      </g>\n     </g>\n    </g>\n    <g id=\"xtick_5\">\n     <g id=\"line2d_5\">\n      <g>\n       <use style=\"stroke:#000000;stroke-width:0.8;\" x=\"383.28125\" xlink:href=\"#m9cde0bddfa\" y=\"550.8\"/>\n      </g>\n     </g>\n     <g id=\"text_5\">\n      <!-- 20 -->\n      <defs>\n       <path d=\"M 4.59375 0 \nL 47.09375 0 \nL 47.09375 3.296875 \nL 22.5 3.296875 \nC 18.59375 3.296875 14.59375 3.09375 10.59375 2.796875 \nC 31.59375 22.203125 43.5 37.59375 43.5 53.5 \nC 43.5 65.796875 36.40625 73.90625 24.09375 73.90625 \nC 15.59375 73.90625 9.5 69.296875 4.40625 63.59375 \nL 6.90625 61.296875 \nC 11.296875 66.796875 17.296875 70.59375 23.796875 70.59375 \nC 34.90625 70.59375 39.703125 62.90625 39.703125 53.5 \nC 39.703125 39.796875 30.40625 24.40625 4.59375 2.296875 \nz\n\" id=\"NotoSansCJKjp-Thin-50\"/>\n      </defs>\n      <g transform=\"translate(372.8625 573.68125)scale(0.2 -0.2)\">\n       <use xlink:href=\"#NotoSansCJKjp-Thin-50\"/>\n       <use x=\"52.099991\" xlink:href=\"#NotoSansCJKjp-Thin-48\"/>\n      </g>\n     </g>\n    </g>\n    <g id=\"xtick_6\">\n     <g id=\"line2d_6\">\n      <g>\n       <use style=\"stroke:#000000;stroke-width:0.8;\" x=\"468.21875\" xlink:href=\"#m9cde0bddfa\" y=\"550.8\"/>\n      </g>\n     </g>\n     <g id=\"text_6\">\n      <!-- 25 -->\n      <g transform=\"translate(457.8 573.68125)scale(0.2 -0.2)\">\n       <use xlink:href=\"#NotoSansCJKjp-Thin-50\"/>\n       <use x=\"52.099991\" xlink:href=\"#NotoSansCJKjp-Thin-53\"/>\n      </g>\n     </g>\n    </g>\n    <g id=\"xtick_7\">\n     <g id=\"line2d_7\">\n      <g>\n       <use style=\"stroke:#000000;stroke-width:0.8;\" x=\"553.15625\" xlink:href=\"#m9cde0bddfa\" y=\"550.8\"/>\n      </g>\n     </g>\n     <g id=\"text_7\">\n      <!-- 30 -->\n      <defs>\n       <path d=\"M 25.296875 -1.296875 \nC 37.296875 -1.296875 46.40625 6.59375 46.40625 19.09375 \nC 46.40625 29.5 38.90625 36.296875 30.09375 38.09375 \nL 30.09375 38.5 \nC 37.796875 41 43.796875 47 43.796875 56.90625 \nC 43.796875 67.703125 35.5 73.90625 25.09375 74 \nC 16.90625 73.90625 11 70 6.40625 65.5 \nL 8.703125 62.90625 \nC 12.59375 67.203125 18.59375 70.59375 25.09375 70.796875 \nC 34.09375 70.59375 39.90625 65 39.90625 56.703125 \nC 39.90625 47.40625 34.09375 39.90625 17.40625 39.90625 \nL 17.40625 36.40625 \nC 35.203125 36.40625 42.59375 29.296875 42.59375 18.90625 \nC 42.59375 8.703125 35.40625 2 25.5 2 \nC 15.5 2 9.796875 6.59375 5.59375 11.203125 \nL 3.296875 8.59375 \nC 7.703125 4 14.09375 -1.296875 25.296875 -1.296875 \nz\n\" id=\"NotoSansCJKjp-Thin-51\"/>\n      </defs>\n      <g transform=\"translate(542.7375 573.68125)scale(0.2 -0.2)\">\n       <use xlink:href=\"#NotoSansCJKjp-Thin-51\"/>\n       <use x=\"52.099991\" xlink:href=\"#NotoSansCJKjp-Thin-48\"/>\n      </g>\n     </g>\n    </g>\n   </g>\n   <g id=\"matplotlib.axis_2\">\n    <g id=\"ytick_1\">\n     <g id=\"line2d_8\">\n      <defs>\n       <path d=\"M 0 0 \nL -3.5 0 \n\" id=\"mbc73019663\" style=\"stroke:#000000;stroke-width:0.8;\"/>\n      </defs>\n      <g>\n       <use style=\"stroke:#000000;stroke-width:0.8;\" x=\"35.0375\" xlink:href=\"#mbc73019663\" y=\"15.69375\"/>\n      </g>\n     </g>\n     <g id=\"text_8\">\n      <!-- 0 -->\n      <g transform=\"translate(17.61875 23.634375)scale(0.2 -0.2)\">\n       <use xlink:href=\"#NotoSansCJKjp-Thin-48\"/>\n      </g>\n     </g>\n    </g>\n    <g id=\"ytick_2\">\n     <g id=\"line2d_9\">\n      <g>\n       <use style=\"stroke:#000000;stroke-width:0.8;\" x=\"35.0375\" xlink:href=\"#mbc73019663\" y=\"100.63125\"/>\n      </g>\n     </g>\n     <g id=\"text_9\">\n      <!-- 5 -->\n      <g transform=\"translate(17.61875 108.571875)scale(0.2 -0.2)\">\n       <use xlink:href=\"#NotoSansCJKjp-Thin-53\"/>\n      </g>\n     </g>\n    </g>\n    <g id=\"ytick_3\">\n     <g id=\"line2d_10\">\n      <g>\n       <use style=\"stroke:#000000;stroke-width:0.8;\" x=\"35.0375\" xlink:href=\"#mbc73019663\" y=\"185.56875\"/>\n      </g>\n     </g>\n     <g id=\"text_10\">\n      <!-- 10 -->\n      <g transform=\"translate(7.2 193.509375)scale(0.2 -0.2)\">\n       <use xlink:href=\"#NotoSansCJKjp-Thin-49\"/>\n       <use x=\"52.099991\" xlink:href=\"#NotoSansCJKjp-Thin-48\"/>\n      </g>\n     </g>\n    </g>\n    <g id=\"ytick_4\">\n     <g id=\"line2d_11\">\n      <g>\n       <use style=\"stroke:#000000;stroke-width:0.8;\" x=\"35.0375\" xlink:href=\"#mbc73019663\" y=\"270.50625\"/>\n      </g>\n     </g>\n     <g id=\"text_11\">\n      <!-- 15 -->\n      <g transform=\"translate(7.2 278.446875)scale(0.2 -0.2)\">\n       <use xlink:href=\"#NotoSansCJKjp-Thin-49\"/>\n       <use x=\"52.099991\" xlink:href=\"#NotoSansCJKjp-Thin-53\"/>\n      </g>\n     </g>\n    </g>\n    <g id=\"ytick_5\">\n     <g id=\"line2d_12\">\n      <g>\n       <use style=\"stroke:#000000;stroke-width:0.8;\" x=\"35.0375\" xlink:href=\"#mbc73019663\" y=\"355.44375\"/>\n      </g>\n     </g>\n     <g id=\"text_12\">\n      <!-- 20 -->\n      <g transform=\"translate(7.2 363.384375)scale(0.2 -0.2)\">\n       <use xlink:href=\"#NotoSansCJKjp-Thin-50\"/>\n       <use x=\"52.099991\" xlink:href=\"#NotoSansCJKjp-Thin-48\"/>\n      </g>\n     </g>\n    </g>\n    <g id=\"ytick_6\">\n     <g id=\"line2d_13\">\n      <g>\n       <use style=\"stroke:#000000;stroke-width:0.8;\" x=\"35.0375\" xlink:href=\"#mbc73019663\" y=\"440.38125\"/>\n      </g>\n     </g>\n     <g id=\"text_13\">\n      <!-- 25 -->\n      <g transform=\"translate(7.2 448.321875)scale(0.2 -0.2)\">\n       <use xlink:href=\"#NotoSansCJKjp-Thin-50\"/>\n       <use x=\"52.099991\" xlink:href=\"#NotoSansCJKjp-Thin-53\"/>\n      </g>\n     </g>\n    </g>\n    <g id=\"ytick_7\">\n     <g id=\"line2d_14\">\n      <g>\n       <use style=\"stroke:#000000;stroke-width:0.8;\" x=\"35.0375\" xlink:href=\"#mbc73019663\" y=\"525.31875\"/>\n      </g>\n     </g>\n     <g id=\"text_14\">\n      <!-- 30 -->\n      <g transform=\"translate(7.2 533.259375)scale(0.2 -0.2)\">\n       <use xlink:href=\"#NotoSansCJKjp-Thin-51\"/>\n       <use x=\"52.099991\" xlink:href=\"#NotoSansCJKjp-Thin-48\"/>\n      </g>\n     </g>\n    </g>\n   </g>\n   <g id=\"patch_3\">\n    <path d=\"M 35.0375 550.8 \nL 35.0375 7.2 \n\" style=\"fill:none;stroke:#000000;stroke-linecap:square;stroke-linejoin:miter;stroke-width:0.8;\"/>\n   </g>\n   <g id=\"patch_4\">\n    <path d=\"M 578.6375 550.8 \nL 578.6375 7.2 \n\" style=\"fill:none;stroke:#000000;stroke-linecap:square;stroke-linejoin:miter;stroke-width:0.8;\"/>\n   </g>\n   <g id=\"patch_5\">\n    <path d=\"M 35.0375 550.8 \nL 578.6375 550.8 \n\" style=\"fill:none;stroke:#000000;stroke-linecap:square;stroke-linejoin:miter;stroke-width:0.8;\"/>\n   </g>\n   <g id=\"patch_6\">\n    <path d=\"M 35.0375 7.2 \nL 578.6375 7.2 \n\" style=\"fill:none;stroke:#000000;stroke-linecap:square;stroke-linejoin:miter;stroke-width:0.8;\"/>\n   </g>\n  </g>\n </g>\n <defs>\n  <clipPath id=\"paadf5f9d3b\">\n   <rect height=\"543.6\" width=\"543.6\" x=\"35.0375\" y=\"7.2\"/>\n  </clipPath>\n </defs>\n</svg>\n",
      "image/png": "[encoded data removed]"
     },
     "metadata": {
      "needs_background": "light"
     }
    }
   ],
   "source": [
    "plt.imshow(X_train[4]/255)"
   ]
  },
  {
   "cell_type": "markdown",
   "metadata": {},
   "source": [
    "CIFAR10 图片识别任务并不简单，这主要是由于 CIFAR10 的图片内容需要大量细节才能呈现，而保存的图片分辨率仅有32 × 32，使得部分主体信息较为模糊，甚至人眼都很难分辨。"
   ]
  },
  {
   "cell_type": "code",
   "execution_count": 11,
   "metadata": {},
   "outputs": [],
   "source": [
    "# 1. 卷积子网络\n",
    "conv_layers = [\n",
    "    # 64个 3X3 的卷积核 输出与输入同大小\n",
    "    layers.Conv2D(64, kernel_size=(3, 3), padding='SAME', activation='relu'),\n",
    "    layers.Conv2D(64, kernel_size=(3, 3), padding='SAME', activation='relu'),\n",
    "    # 池化层 高宽减半\n",
    "    layers.MaxPool2D(pool_size=(2, 2), strides=2, padding='same'),\n",
    "    # Conv-Conv-Pooling 单元2  输出通道提升至 128，高宽大小减半\n",
    "    layers.Conv2D(128, kernel_size=(3, 3), padding='SAME', activation='relu'),\n",
    "    layers.Conv2D(128, kernel_size=(3, 3), padding='SAME', activation='relu'),\n",
    "    layers.MaxPool2D(pool_size=(2, 2), strides=2, padding='same'),\n",
    "    # Conv-Conv-Pooling 单元3  输出通道提升至 256，高宽大小减半\n",
    "    layers.Conv2D(256, kernel_size=(3, 3), padding='SAME', activation='relu'),\n",
    "    layers.Conv2D(256, kernel_size=(3, 3), padding='SAME', activation='relu'),\n",
    "    layers.MaxPool2D(pool_size=(2, 2), strides=2, padding='same'),\n",
    "    # Conv-Conv-Pooling 单元4  输出通道提升至 512，高宽大小减半\n",
    "    layers.Conv2D(512, kernel_size=(3, 3), padding='SAME', activation='relu'),\n",
    "    layers.Conv2D(512, kernel_size=(3, 3), padding='SAME', activation='relu'),\n",
    "    layers.MaxPool2D(pool_size=(2, 2), strides=2, padding='same'),\n",
    "    # Conv-Conv-Pooling 单元4  输出通道提升至 512，高宽大小减半\n",
    "    layers.Conv2D(512, kernel_size=(3, 3), padding='SAME', activation='relu'),\n",
    "    layers.Conv2D(512, kernel_size=(3, 3), padding='SAME', activation='relu'),\n",
    "    layers.MaxPool2D(pool_size=(2, 2), strides=2, padding='same'),\n",
    "]"
   ]
  },
  {
   "cell_type": "code",
   "execution_count": 12,
   "metadata": {},
   "outputs": [],
   "source": [
    "conv_net = Sequential(conv_layers)"
   ]
  },
  {
   "cell_type": "code",
   "execution_count": 13,
   "metadata": {},
   "outputs": [],
   "source": [
    "fc_net = Sequential([\n",
    "    layers.Dense(256, activation='relu'),\n",
    "    layers.Dense(128, activation='relu'),\n",
    "    layers.Dense(10, activation=None)\n",
    "])"
   ]
  },
  {
   "cell_type": "code",
   "execution_count": 14,
   "metadata": {},
   "outputs": [],
   "source": [
    "# conv_net.build(input_shape=(None, 32, 32, 3))\n",
    "# fc_net.build(input_shape=(None, 512)) "
   ]
  },
  {
   "cell_type": "code",
   "execution_count": 15,
   "metadata": {},
   "outputs": [],
   "source": [
    "# conv_net.summary()"
   ]
  },
  {
   "cell_type": "code",
   "execution_count": 16,
   "metadata": {},
   "outputs": [],
   "source": [
    "# fc_net.summary()"
   ]
  },
  {
   "cell_type": "code",
   "execution_count": 17,
   "metadata": {},
   "outputs": [
    {
     "output_type": "execute_result",
     "data": {
      "text/plain": "1792"
     },
     "metadata": {},
     "execution_count": 17
    }
   ],
   "source": [
    "(3 * 3 * 3 + 1) * 64"
   ]
  },
  {
   "cell_type": "code",
   "execution_count": 18,
   "metadata": {},
   "outputs": [
    {
     "output_type": "execute_result",
     "data": {
      "text/plain": "36928"
     },
     "metadata": {},
     "execution_count": 18
    }
   ],
   "source": [
    "(3 * 3 * 64 + 1) * 64"
   ]
  },
  {
   "cell_type": "code",
   "execution_count": 19,
   "metadata": {},
   "outputs": [
    {
     "output_type": "execute_result",
     "data": {
      "text/plain": "390.625"
     },
     "metadata": {},
     "execution_count": 19
    }
   ],
   "source": [
    "50000 / 128"
   ]
  },
  {
   "cell_type": "code",
   "execution_count": 20,
   "metadata": {},
   "outputs": [],
   "source": [
    "def VGG16():\n",
    "    loss = []\n",
    "    acc = []\n",
    "    metric_acc = metrics.Accuracy()\n",
    "    optimizer = optimizers.Adam(0.0001)\n",
    "    conv_net.build(input_shape=(None, 32, 32, 3))\n",
    "    fc_net.build(input_shape=(None, 512)) \n",
    "    variables = conv_net.trainable_variables + fc_net.trainable_variables\n",
    "    \n",
    "    for epoch in range(50):\n",
    "        for step, (x, y) in enumerate(train_db):\n",
    "            with tf.GradientTape() as tape:\n",
    "                out = conv_net(x)\n",
    "                out = tf.reshape(out, (-1, 512))\n",
    "\n",
    "                out = fc_net(out)\n",
    "                # print(out.shape)\n",
    "                y_onehot = tf.one_hot(y, depth=10)\n",
    "                cost = losses.categorical_crossentropy(y_onehot, out, from_logits=True)\n",
    "                cost =tf.reduce_mean(cost)\n",
    "            grads = tape.gradient(cost, variables)\n",
    "            optimizer.apply_gradients(zip(grads, variables))\n",
    "            \n",
    "            if step % 100 == 0:\n",
    "                loss.append(float(cost))\n",
    "                print(f\"epoch: {epoch}, step: {step}, loss: {float(cost)}\")\n",
    "        \n",
    "        # 每个epoch 检测一次test\n",
    "        metric_acc.reset_states()\n",
    "        for x, y in test_db:\n",
    "            out = conv_net(x)\n",
    "            out = tf.reshape(out, (-1, 512))\n",
    "\n",
    "            out = fc_net(out)\n",
    "            y_pred = tf.argmax(out, axis=-1)\n",
    "            metric_acc.update_state(y, y_pred)\n",
    "        print(f\"epoch :{epoch},  accuracy: {float(metric_acc.result())}\")\n",
    "        acc.append(float(metric_acc.result()))\n",
    "    return loss, acc"
   ]
  },
  {
   "cell_type": "code",
   "execution_count": 21,
   "metadata": {},
   "outputs": [
    {
     "output_type": "stream",
     "name": "stdout",
     "text": "epoch: 0, step: 0, loss: 2.3025529384613037\nepoch: 0, step: 100, loss: 1.9708839654922485\nepoch: 0, step: 200, loss: 1.8092079162597656\nepoch: 0, step: 300, loss: 1.5598812103271484\nepoch :0,  accuracy: 0.44429999589920044\nepoch: 1, step: 0, loss: 1.4980831146240234\nepoch: 1, step: 100, loss: 1.634993314743042\nepoch: 1, step: 200, loss: 1.353920578956604\nepoch: 1, step: 300, loss: 1.4722709655761719\nepoch :1,  accuracy: 0.5329999923706055\nepoch: 2, step: 0, loss: 1.2172331809997559\nepoch: 2, step: 100, loss: 1.0733684301376343\nepoch: 2, step: 200, loss: 1.0692987442016602\nepoch: 2, step: 300, loss: 1.049787998199463\nepoch :2,  accuracy: 0.5810999870300293\nepoch: 3, step: 0, loss: 1.2063064575195312\nepoch: 3, step: 100, loss: 1.0844776630401611\nepoch: 3, step: 200, loss: 1.0787405967712402\nepoch: 3, step: 300, loss: 0.9257391691207886\nepoch :3,  accuracy: 0.6452999711036682\nepoch: 4, step: 0, loss: 0.9893485903739929\nepoch: 4, step: 100, loss: 0.8584526181221008\nepoch: 4, step: 200, loss: 0.8390803337097168\nepoch: 4, step: 300, loss: 0.9827028512954712\nepoch :4,  accuracy: 0.6729000210762024\nepoch: 5, step: 0, loss: 0.9169452786445618\nepoch: 5, step: 100, loss: 0.8106854557991028\nepoch: 5, step: 200, loss: 0.848514974117279\nepoch: 5, step: 300, loss: 0.7051499485969543\nepoch :5,  accuracy: 0.6991999745368958\nepoch: 6, step: 0, loss: 0.8341476321220398\nepoch: 6, step: 100, loss: 0.5886234045028687\nepoch: 6, step: 200, loss: 0.9501831531524658\nepoch: 6, step: 300, loss: 0.719370424747467\nepoch :6,  accuracy: 0.7401999831199646\nepoch: 7, step: 0, loss: 0.5848476886749268\nepoch: 7, step: 100, loss: 0.5800788998603821\nepoch: 7, step: 200, loss: 0.6345656514167786\nepoch: 7, step: 300, loss: 0.4912980794906616\nepoch :7,  accuracy: 0.7330999970436096\nepoch: 8, step: 0, loss: 0.5590356588363647\nepoch: 8, step: 100, loss: 0.517776608467102\nepoch: 8, step: 200, loss: 0.6612579822540283\nepoch: 8, step: 300, loss: 0.4135975241661072\nepoch :8,  accuracy: 0.7563999891281128\nepoch: 9, step: 0, loss: 0.34515172243118286\nepoch: 9, step: 100, loss: 0.6038862466812134\nepoch: 9, step: 200, loss: 0.497362345457077\nepoch: 9, step: 300, loss: 0.5354321002960205\nepoch :9,  accuracy: 0.755299985408783\nepoch: 10, step: 0, loss: 0.4862369894981384\nepoch: 10, step: 100, loss: 0.227743461728096\nepoch: 10, step: 200, loss: 0.3837776780128479\nepoch: 10, step: 300, loss: 0.3423411250114441\nepoch :10,  accuracy: 0.7703999876976013\nepoch: 11, step: 0, loss: 0.44346603751182556\nepoch: 11, step: 100, loss: 0.4068010449409485\nepoch: 11, step: 200, loss: 0.45356500148773193\nepoch: 11, step: 300, loss: 0.4454101026058197\nepoch :11,  accuracy: 0.7720999717712402\nepoch: 12, step: 0, loss: 0.31738215684890747\nepoch: 12, step: 100, loss: 0.23621007800102234\nepoch: 12, step: 200, loss: 0.14413152635097504\nepoch: 12, step: 300, loss: 0.18136747181415558\nepoch :12,  accuracy: 0.7684999704360962\nepoch: 13, step: 0, loss: 0.2148045301437378\nepoch: 13, step: 100, loss: 0.17527896165847778\nepoch: 13, step: 200, loss: 0.14206036925315857\nepoch: 13, step: 300, loss: 0.3001616597175598\nepoch :13,  accuracy: 0.7710000276565552\nepoch: 14, step: 0, loss: 0.17836517095565796\nepoch: 14, step: 100, loss: 0.15078315138816833\nepoch: 14, step: 200, loss: 0.1499781310558319\nepoch: 14, step: 300, loss: 0.1716669797897339\nepoch :14,  accuracy: 0.7756999731063843\nepoch: 15, step: 0, loss: 0.11908295750617981\nepoch: 15, step: 100, loss: 0.07572852075099945\nepoch: 15, step: 200, loss: 0.11259938776493073\nepoch: 15, step: 300, loss: 0.08350634574890137\nepoch :15,  accuracy: 0.7645000219345093\nepoch: 16, step: 0, loss: 0.14891721308231354\nepoch: 16, step: 100, loss: 0.05504985898733139\nepoch: 16, step: 200, loss: 0.048653699457645416\nepoch: 16, step: 300, loss: 0.0580693818628788\nepoch :16,  accuracy: 0.7811999917030334\nepoch: 17, step: 0, loss: 0.0940525010228157\nepoch: 17, step: 100, loss: 0.03737901523709297\nepoch: 17, step: 200, loss: 0.05449836701154709\nepoch: 17, step: 300, loss: 0.06109433248639107\nepoch :17,  accuracy: 0.782800018787384\nepoch: 18, step: 0, loss: 0.043426867574453354\nepoch: 18, step: 100, loss: 0.04597613215446472\nepoch: 18, step: 200, loss: 0.050596073269844055\nepoch: 18, step: 300, loss: 0.05097828805446625\nepoch :18,  accuracy: 0.7678999900817871\nepoch: 19, step: 0, loss: 0.06979882717132568\nepoch: 19, step: 100, loss: 0.11632745712995529\nepoch: 19, step: 200, loss: 0.020952751860022545\nepoch: 19, step: 300, loss: 0.16280816495418549\nepoch :19,  accuracy: 0.765500009059906\nepoch: 20, step: 0, loss: 0.16993552446365356\nepoch: 20, step: 100, loss: 0.031179120764136314\nepoch: 20, step: 200, loss: 0.035437338054180145\nepoch: 20, step: 300, loss: 0.016828522086143494\nepoch :20,  accuracy: 0.7817999720573425\nepoch: 21, step: 0, loss: 0.015085652470588684\nepoch: 21, step: 100, loss: 0.016629895195364952\nepoch: 21, step: 200, loss: 0.017847687005996704\nepoch: 21, step: 300, loss: 0.03461400792002678\nepoch :21,  accuracy: 0.7835999727249146\nepoch: 22, step: 0, loss: 0.034610725939273834\nepoch: 22, step: 100, loss: 0.0271458700299263\nepoch: 22, step: 200, loss: 0.04017973318696022\nepoch: 22, step: 300, loss: 0.053623273968696594\nepoch :22,  accuracy: 0.7727000117301941\nepoch: 23, step: 0, loss: 0.04033336043357849\nepoch: 23, step: 100, loss: 0.008153731003403664\nepoch: 23, step: 200, loss: 0.018876777961850166\nepoch: 23, step: 300, loss: 0.08042863756418228\nepoch :23,  accuracy: 0.7770000100135803\nepoch: 24, step: 0, loss: 0.02081415243446827\nepoch: 24, step: 100, loss: 0.02042427286505699\nepoch: 24, step: 200, loss: 0.017907626926898956\nepoch: 24, step: 300, loss: 0.04965786263346672\n"
    },
    {
     "output_type": "error",
     "ename": "KeyboardInterrupt",
     "evalue": "",
     "traceback": [
      "\u001b[0;31m---------------------------------------------------------------------------\u001b[0m",
      "\u001b[0;31mKeyboardInterrupt\u001b[0m                         Traceback (most recent call last)",
      "\u001b[0;32m<ipython-input-21-16a0a7d905ab>\u001b[0m in \u001b[0;36m<module>\u001b[0;34m\u001b[0m\n\u001b[0;32m----> 1\u001b[0;31m \u001b[0mVGG16\u001b[0m\u001b[0;34m(\u001b[0m\u001b[0;34m)\u001b[0m\u001b[0;34m\u001b[0m\u001b[0;34m\u001b[0m\u001b[0m\n\u001b[0m",
      "\u001b[0;32m<ipython-input-20-85e820a25314>\u001b[0m in \u001b[0;36mVGG16\u001b[0;34m()\u001b[0m\n\u001b[1;32m      9\u001b[0m \u001b[0;34m\u001b[0m\u001b[0m\n\u001b[1;32m     10\u001b[0m     \u001b[0;32mfor\u001b[0m \u001b[0mepoch\u001b[0m \u001b[0;32min\u001b[0m \u001b[0mrange\u001b[0m\u001b[0;34m(\u001b[0m\u001b[0;36m50\u001b[0m\u001b[0;34m)\u001b[0m\u001b[0;34m:\u001b[0m\u001b[0;34m\u001b[0m\u001b[0;34m\u001b[0m\u001b[0m\n\u001b[0;32m---> 11\u001b[0;31m         \u001b[0;32mfor\u001b[0m \u001b[0mstep\u001b[0m\u001b[0;34m,\u001b[0m \u001b[0;34m(\u001b[0m\u001b[0mx\u001b[0m\u001b[0;34m,\u001b[0m \u001b[0my\u001b[0m\u001b[0;34m)\u001b[0m \u001b[0;32min\u001b[0m \u001b[0menumerate\u001b[0m\u001b[0;34m(\u001b[0m\u001b[0mtrain_db\u001b[0m\u001b[0;34m)\u001b[0m\u001b[0;34m:\u001b[0m\u001b[0;34m\u001b[0m\u001b[0;34m\u001b[0m\u001b[0m\n\u001b[0m\u001b[1;32m     12\u001b[0m             \u001b[0;32mwith\u001b[0m \u001b[0mtf\u001b[0m\u001b[0;34m.\u001b[0m\u001b[0mGradientTape\u001b[0m\u001b[0;34m(\u001b[0m\u001b[0;34m)\u001b[0m \u001b[0;32mas\u001b[0m \u001b[0mtape\u001b[0m\u001b[0;34m:\u001b[0m\u001b[0;34m\u001b[0m\u001b[0;34m\u001b[0m\u001b[0m\n\u001b[1;32m     13\u001b[0m                 \u001b[0mout\u001b[0m \u001b[0;34m=\u001b[0m \u001b[0mconv_net\u001b[0m\u001b[0;34m(\u001b[0m\u001b[0mx\u001b[0m\u001b[0;34m)\u001b[0m\u001b[0;34m\u001b[0m\u001b[0;34m\u001b[0m\u001b[0m\n",
      "\u001b[0;32m~/.local/lib/python3.7/site-packages/tensorflow_core/python/data/ops/iterator_ops.py\u001b[0m in \u001b[0;36m__next__\u001b[0;34m(self)\u001b[0m\n\u001b[1;32m    628\u001b[0m \u001b[0;34m\u001b[0m\u001b[0m\n\u001b[1;32m    629\u001b[0m   \u001b[0;32mdef\u001b[0m \u001b[0m__next__\u001b[0m\u001b[0;34m(\u001b[0m\u001b[0mself\u001b[0m\u001b[0;34m)\u001b[0m\u001b[0;34m:\u001b[0m  \u001b[0;31m# For Python 3 compatibility\u001b[0m\u001b[0;34m\u001b[0m\u001b[0;34m\u001b[0m\u001b[0m\n\u001b[0;32m--> 630\u001b[0;31m     \u001b[0;32mreturn\u001b[0m \u001b[0mself\u001b[0m\u001b[0;34m.\u001b[0m\u001b[0mnext\u001b[0m\u001b[0;34m(\u001b[0m\u001b[0;34m)\u001b[0m\u001b[0;34m\u001b[0m\u001b[0;34m\u001b[0m\u001b[0m\n\u001b[0m\u001b[1;32m    631\u001b[0m \u001b[0;34m\u001b[0m\u001b[0m\n\u001b[1;32m    632\u001b[0m   \u001b[0;32mdef\u001b[0m \u001b[0m_next_internal\u001b[0m\u001b[0;34m(\u001b[0m\u001b[0mself\u001b[0m\u001b[0;34m)\u001b[0m\u001b[0;34m:\u001b[0m\u001b[0;34m\u001b[0m\u001b[0;34m\u001b[0m\u001b[0m\n",
      "\u001b[0;32m~/.local/lib/python3.7/site-packages/tensorflow_core/python/data/ops/iterator_ops.py\u001b[0m in \u001b[0;36mnext\u001b[0;34m(self)\u001b[0m\n\u001b[1;32m    672\u001b[0m     \u001b[0;34m\"\"\"Returns a nested structure of `Tensor`s containing the next element.\"\"\"\u001b[0m\u001b[0;34m\u001b[0m\u001b[0;34m\u001b[0m\u001b[0m\n\u001b[1;32m    673\u001b[0m     \u001b[0;32mtry\u001b[0m\u001b[0;34m:\u001b[0m\u001b[0;34m\u001b[0m\u001b[0;34m\u001b[0m\u001b[0m\n\u001b[0;32m--> 674\u001b[0;31m       \u001b[0;32mreturn\u001b[0m \u001b[0mself\u001b[0m\u001b[0;34m.\u001b[0m\u001b[0m_next_internal\u001b[0m\u001b[0;34m(\u001b[0m\u001b[0;34m)\u001b[0m\u001b[0;34m\u001b[0m\u001b[0;34m\u001b[0m\u001b[0m\n\u001b[0m\u001b[1;32m    675\u001b[0m     \u001b[0;32mexcept\u001b[0m \u001b[0merrors\u001b[0m\u001b[0;34m.\u001b[0m\u001b[0mOutOfRangeError\u001b[0m\u001b[0;34m:\u001b[0m\u001b[0;34m\u001b[0m\u001b[0;34m\u001b[0m\u001b[0m\n\u001b[1;32m    676\u001b[0m       \u001b[0;32mraise\u001b[0m \u001b[0mStopIteration\u001b[0m\u001b[0;34m\u001b[0m\u001b[0;34m\u001b[0m\u001b[0m\n",
      "\u001b[0;32m~/.local/lib/python3.7/site-packages/tensorflow_core/python/data/ops/iterator_ops.py\u001b[0m in \u001b[0;36m_next_internal\u001b[0;34m(self)\u001b[0m\n\u001b[1;32m    657\u001b[0m             \u001b[0mself\u001b[0m\u001b[0;34m.\u001b[0m\u001b[0m_iterator_resource\u001b[0m\u001b[0;34m,\u001b[0m\u001b[0;34m\u001b[0m\u001b[0;34m\u001b[0m\u001b[0m\n\u001b[1;32m    658\u001b[0m             \u001b[0moutput_types\u001b[0m\u001b[0;34m=\u001b[0m\u001b[0mself\u001b[0m\u001b[0;34m.\u001b[0m\u001b[0m_flat_output_types\u001b[0m\u001b[0;34m,\u001b[0m\u001b[0;34m\u001b[0m\u001b[0;34m\u001b[0m\u001b[0m\n\u001b[0;32m--> 659\u001b[0;31m             output_shapes=self._flat_output_shapes)\n\u001b[0m\u001b[1;32m    660\u001b[0m \u001b[0;34m\u001b[0m\u001b[0m\n\u001b[1;32m    661\u001b[0m       \u001b[0;32mtry\u001b[0m\u001b[0;34m:\u001b[0m\u001b[0;34m\u001b[0m\u001b[0;34m\u001b[0m\u001b[0m\n",
      "\u001b[0;32m~/.local/lib/python3.7/site-packages/tensorflow_core/python/ops/gen_dataset_ops.py\u001b[0m in \u001b[0;36miterator_get_next_sync\u001b[0;34m(iterator, output_types, output_shapes, name)\u001b[0m\n\u001b[1;32m   2467\u001b[0m         \u001b[0m_ctx\u001b[0m\u001b[0;34m.\u001b[0m\u001b[0m_context_handle\u001b[0m\u001b[0;34m,\u001b[0m \u001b[0mtld\u001b[0m\u001b[0;34m.\u001b[0m\u001b[0mdevice_name\u001b[0m\u001b[0;34m,\u001b[0m \u001b[0;34m\"IteratorGetNextSync\"\u001b[0m\u001b[0;34m,\u001b[0m \u001b[0mname\u001b[0m\u001b[0;34m,\u001b[0m\u001b[0;34m\u001b[0m\u001b[0;34m\u001b[0m\u001b[0m\n\u001b[1;32m   2468\u001b[0m         \u001b[0mtld\u001b[0m\u001b[0;34m.\u001b[0m\u001b[0mop_callbacks\u001b[0m\u001b[0;34m,\u001b[0m \u001b[0miterator\u001b[0m\u001b[0;34m,\u001b[0m \u001b[0;34m\"output_types\"\u001b[0m\u001b[0;34m,\u001b[0m \u001b[0moutput_types\u001b[0m\u001b[0;34m,\u001b[0m\u001b[0;34m\u001b[0m\u001b[0;34m\u001b[0m\u001b[0m\n\u001b[0;32m-> 2469\u001b[0;31m         \"output_shapes\", output_shapes)\n\u001b[0m\u001b[1;32m   2470\u001b[0m       \u001b[0;32mreturn\u001b[0m \u001b[0m_result\u001b[0m\u001b[0;34m\u001b[0m\u001b[0;34m\u001b[0m\u001b[0m\n\u001b[1;32m   2471\u001b[0m     \u001b[0;32mexcept\u001b[0m \u001b[0m_core\u001b[0m\u001b[0;34m.\u001b[0m\u001b[0m_FallbackException\u001b[0m\u001b[0;34m:\u001b[0m\u001b[0;34m\u001b[0m\u001b[0;34m\u001b[0m\u001b[0m\n",
      "\u001b[0;31mKeyboardInterrupt\u001b[0m: "
     ]
    }
   ],
   "source": [
    "VGG16()"
   ]
  },
  {
   "cell_type": "code",
   "execution_count": null,
   "metadata": {},
   "outputs": [],
   "source": []
  }
 ]
}