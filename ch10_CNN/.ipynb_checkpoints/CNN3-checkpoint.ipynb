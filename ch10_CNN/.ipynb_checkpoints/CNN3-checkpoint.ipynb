{
 "cells": [
  {
   "cell_type": "markdown",
   "metadata": {},
   "source": [
    "# 使用 TensorFlow 构建用于情感识别的卷积神经网络（CNN）"
   ]
  },
  {
   "cell_type": "code",
   "execution_count": null,
   "metadata": {},
   "outputs": [],
   "source": [
    "import tensorflow as tf\n",
    "import matplotlib.pyplot as plt \n",
    "import numpy as np\n",
    "import pandas as pd\n",
    "\n",
    "from sklearn.datasets import make_moons\n",
    "\n",
    "np.set_printoptions(threshold=16, suppress=True, precision=5)\n",
    "\n",
    "%matplotlib inline"
   ]
  },
  {
   "cell_type": "code",
   "execution_count": null,
   "metadata": {},
   "outputs": [],
   "source": [
    "df = pd.read_csv('datasets/fer2013/fer2013.csv')"
   ]
  },
  {
   "cell_type": "code",
   "execution_count": null,
   "metadata": {},
   "outputs": [],
   "source": [
    "print('total samples: ', df.shape[0])"
   ]
  },
  {
   "cell_type": "code",
   "execution_count": null,
   "metadata": {},
   "outputs": [],
   "source": [
    "df.keys()"
   ]
  },
  {
   "cell_type": "code",
   "execution_count": null,
   "metadata": {},
   "outputs": [],
   "source": [
    "# 0=Angry, 1=Disgust, 2=Fear, 3=Happy, 4=Sad, 5=Surprise, 6=Neutral\n",
    "emotion_cat = {0:'Angry', 1:'Disgust', 2:'Fear', 3:'Happy', 4:'Sad', 5:'Suprise', 6:'Neutral'}"
   ]
  },
  {
   "cell_type": "markdown",
   "metadata": {},
   "source": [
    "## 1. 探索性数据分析\n",
    "\n",
    "在构建任何机器学习模型之前，建议对数据集进行探索性数据分析。 这使你有机会发现数据集中的任何缺陷，如类之间的强烈不平衡，低质量图像等。"
   ]
  },
  {
   "cell_type": "code",
   "execution_count": null,
   "metadata": {},
   "outputs": [],
   "source": [
    "target_counts = df['emotion'].value_counts().reset_index(drop=False)\n",
    "target_counts.columns = ['emotion', 'num']\n",
    "target_counts['emotion'] = target_counts['emotion'].map(emotion_cat)\n",
    "target_counts"
   ]
  },
  {
   "cell_type": "markdown",
   "metadata": {},
   "source": [
    "类不平衡\n",
    "\n"
   ]
  },
  {
   "cell_type": "markdown",
   "metadata": {},
   "source": [
    "查看图片"
   ]
  },
  {
   "cell_type": "code",
   "execution_count": null,
   "metadata": {},
   "outputs": [],
   "source": [
    "# pixel 转成整数\n",
    "df['pixels'] = df['pixels'].apply(lambda x: [int(pix) / 255 for pix in x.split()])"
   ]
  },
  {
   "cell_type": "code",
   "execution_count": null,
   "metadata": {},
   "outputs": [],
   "source": [
    "df.sample?"
   ]
  },
  {
   "cell_type": "code",
   "execution_count": null,
   "metadata": {
    "scrolled": true
   },
   "outputs": [],
   "source": [
    "# 随机查看10张\n",
    "random_seed = 2\n",
    "samples = df.sample(10, random_state=random_seed)\n",
    "f, axes = plt.subplots(2, 5, figsize=(20, 10))\n",
    "\n",
    "for index, (_, row) in enumerate(samples.iterrows()):  # dataframe 迭代行\n",
    "    img = np.array(row['pixels']).reshape(48,48)\n",
    "    axes[index // 5, index %5].imshow(img, cmap='gray')\n",
    "    axes[index // 5, index %5].set_title(emotion_cat[row['emotion']])"
   ]
  },
  {
   "cell_type": "markdown",
   "metadata": {},
   "source": [
    "## 2. 数据集划分: 训练/开发"
   ]
  },
  {
   "cell_type": "code",
   "execution_count": null,
   "metadata": {},
   "outputs": [],
   "source": [
    "train_data = df[df['Usage'] == 'Training']\n",
    "train_data.shape"
   ]
  },
  {
   "cell_type": "code",
   "execution_count": null,
   "metadata": {},
   "outputs": [],
   "source": [
    "dev_data = df[df['Usage']!= 'Training']\n",
    "dev_data.shape"
   ]
  },
  {
   "cell_type": "code",
   "execution_count": null,
   "metadata": {},
   "outputs": [],
   "source": [
    "X_train = train_data['pixels'].tolist()\n",
    "y_train = train_data['emotion'].values# .reshape(-1, 1)\n",
    "\n",
    "X_train = np.array(X_train).reshape(-1, 48, 48, 1)\n",
    "X_train.shape, y_train.shape"
   ]
  },
  {
   "cell_type": "code",
   "execution_count": null,
   "metadata": {},
   "outputs": [],
   "source": [
    "X_dev = dev_data['pixels'].tolist()\n",
    "y_dev = dev_data['emotion'].values# .reshape(-1, 1)\n",
    "X_dev = np.array(X_dev).reshape(-1, 48, 48, 1)\n",
    "X_dev.shape, y_dev.shape"
   ]
  },
  {
   "cell_type": "code",
   "execution_count": null,
   "metadata": {},
   "outputs": [],
   "source": [
    "batch_size = 64\n",
    "train_db = tf.data.Dataset.from_tensor_slices((X_train, y_train)).shuffle(1000).batch(batch_size)\n",
    "dev_db = tf.data.Dataset.from_tensor_slices((X_dev, y_dev)).shuffle(10000).batch(batch_size)"
   ]
  },
  {
   "cell_type": "markdown",
   "metadata": {},
   "source": [
    "## 3. 创建CNN模型"
   ]
  },
  {
   "cell_type": "code",
   "execution_count": null,
   "metadata": {},
   "outputs": [],
   "source": [
    "from tensorflow.keras import layers, Model, Input, losses\n",
    "from tensorflow.keras.utils import plot_model"
   ]
  },
  {
   "cell_type": "code",
   "execution_count": null,
   "metadata": {},
   "outputs": [],
   "source": [
    "class EmotionaRecognition(Model):\n",
    "    def __init__(self, num_class, device='cpu:0'):\n",
    "        super().__init__()\n",
    "    \n",
    "    def call(self, inputs):\n",
    "        pass"
   ]
  },
  {
   "cell_type": "code",
   "execution_count": null,
   "metadata": {},
   "outputs": [],
   "source": [
    "layers.Conv2D?"
   ]
  },
  {
   "cell_type": "code",
   "execution_count": null,
   "metadata": {},
   "outputs": [],
   "source": [
    "def get_emotion_recognition(num_class):\n",
    "    def cnn_block(inputs, filters, stride=1):\n",
    "        out = layers.Conv2D(filters, kernel_size=(3, 3), strides=stride, padding='same')(inputs)\n",
    "        out = layers.BatchNormalization()(out)\n",
    "        out = layers.ReLU()(out)\n",
    "        \n",
    "        out = layers.Conv2D(filters, kernel_size=(3, 3), strides=stride, padding='same')(out)\n",
    "        out = layers.BatchNormalization()(out)\n",
    "        out = layers.MaxPool2D(2)(out)\n",
    "        \n",
    "        return out\n",
    "    inputs = Input((48, 48, 1))\n",
    "    out = cnn_block(inputs, 16)\n",
    "    out = cnn_block(out, 32)\n",
    "    out = cnn_block(out, 64)\n",
    "    out = cnn_block(out, 128)\n",
    "    \n",
    "    out = layers.Flatten()(out)\n",
    "    out = layers.Dense(256, activation='relu')(out)\n",
    "    out = layers.Dense(128, activation='relu')(out)\n",
    "    out = layers.Dense(num_class)(out)\n",
    "    \n",
    "    model = Model(inputs, out)\n",
    "    return model"
   ]
  },
  {
   "cell_type": "code",
   "execution_count": null,
   "metadata": {},
   "outputs": [],
   "source": [
    "model = get_emotion_recognition(7)"
   ]
  },
  {
   "cell_type": "code",
   "execution_count": null,
   "metadata": {
    "scrolled": true
   },
   "outputs": [],
   "source": [
    "model.summary()"
   ]
  },
  {
   "cell_type": "code",
   "execution_count": null,
   "metadata": {},
   "outputs": [],
   "source": [
    "plot_model(model, show_shapes=True)"
   ]
  },
  {
   "cell_type": "code",
   "execution_count": null,
   "metadata": {},
   "outputs": [],
   "source": [
    "model.compile(optimizer='adam', \n",
    "              loss='sparse_categorical_crossentropy',\n",
    "              metrics=['accuracy'])\n",
    "callbacks =[keras.callbacks.EarlyStopping(monitor='val_loss', patience=3)]\n",
    "model.fit(train_db, epochs=50, validation_data=dev_db, callbacks=callbacks)"
   ]
  },
  {
   "cell_type": "code",
   "execution_count": null,
   "metadata": {},
   "outputs": [],
   "source": []
  }
 ],
 "metadata": {
  "kernelspec": {
   "display_name": "Python 3",
   "language": "python",
   "name": "python3"
  },
  "language_info": {
   "codemirror_mode": {
    "name": "ipython",
    "version": 3
   },
   "file_extension": ".py",
   "mimetype": "text/x-python",
   "name": "python",
   "nbconvert_exporter": "python",
   "pygments_lexer": "ipython3",
   "version": "3.7.4"
  }
 },
 "nbformat": 4,
 "nbformat_minor": 2
}
