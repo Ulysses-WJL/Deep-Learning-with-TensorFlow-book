{
 "cells": [
  {
   "cell_type": "markdown",
   "metadata": {},
   "source": [
    "# Keras 高层接口\n",
    "Keras 是一个主要由Python 语言开发的开源神经网络计算库，在TensorFlow 2 版本中，Keras被正式确定为TensorFlow 的高层唯一接口API.在TensorFlow 中，Keras 被实现在tf.keras 子模块中.\n",
    "\n",
    "Keras 与tf.keras的区别与联系:\n",
    "- Keras :安装标准的Keras 库就可以方便地调用TensorFlow、CNTK 等后端完成加速计算.\n",
    "- tf.keras:它与TensorFlow 深度融合，且只能基于TensorFlow 后端运算，并对TensorFlow的支持更完美"
   ]
  },
  {
   "cell_type": "markdown",
   "metadata": {},
   "source": [
    "## tf.keras 常见功能模块\n",
    "### 常见网络层类\n",
    "对于常见的神经网络层，可以使用张量方式的底层接口函数来实现，这些接口函数一般在`tf.nn `模块中.\n",
    "\n",
    "更常用地，对于常见的网络层，我们一般直接使用层方式来完成模型的搭建，`tf.keras.layers`命名空间下提供了大量常见网络层的类全连接层、激活函数层、池化层、卷积层、循环神经网络层等. 对于这些网络层类，只需要在创建时指定网络层的相关参数，并调用`__call__`方法即可完成前向计算。在调用\\__call__方法时，Keras 会自动调用每个层的前向传播逻辑，这些逻辑一般实现在类的call 函数中"
   ]
  },
  {
   "cell_type": "code",
   "execution_count": null,
   "metadata": {},
   "outputs": [],
   "source": [
    "import numpy as np\n",
    "import tensorflow as tf\n",
    "from tensorflow import keras\n",
    "from tensorflow.keras import layers, Sequential\n",
    "\n",
    "gpus = tf.config.experimental.list_physical_devices('GPU')\n",
    "try:\n",
    "    for gpu in gpus:\n",
    "        tf.config.experimental.set_memory_growth(gpu, True)\n",
    "except RuntimeError as e:\n",
    "    print(e)"
   ]
  },
  {
   "cell_type": "code",
   "execution_count": null,
   "metadata": {},
   "outputs": [],
   "source": [
    "# 例如创建softmax层\n",
    "x = tf.constant([0.1, 0.5, 2, 1])\n",
    "layer = layers.Softmax(axis=-1)\n",
    "out = layer(x)  # 调用softmax前向计算\n",
    "out"
   ]
  },
  {
   "cell_type": "code",
   "execution_count": null,
   "metadata": {},
   "outputs": [],
   "source": [
    "out = tf.nn.softmax(x)  # 使用函数形式\n",
    "out"
   ]
  },
  {
   "cell_type": "markdown",
   "metadata": {},
   "source": [
    "### 网络容器Sequential\n",
    "当网络层数变得较深时，可以通过Keras 提供的网络容器Sequential 将多个网络层封装成一个大网络模型，只需要调用网络模型的实例一次即可完成数据从第一层到最末层的顺序传播运算."
   ]
  },
  {
   "cell_type": "code",
   "execution_count": null,
   "metadata": {},
   "outputs": [],
   "source": [
    "network = Sequential([  # 封装为网络\n",
    "    layers.Dense(3, activation=None),  # 全连接层, 不使用激活函数\n",
    "    layers.ReLU(),  # 激活函数层\n",
    "    layers.Dense(2, activation=None),\n",
    "    layers.ReLU(),\n",
    "])"
   ]
  },
  {
   "cell_type": "code",
   "execution_count": null,
   "metadata": {},
   "outputs": [],
   "source": [
    "x = tf.random.normal([4, 3])\n",
    "network(x)"
   ]
  },
  {
   "cell_type": "code",
   "execution_count": null,
   "metadata": {},
   "outputs": [],
   "source": [
    "# add() 方法动态创建网络层\n",
    "network = Sequential([])\n",
    "layers_num = 2 # 堆叠2 次\n",
    "for _ in range(layers_num):\n",
    "    network.add(layers.Dense(3))\n",
    "    network.add(layers.ReLU())\n",
    "network.build(input_shape=(1, 4))  # 创建网络参数 第一个batch_size任意数\n",
    "network.summary()\n",
    "# Trainable params 待优化的参数"
   ]
  },
  {
   "cell_type": "code",
   "execution_count": null,
   "metadata": {},
   "outputs": [],
   "source": [
    "for params in network.trainable_variables:\n",
    "    print(params.name, params.shape)  # 参数名 , shape"
   ]
  },
  {
   "cell_type": "markdown",
   "metadata": {},
   "source": [
    "## 模型装配、训练与测试\n",
    "在训练网络时，一般的流程是通过前向计算获得网络的输出值，再通过损失函数计算网络误差，然后通过自动求导工具计算梯度并更新，同时间隔性地测试网络的性能。对于这种常用的训练逻辑，可以直接通过Keras 提供的模型装配与训练等高层接口实现，简洁清晰."
   ]
  },
  {
   "cell_type": "code",
   "execution_count": null,
   "metadata": {},
   "outputs": [],
   "source": [
    "from sklearn.datasets import load_digits\n",
    "from sklearn.preprocessing import scale\n",
    "from sklearn.model_selection import train_test_split\n",
    "\n",
    "digits = load_digits()\n",
    "# data = scale(digits.data)"
   ]
  },
  {
   "cell_type": "code",
   "execution_count": null,
   "metadata": {},
   "outputs": [],
   "source": [
    "digits.images[0]"
   ]
  },
  {
   "cell_type": "code",
   "execution_count": null,
   "metadata": {},
   "outputs": [],
   "source": [
    "def process(X, y):\n",
    "    X = tf.cast(X, dtype=tf.float32) / 255.\n",
    "    X = tf.reshape(X, (-1, 28*28))\n",
    "    y = tf.cast(y, dtype=tf.int32)\n",
    "    y_onehot = tf.one_hot(y, depth=10)\n",
    "    return X, y_onehot"
   ]
  },
  {
   "cell_type": "code",
   "execution_count": null,
   "metadata": {},
   "outputs": [],
   "source": [
    "import matplotlib.pyplot as plt\n",
    "\n",
    "%matplotlib inline\n",
    "\n",
    "plt.imshow(digits.images[0].reshape(8, 8)/255., cmap=plt.cm.bone)"
   ]
  },
  {
   "cell_type": "code",
   "execution_count": null,
   "metadata": {},
   "outputs": [],
   "source": [
    "(X_train, y_train), (X_test, y_test) = tf.keras.datasets.mnist.load_data()\n",
    "# X_train, X_test, y_train, y_test = train_test_split(data, digits.target, test_size=0.3, random_state=42)\n",
    "train_db = tf.data.Dataset.from_tensor_slices((X_train, y_train))\n",
    "test_db = tf.data.Dataset.from_tensor_slices((X_test, y_test))\n",
    "train_db = train_db.shuffle(10000).batch(512).map(process)\n",
    "test_db = test_db.shuffle(10000).batch(512).map(process)"
   ]
  },
  {
   "cell_type": "code",
   "execution_count": null,
   "metadata": {},
   "outputs": [],
   "source": [
    "X_train.shape"
   ]
  },
  {
   "cell_type": "code",
   "execution_count": null,
   "metadata": {},
   "outputs": [],
   "source": [
    "x1, y1 = next(iter(train_db))\n",
    "x1.shape, y1.shape"
   ]
  },
  {
   "cell_type": "code",
   "execution_count": null,
   "metadata": {},
   "outputs": [],
   "source": [
    "# plt.imshow(x1[0].numpy().reshape(28, 28), cmap=plt.cm.bone)"
   ]
  },
  {
   "cell_type": "markdown",
   "metadata": {},
   "source": [
    "### 模型装配\n",
    "`keras.layers.Layer` 类是网络层的母类, 定义了网络层的一些常见功能，如添加权值、管理权值列表等.\n",
    "\n",
    "`keras.Model`类是网络的母类, 除了具有Layer 类的功能，还添加了保存模型、加载模型、训练与测试模型等便捷功能。Sequential 也是Model 的子类，因此具有Model 类的所有功能。"
   ]
  },
  {
   "cell_type": "code",
   "execution_count": null,
   "metadata": {},
   "outputs": [],
   "source": [
    "# 手写数字识别MNIST\n",
    "# 创建5层网络\n",
    "network = Sequential([\n",
    "    layers.Dense(256, activation='relu'),\n",
    "    layers.Dense(128, activation='relu'),\n",
    "    layers.Dense(64, activation='relu',),\n",
    "    layers.Dense(32, activation='relu'),\n",
    "    layers.Dense(10),\n",
    "])\n",
    "network.build(input_shape=(None, 28*28))\n",
    "network.summary()"
   ]
  },
  {
   "cell_type": "markdown",
   "metadata": {},
   "source": [
    "建立网络后的训练流程:\n",
    "\n",
    "- 迭代数据集多次 \n",
    "- 每次按批产生训练数据、前向计算\n",
    "- 通过损失函数计算误差值\n",
    "- 反向传播自动计算梯度、更新网络参数\n",
    "\n",
    "在Keras 中提供了compile()和fit()函数方便实现上述逻辑"
   ]
  },
  {
   "cell_type": "code",
   "execution_count": null,
   "metadata": {},
   "outputs": [],
   "source": [
    "from tensorflow.keras import optimizers, losses\n",
    "\n",
    "network.compile(optimizer=optimizers.Adam(lr=0.01),  # Adam优化器, 学习率0.01\n",
    "               loss=losses.CategoricalCrossentropy(from_logits=True),  # 交叉熵损失,包含softmax\n",
    "               metrics=['accuracy'],   # 指标为准确率\n",
    "               )"
   ]
  },
  {
   "cell_type": "markdown",
   "metadata": {},
   "source": [
    "### 模型训练\n",
    "模型装配完成后，即可通过fit()函数送入待训练的数据集和验证用的数据集，这一步称为模型训练。"
   ]
  },
  {
   "cell_type": "code",
   "execution_count": null,
   "metadata": {},
   "outputs": [],
   "source": [
    "history = network.fit(train_db, epochs=10,\n",
    "                      validation_data=test_db,\n",
    "                      validation_freq=2)  # 每2个epoch验证一次"
   ]
  },
  {
   "cell_type": "code",
   "execution_count": null,
   "metadata": {},
   "outputs": [],
   "source": [
    "history.history"
   ]
  },
  {
   "cell_type": "markdown",
   "metadata": {},
   "source": [
    "### 模型测试\n",
    "Model 基类除了可以便捷地完成网络的装配与训练、验证，还可以非常方便的预测和测试."
   ]
  },
  {
   "cell_type": "code",
   "execution_count": null,
   "metadata": {},
   "outputs": [],
   "source": [
    "x, y = next(iter(test_db))  # 加载一个batch数据"
   ]
  },
  {
   "cell_type": "code",
   "execution_count": null,
   "metadata": {},
   "outputs": [],
   "source": [
    "y.shape"
   ]
  },
  {
   "cell_type": "code",
   "execution_count": null,
   "metadata": {},
   "outputs": [],
   "source": [
    "out = network.predict(x)  # 模型预测，预测结果保存在out 中\n",
    "y_pred = np.argmax(out, axis=-1)  "
   ]
  },
  {
   "cell_type": "code",
   "execution_count": null,
   "metadata": {},
   "outputs": [],
   "source": [
    "out.shape"
   ]
  },
  {
   "cell_type": "code",
   "execution_count": null,
   "metadata": {},
   "outputs": [],
   "source": [
    "y_t = np.argmax(y, axis=-1)"
   ]
  },
  {
   "cell_type": "code",
   "execution_count": null,
   "metadata": {},
   "outputs": [],
   "source": [
    "np.sum(y_t.ravel() == y_pred.ravel()) / len(y_pred)"
   ]
  },
  {
   "cell_type": "code",
   "execution_count": null,
   "metadata": {},
   "outputs": [],
   "source": [
    "network.evaluate(test_db)  # test_db上的性能测试"
   ]
  },
  {
   "cell_type": "markdown",
   "metadata": {},
   "source": [
    "## 模型的保存和加载\n",
    "### 张量方式"
   ]
  },
  {
   "cell_type": "code",
   "execution_count": null,
   "metadata": {},
   "outputs": [],
   "source": [
    "network.save_weights('mnist_weights.ckpt')"
   ]
  },
  {
   "cell_type": "code",
   "execution_count": null,
   "metadata": {},
   "outputs": [],
   "source": [
    "del network"
   ]
  },
  {
   "cell_type": "code",
   "execution_count": null,
   "metadata": {},
   "outputs": [],
   "source": [
    "network = Sequential([\n",
    "    layers.Dense(256, activation='relu'),\n",
    "    layers.Dense(128, activation='relu'),\n",
    "    layers.Dense(64, activation='relu'),\n",
    "    layers.Dense(32, activation='relu'),\n",
    "    layers.Dense(10),\n",
    "])\n",
    "network.compile(optimizer=optimizers.Adam(lr=0.01),\n",
    "               loss=losses.CategoricalCrossentropy(from_logits=True),\n",
    "               metrics=['accuracy'])"
   ]
  },
  {
   "cell_type": "code",
   "execution_count": null,
   "metadata": {},
   "outputs": [],
   "source": [
    "network.load_weights('mnist_weights.ckpt')"
   ]
  },
  {
   "cell_type": "code",
   "execution_count": null,
   "metadata": {},
   "outputs": [],
   "source": [
    "network.build(input_shape=(4, 8*8))\n",
    "network.summary()"
   ]
  },
  {
   "cell_type": "markdown",
   "metadata": {},
   "source": [
    "这种保存与加载网络的方式最为轻量级，文件中保存的仅仅是张量参数的数值，并没有其\n",
    "它额外的结构参数。但是它需要使用相同的网络结构才能够正确恢复网络状态，因此一般\n",
    "在拥有网络源文件的情况下使用"
   ]
  },
  {
   "cell_type": "markdown",
   "metadata": {},
   "source": [
    "### 网络方式\n",
    "\n",
    "model.h5 文件除了保存了模型参数外，还应保存了网络结构信息，不需要提前\n",
    "创建模型即可直接从文件中恢复出网络network 对象"
   ]
  },
  {
   "cell_type": "code",
   "execution_count": null,
   "metadata": {},
   "outputs": [],
   "source": [
    "network.save('model.h5')\n",
    "del network"
   ]
  },
  {
   "cell_type": "code",
   "execution_count": null,
   "metadata": {},
   "outputs": [],
   "source": [
    "network = keras.models.load_model('model.h5')\n",
    "network.build(input_shape=(4, 8*8))\n",
    "network.summary()"
   ]
  },
  {
   "cell_type": "markdown",
   "metadata": {},
   "source": [
    "### SavedModel\n",
    "SavedModel 方式具有平台无关性"
   ]
  },
  {
   "cell_type": "code",
   "execution_count": null,
   "metadata": {},
   "outputs": [],
   "source": [
    "tf.saved_model.save(network, 'model-savedmodel')"
   ]
  },
  {
   "cell_type": "code",
   "execution_count": null,
   "metadata": {},
   "outputs": [],
   "source": [
    "network = tf.saved_model.load('model-savedmodel')\n",
    "network"
   ]
  },
  {
   "cell_type": "code",
   "execution_count": null,
   "metadata": {},
   "outputs": [],
   "source": [
    "tf.saved_model.load?"
   ]
  },
  {
   "cell_type": "code",
   "execution_count": null,
   "metadata": {},
   "outputs": [],
   "source": [
    "acc_meter = keras.metrics.CategoricalAccuracy()\n",
    "for x, y in test_db:\n",
    "    pred = network(x)\n",
    "    acc_meter.update_state(y_true=y, y_pred=pred)\n",
    "print(\"Test Accuracy:%f\" % acc_meter.result())"
   ]
  },
  {
   "cell_type": "markdown",
   "metadata": {},
   "source": [
    "## 自定义网络\n",
    "### 自定义网络层\n",
    "\n",
    "至少需要实现初始化\\__init__方法和前向传播逻辑call 方法"
   ]
  },
  {
   "cell_type": "code",
   "execution_count": null,
   "metadata": {},
   "outputs": [],
   "source": [
    "layers.Layer.add_weight"
   ]
  },
  {
   "cell_type": "code",
   "execution_count": null,
   "metadata": {},
   "outputs": [],
   "source": [
    "layers.Layer?"
   ]
  },
  {
   "cell_type": "code",
   "execution_count": null,
   "metadata": {},
   "outputs": [],
   "source": [
    "class MyDense(layers.Layer):\n",
    "    def __init__(self, input_dim, out_dim):\n",
    "        super().__init__()\n",
    "        # 创建权值张量并添加到类管理列表中，设置为需要优化\n",
    "        self.kernel = self.add_weight(shape=(input_dim, out_dim), trainable=True)\n",
    "        # 没有偏置\n",
    "    def call(self, inputs, training=None):\n",
    "        # 实现前向计算\n",
    "        out = inputs @ self.kernel\n",
    "        out = tf.nn.relu(out)\n",
    "        return out"
   ]
  },
  {
   "cell_type": "code",
   "execution_count": null,
   "metadata": {},
   "outputs": [],
   "source": [
    "net = MyDense(4, 3)\n",
    "net.weights, net.trainable_variables\n",
    "# 类初始化中创建为tf.Variable类型的类成员变量也会自动纳入张量管理中"
   ]
  },
  {
   "cell_type": "code",
   "execution_count": null,
   "metadata": {},
   "outputs": [],
   "source": [
    "net.variables"
   ]
  },
  {
   "cell_type": "code",
   "execution_count": null,
   "metadata": {},
   "outputs": [],
   "source": [
    "x = tf.random.normal([3, 4])\n",
    "x"
   ]
  },
  {
   "cell_type": "code",
   "execution_count": null,
   "metadata": {},
   "outputs": [],
   "source": [
    "net(x)"
   ]
  },
  {
   "cell_type": "markdown",
   "metadata": {},
   "source": [
    "### 自定义网络\n",
    "\n",
    "Sequential 容器适合于数据按序从第一层传播到第二层，再从第二层传播到第三层，以此规律传播的网络模型.\n",
    "\n",
    "对于复杂的网络结构, 使用自定义网络类更加灵活"
   ]
  },
  {
   "cell_type": "code",
   "execution_count": null,
   "metadata": {},
   "outputs": [],
   "source": [
    "network1 = Sequential([\n",
    "    MyDense(784, 256), \n",
    "    MyDense(256, 128), \n",
    "    MyDense(128, 64), \n",
    "    MyDense(64, 32), \n",
    "    MyDense(32, 10), \n",
    "])\n",
    "network1.build(input_shape=(None, 28*28))\n",
    "network1.summary()"
   ]
  },
  {
   "cell_type": "code",
   "execution_count": null,
   "metadata": {},
   "outputs": [],
   "source": [
    "class MyModel(keras.Model):# 自定义网络类，继承自 Model 基类\n",
    "    def __init__(self):\n",
    "        super().__init__()\n",
    "        self.fc1 = MyDense(28*28, 256)\n",
    "        self.fc2 = MyDense(256, 128)\n",
    "        self.fc3 = MyDense(128, 64)\n",
    "        self.fc4 = MyDense(64, 32)\n",
    "        self.fc5 = MyDense(32, 10)\n",
    "    def call(self, inputs, training=None):\n",
    "        # 自定义前向运算逻辑\n",
    "        x = self.fc1(inputs)\n",
    "        x = self.fc2(x)\n",
    "        x = self.fc3(x)\n",
    "        x = self.fc4(x)\n",
    "        x = self.fc5(x)\n",
    "        return x"
   ]
  },
  {
   "cell_type": "code",
   "execution_count": null,
   "metadata": {},
   "outputs": [],
   "source": [
    "my_model = MyModel()\n",
    "my_model.build(input_shape=(None, 28*28))\n",
    "my_model.summary()"
   ]
  },
  {
   "cell_type": "markdown",
   "metadata": {},
   "source": [
    "## 模型乐园\n",
    "对于常用的网络模型，如ResNet、VGG 等，不需要手动创建网络，可以直接从keras.applications 子模块中创建, 同时还可以通过设置weights 参数加载预训练的网络参数，非常方便."
   ]
  },
  {
   "cell_type": "code",
   "execution_count": null,
   "metadata": {},
   "outputs": [],
   "source": [
    "resnet = keras.applications.ResNet50(weights='imagenet', include_top=False)"
   ]
  },
  {
   "cell_type": "markdown",
   "metadata": {},
   "source": [
    "## 测量工具\n",
    "Keras 提供了一些常用的测量工具，位于keras.metrics 模块中，专门用于统计训练过程中常用的指标数据.\n",
    "Keras 的测量工具的使用方法一般有4 个主要步骤：\n",
    "1. 新建测量器;\n",
    "2. 写入数据;\n",
    "3. 读取统计数据;\n",
    "4. 清零测量器。"
   ]
  },
  {
   "cell_type": "code",
   "execution_count": null,
   "metadata": {},
   "outputs": [],
   "source": [
    "# 新建测量器\n",
    "loss_meter = keras.metrics.Mean()"
   ]
  },
  {
   "cell_type": "code",
   "execution_count": null,
   "metadata": {},
   "outputs": [],
   "source": [
    "loss = tf.random.normal((1, 32), seed=42)\n",
    "loss"
   ]
  },
  {
   "cell_type": "code",
   "execution_count": null,
   "metadata": {},
   "outputs": [],
   "source": [
    "# 写入数据\n",
    "loss_meter.update_state(loss)"
   ]
  },
  {
   "cell_type": "code",
   "execution_count": null,
   "metadata": {},
   "outputs": [],
   "source": [
    "# 读取统计信息\n",
    "# 在采样多次数据后，可以选择在需要的地方调用测量器的result()函数，来获取统计值\n",
    "loss_meter.result()"
   ]
  },
  {
   "cell_type": "code",
   "execution_count": null,
   "metadata": {},
   "outputs": [],
   "source": [
    "# 由于测量器会统计所有历史记录的数据，因此在启动新一轮统计时，有必要清除历史状态\n",
    "loss_meter.reset_states()"
   ]
  },
  {
   "cell_type": "code",
   "execution_count": null,
   "metadata": {},
   "outputs": [],
   "source": [
    "loss_meter.result()"
   ]
  },
  {
   "cell_type": "markdown",
   "metadata": {},
   "source": [
    "**计算准确率**"
   ]
  },
  {
   "cell_type": "code",
   "execution_count": null,
   "metadata": {},
   "outputs": [],
   "source": [
    "acc_meter = keras.metrics.Accuracy()\n",
    "# Accuracy 类的update_state函数的参数为预测值和真实值\n",
    "x, y_true = next(iter(test_db))\n",
    "out = network(x)  # (b, 10)\n",
    "y_pred = tf.argmax(out, axis=-1)\n",
    "y_pred"
   ]
  },
  {
   "cell_type": "code",
   "execution_count": null,
   "metadata": {},
   "outputs": [],
   "source": [
    "y_true = tf.argmax(y_true, axis=-1)\n",
    "y_true"
   ]
  },
  {
   "cell_type": "code",
   "execution_count": null,
   "metadata": {},
   "outputs": [],
   "source": [
    "acc_meter.update_state(y_true, y_pred)"
   ]
  },
  {
   "cell_type": "code",
   "execution_count": null,
   "metadata": {},
   "outputs": [],
   "source": [
    "acc_meter.result().numpy()"
   ]
  },
  {
   "cell_type": "code",
   "execution_count": null,
   "metadata": {},
   "outputs": [],
   "source": [
    "# 清零测量器\n",
    "acc_meter.reset_states()"
   ]
  },
  {
   "cell_type": "markdown",
   "metadata": {},
   "source": [
    "## 可视化\n",
    "---\n",
    "TensorFlow 提供了一个专门的可视化工具，叫做TensorBoard，它通过TensorFlow 将监控数据写入到文件系统，并利用Web后端监控对应的文件目录，从而可以允许用户从远程查看网络的监控数据.\n",
    "### 模型端\n",
    "在模型端，需要创建写入监控数据的Summary 类，并在需要的时候写入监控数据."
   ]
  },
  {
   "cell_type": "code",
   "execution_count": null,
   "metadata": {},
   "outputs": [],
   "source": [
    "log_dir = r'D:/tensorflow_data'\n",
    "# 创建监控类，监控数据将写入log_dir 目录\n",
    "summary_writer = tf.summary.create_file_writer(log_dir)\n",
    "acc_meter = keras.metrics.Accuracy()"
   ]
  },
  {
   "cell_type": "code",
   "execution_count": null,
   "metadata": {},
   "outputs": [],
   "source": [
    "train_db = train_db.repeat(20)"
   ]
  },
  {
   "cell_type": "code",
   "execution_count": null,
   "metadata": {},
   "outputs": [],
   "source": [
    "optimizer = optimizers.Adam(lr=0.01)\n",
    "for step, (x, y) in enumerate(train_db):\n",
    "    with tf.GradientTape() as tape:\n",
    "        out = my_model(x)\n",
    "        loss = losses.categorical_crossentropy(y, out, from_logits=True)\n",
    "    grads = tape.gradient(loss, my_model.trainable_variables)\n",
    "    optimizer.apply_gradients(zip(grads, my_model.trainable_variables))\n",
    "    if step % 118 == 0:\n",
    "        # print(tf.reduce_mean(loss).numpy())\n",
    "        for x, y in test_db:\n",
    "            pred_out = my_model(x)\n",
    "            y_pred = tf.argmax(pred_out, axis=-1)\n",
    "            y_true = tf.argmax(y, axis=-1)\n",
    "            acc_meter.update_state(y_true, y_pred)\n",
    "        # print(acc_meter.result().numpy())\n",
    "       \n",
    "        with summary_writer.as_default():  # 写入环境\n",
    "            # 当前时间戳step 上的数据为loss，写入到名为train-loss 数据库中\n",
    "            tf.summary.scalar('train-loss', float(loss.numpy().mean()), step=step)  # step 参数类似于每个数据对应的时间刻度信息\n",
    "            tf.summary.scalar('test-acc', float(acc_meter.result()), step=step)\n",
    "            # 可视化真实标签的直方图分布\n",
    "            tf.summary.histogram('y-hist',y_true, step=step)\n",
    "            # 查看文本信息\n",
    "            tf.summary.text('loss-text',str(float(loss.numpy().mean())), step=step)\n",
    "            # 可视化测试用的图片，设置最多可视化9 张图片\n",
    "            # tf.summary.image(\"val-onebyone-images:\", val_images, max_outputs=9, step=step)\n",
    "        acc_meter.reset_states()"
   ]
  },
  {
   "cell_type": "markdown",
   "metadata": {},
   "source": [
    "### 浏览器端\n",
    "\n",
    "在cmd 终端运行`tensorboard --logdir path `指定Web 后端监控的文件目录path，即可打开Web 后端监控进程:\n",
    "```shell\n",
    "tensorboard --logdir d:\\tensorflow_data\n",
    "```"
   ]
  }
 ],
 "metadata": {
  "kernelspec": {
   "display_name": "Python 3",
   "language": "python",
   "name": "python3"
  },
  "language_info": {
   "codemirror_mode": {
    "name": "ipython",
    "version": 3
   },
   "file_extension": ".py",
   "mimetype": "text/x-python",
   "name": "python",
   "nbconvert_exporter": "python",
   "pygments_lexer": "ipython3",
   "version": "3.7.2rc1"
  }
 },
 "nbformat": 4,
 "nbformat_minor": 2
}
