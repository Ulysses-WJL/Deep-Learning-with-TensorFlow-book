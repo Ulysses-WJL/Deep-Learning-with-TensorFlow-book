{
 "cells": [
  {
   "cell_type": "markdown",
   "metadata": {},
   "source": [
    "# 卷积神经网络(Convolutional Neural Networks)"
   ]
  },
  {
   "cell_type": "markdown",
   "metadata": {},
   "source": [
    "[最容易理解的对卷积(convolution)的解释](https://blog.csdn.net/bitcarmanlee/article/details/54729807)"
   ]
  },
  {
   "cell_type": "markdown",
   "metadata": {},
   "source": [
    "## 卷积的意义\n",
    "\n",
    "卷积的重要的物理意义是：一个函数（如：单位响应）在另一个函数（如：输入信号）上的**加权叠加**。\n",
    "\n",
    "对于线性时不变系统，如果知道该系统的单位响应，那么将单位响应和输入信号求卷积，就相当于把输入信号的各个时间点的单位响应 加权叠加，就直接得到了输出信号。\n",
    "\n",
    "例子:\n",
    "\n",
    "已知$x[0] = a, x[1] = b, x[2]=c$, 已知$y[0] = i, y[1] = j, y[2]=k$, 求$(x \\otimes y)(n)$\n",
    "![](./卷积.png)\n",
    "\n",
    "最后，把上面三个图叠加，就得到了$(x \\otimes y)(n) = \\$\n",
    "\n",
    "## 1D连续卷积\n",
    "\n",
    "数学定义: $$(f \\otimes g)(n) = \\int_{-\\infty}^{\\infty} f(\\tau)g(n-\\tau)d\\tau$$\n",
    "\n",
    "例子: 做馒头\n",
    "\n",
    "假设馒头的生产速度是 $f(t)$, 馒头生产出来之后，就会慢慢腐败，假设腐败函数为$g(t)$, 那么一天后馒头总共腐败了：\n",
    "$$\\int_0^{24}f(t)g(24-t)dt$$\n",
    "\n",
    "## 离散卷积\n",
    "\n",
    "将积分运算换成累加运算:\n",
    "$$s(n) = (f\\otimes g)(n) = \\sum_{\\tau=-\\infty}^{\\infty}f(\\tau)g(n-\\tau)$$\n",
    "例子: 掷骰子\n",
    "\n",
    "设现有两枚骰子, 这两枚骰子掷出去, 求两枚骰子点数加起来为4的概率是多少?\n",
    "\n",
    "令$f(n), g(n)$分别代表2枚骰子点数的概率, 两枚骰子点数加起来为4的概率为：\n",
    "$$f(1)g(3)+f(2)g(2)+f(3)g(1)$$\n",
    "符合卷积的定义，把它写成标准的形式就是：\n",
    "$$(f\\otimes g)(4) = \\sum_{m=1}^{3}f(4-m)g(m)$$\n",
    "\n",
    "> 暴力解释: 扇巴掌 - -\n",
    "\n",
    "在卷积网络的术语中, 卷积的第一个参数(函数f)通常叫作**输入**(Input), 第二个参数(函数g)叫作**核函数**(kernel function). 输出有时被称作**特征映射**(feature map)"
   ]
  },
  {
   "cell_type": "markdown",
   "metadata": {},
   "source": [
    "## 2D离散卷积\n",
    "在计算机视觉中，卷积运算基于2D 图片函数$f(m, n)$和2D卷积核$g(m, n)$，其中$f(i, j)$和$g(i, j)$仅在各自窗口有效区域存在值，其它区域视为0.此时, 2D离散卷积定义为:\n",
    "$$S(m,n) = [f\\otimes g](m, n) = \\sum_{i=-\\infty}^{\\infty} \\sum_{j=-\\infty}^{\\infty}f(i, j)g(m-i, n-j)$$\n",
    "卷积是可交换的(commutative), 可以等价的写作:\n",
    "$$S(m, n) = [f\\otimes g](m, n) = \\sum_i \\sum_j f(m-i, n-j)g(i, j)$$"
   ]
  },
  {
   "cell_type": "code",
   "execution_count": null,
   "metadata": {},
   "outputs": [],
   "source": []
  }
 ],
 "metadata": {
  "kernelspec": {
   "display_name": "Python 3",
   "language": "python",
   "name": "python3"
  },
  "language_info": {
   "codemirror_mode": {
    "name": "ipython",
    "version": 3
   },
   "file_extension": ".py",
   "mimetype": "text/x-python",
   "name": "python",
   "nbconvert_exporter": "python",
   "pygments_lexer": "ipython3",
   "version": "3.7.2rc1"
  }
 },
 "nbformat": 4,
 "nbformat_minor": 2
}
