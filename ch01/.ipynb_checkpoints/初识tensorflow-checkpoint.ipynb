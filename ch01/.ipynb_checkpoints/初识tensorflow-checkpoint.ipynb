{
 "cells": [
  {
   "cell_type": "code",
   "execution_count": 1,
   "metadata": {},
   "outputs": [],
   "source": [
    "import numpy as np\n",
    "import tensorflow as tf\n",
    "import matplotlib\n",
    "import matplotlib.pyplot as plt\n",
    "import timeit\n",
    "\n",
    "%matplotlib inline\n",
    "\n",
    "matplotlib.rcParams['font.size'] = 20\n",
    "matplotlib.rcParams['figure.titlesize'] = 20\n",
    "matplotlib.rcParams['figure.figsize'] = [9, 7]\n",
    "matplotlib.rcParams['font.family'] = ['Noto Sans CJK JP']\n",
    "matplotlib.rcParams['font.sans-serif'] = ['Noto Sans CJK JP']\n",
    "matplotlib.rcParams['axes.unicode_minus'] = False"
   ]
  },
  {
   "cell_type": "code",
   "execution_count": 2,
   "metadata": {},
   "outputs": [
    {
     "data": {
      "text/plain": [
       "'2.1.0'"
      ]
     },
     "execution_count": 2,
     "metadata": {},
     "output_type": "execute_result"
    }
   ],
   "source": [
    "tf.__version__"
   ]
  },
  {
   "cell_type": "code",
   "execution_count": 3,
   "metadata": {},
   "outputs": [
    {
     "data": {
      "text/plain": [
       "[PhysicalDevice(name='/physical_device:GPU:0', device_type='GPU')]"
      ]
     },
     "execution_count": 3,
     "metadata": {},
     "output_type": "execute_result"
    }
   ],
   "source": [
    "# tf.test.is_gpu_available()\n",
    "tf.config.experimental.list_physical_devices('GPU')"
   ]
  },
  {
   "cell_type": "code",
   "execution_count": 4,
   "metadata": {},
   "outputs": [
    {
     "data": {
      "text/plain": [
       "[name: \"/device:CPU:0\"\n",
       " device_type: \"CPU\"\n",
       " memory_limit: 268435456\n",
       " locality {\n",
       " }\n",
       " incarnation: 16738535905000814551,\n",
       " name: \"/device:XLA_CPU:0\"\n",
       " device_type: \"XLA_CPU\"\n",
       " memory_limit: 17179869184\n",
       " locality {\n",
       " }\n",
       " incarnation: 15529865176608609570\n",
       " physical_device_desc: \"device: XLA_CPU device\",\n",
       " name: \"/device:XLA_GPU:0\"\n",
       " device_type: \"XLA_GPU\"\n",
       " memory_limit: 17179869184\n",
       " locality {\n",
       " }\n",
       " incarnation: 5455185149766840442\n",
       " physical_device_desc: \"device: XLA_GPU device\",\n",
       " name: \"/device:GPU:0\"\n",
       " device_type: \"GPU\"\n",
       " memory_limit: 1585250304\n",
       " locality {\n",
       "   bus_id: 1\n",
       "   links {\n",
       "   }\n",
       " }\n",
       " incarnation: 3375184761927941980\n",
       " physical_device_desc: \"device: 0, name: GeForce GTX 750 Ti, pci bus id: 0000:01:00.0, compute capability: 5.0\"]"
      ]
     },
     "execution_count": 4,
     "metadata": {},
     "output_type": "execute_result"
    }
   ],
   "source": [
    "from tensorflow.python.client import device_lib\n",
    "device_lib.list_local_devices()"
   ]
  },
  {
   "cell_type": "markdown",
   "metadata": {},
   "source": [
    "TensorFlow 在运行时，默认会占用所有 GPU 显存资源.一般推荐设置 TensorFlow 的显存占用方式为增长式占用模式，\n",
    "即根据实际模型大小申请显存资源"
   ]
  },
  {
   "cell_type": "code",
   "execution_count": 5,
   "metadata": {},
   "outputs": [
    {
     "name": "stdout",
     "output_type": "stream",
     "text": [
      "1 Physical GPUs, 1 Logical GPUs\n"
     ]
    }
   ],
   "source": [
    "gpus = tf.config.experimental.list_physical_devices('GPU')\n",
    "if gpus:\n",
    "    try:\n",
    "        # 设置gpu为增长式占用\n",
    "        for gpu in gpus:\n",
    "            tf.config.experimental.set_memory_growth(gpu, True)\n",
    "            logical_gpus = tf.config.experimental.list_logical_devices('GPU')\n",
    "            print(len(gpus), \"Physical GPUs,\", len(logical_gpus), \"Logical GPUs\")\n",
    "    except RuntimeError as e:\n",
    "        print(e)"
   ]
  },
  {
   "cell_type": "markdown",
   "metadata": {},
   "source": [
    "使用tensorflow2 进行简单地计算\n",
    "\n",
    "这种运算时同时创建计算图𝑐 = 𝑎 + 𝑏和数值结果6.0 = 2.0 + 4.0的方式叫做**命令式编程**，也称为**动态图模式**。TensorFlow 2 和 PyTorch 都是采用动态图(优先)模式开发，调试方\n",
    "便，所见即所得。一般来说，动态图模式开发效率高，但是运行效率可能不如静态图模\n",
    "式。TensorFlow 2 也支持通过 tf.function 将动态图优先模式的代码转化为静态图模式，实现\n",
    "开发和运行效率的双赢。\n"
   ]
  },
  {
   "cell_type": "code",
   "execution_count": 6,
   "metadata": {},
   "outputs": [
    {
     "data": {
      "text/plain": [
       "<tf.Tensor: shape=(), dtype=float32, numpy=6.0>"
      ]
     },
     "execution_count": 6,
     "metadata": {},
     "output_type": "execute_result"
    }
   ],
   "source": [
    "a = tf.constant(2.)\n",
    "b = tf.constant(4.)\n",
    "result = a + b\n",
    "result"
   ]
  },
  {
   "cell_type": "code",
   "execution_count": 7,
   "metadata": {},
   "outputs": [
    {
     "data": {
      "text/plain": [
       "6.0"
      ]
     },
     "execution_count": 7,
     "metadata": {},
     "output_type": "execute_result"
    }
   ],
   "source": [
    "result.numpy()"
   ]
  },
  {
   "cell_type": "markdown",
   "metadata": {},
   "source": [
    "## TensorFlow 深度学习框架的三大核心功能\n",
    "1. 加速计算\n",
    "\n",
    "    神经网络本质上由大量的矩阵相乘、矩阵相加等基本数学运算构成，TensorFlow 的重\n",
    "    要功能就是利用 GPU 方便地实现并行计算加速功能。为了演示 GPU 的加速效果，我们通\n",
    "    过完成多次矩阵𝑨和矩阵𝑩的矩阵相乘运算，并测量其平均运算时间来比对。其中矩阵𝑨的\n",
    "    测试版1205\n",
    "    shape 为[1, 𝑛]，矩阵𝑩的 shape 为[𝑛, 1]，通过调节𝑛即可控制矩阵的大小。"
   ]
  },
  {
   "cell_type": "code",
   "execution_count": 8,
   "metadata": {},
   "outputs": [
    {
     "data": {
      "text/plain": [
       "[PhysicalDevice(name='/physical_device:GPU:0', device_type='GPU')]"
      ]
     },
     "execution_count": 8,
     "metadata": {},
     "output_type": "execute_result"
    }
   ],
   "source": [
    "tf.config.list_physical_devices('GPU')"
   ]
  },
  {
   "cell_type": "code",
   "execution_count": 9,
   "metadata": {},
   "outputs": [
    {
     "name": "stdout",
     "output_type": "stream",
     "text": [
      "/job:localhost/replica:0/task:0/device:CPU:0 /job:localhost/replica:0/task:0/device:CPU:0\n",
      "/job:localhost/replica:0/task:0/device:GPU:0 /job:localhost/replica:0/task:0/device:GPU:0\n",
      "warmup: 0.0005207499998505227 0.1464694469977985\n",
      "run time: 0.0008114560005196836 0.0005683880008291453\n",
      "/job:localhost/replica:0/task:0/device:CPU:0 /job:localhost/replica:0/task:0/device:CPU:0\n",
      "/job:localhost/replica:0/task:0/device:GPU:0 /job:localhost/replica:0/task:0/device:GPU:0\n",
      "warmup: 0.0014149400012684055 0.00048557699847151525\n",
      "run time: 0.0007477249964722432 0.00047801300024730153\n",
      "/job:localhost/replica:0/task:0/device:CPU:0 /job:localhost/replica:0/task:0/device:CPU:0\n",
      "/job:localhost/replica:0/task:0/device:GPU:0 /job:localhost/replica:0/task:0/device:GPU:0\n",
      "warmup: 0.0005064110009698197 0.00048629199955030344\n",
      "run time: 0.0006447569976444356 0.0005280559998936951\n",
      "/job:localhost/replica:0/task:0/device:CPU:0 /job:localhost/replica:0/task:0/device:CPU:0\n",
      "/job:localhost/replica:0/task:0/device:GPU:0 /job:localhost/replica:0/task:0/device:GPU:0\n",
      "warmup: 0.0009703860014269594 0.0004720780016214121\n",
      "run time: 0.0011693209999066312 0.00044533799882628955\n",
      "/job:localhost/replica:0/task:0/device:CPU:0 /job:localhost/replica:0/task:0/device:CPU:0\n",
      "/job:localhost/replica:0/task:0/device:GPU:0 /job:localhost/replica:0/task:0/device:GPU:0\n",
      "warmup: 0.0007957999987411313 0.0005851790010638069\n",
      "run time: 0.0014944840004318394 0.000576596001337748\n",
      "/job:localhost/replica:0/task:0/device:CPU:0 /job:localhost/replica:0/task:0/device:CPU:0\n",
      "/job:localhost/replica:0/task:0/device:GPU:0 /job:localhost/replica:0/task:0/device:GPU:0\n",
      "warmup: 0.0016879949980648234 0.0006986920016061049\n",
      "run time: 0.0015431339998031035 0.0007483879999199416\n",
      "/job:localhost/replica:0/task:0/device:CPU:0 /job:localhost/replica:0/task:0/device:CPU:0\n",
      "/job:localhost/replica:0/task:0/device:GPU:0 /job:localhost/replica:0/task:0/device:GPU:0\n",
      "warmup: 0.014871589999529533 0.0006163850011944305\n",
      "run time: 0.00991230399813503 0.0005363430027500726\n",
      "/job:localhost/replica:0/task:0/device:CPU:0 /job:localhost/replica:0/task:0/device:CPU:0\n",
      "/job:localhost/replica:0/task:0/device:GPU:0 /job:localhost/replica:0/task:0/device:GPU:0\n",
      "warmup: 0.10198092999780783 0.0006891580014780629\n",
      "run time: 0.10118000800139271 0.0006919240004208405\n"
     ]
    },
    {
     "name": "stderr",
     "output_type": "stream",
     "text": [
      "/home/ulysses/.local/lib/python3.7/site-packages/ipykernel_launcher.py:50: UserWarning: Attempted to set non-positive bottom ylim on a log-scaled axis.\n",
      "Invalid limit will be ignored.\n"
     ]
    },
    {
     "data": {
      "text/plain": [
       "<matplotlib.legend.Legend at 0x7f25ef6a5650>"
      ]
     },
     "execution_count": 9,
     "metadata": {},
     "output_type": "execute_result"
    },
    {
     "data": {
      "image/png": "[encoded data removed]",
      "text/plain": [
       "<Figure size 648x504 with 1 Axes>"
      ]
     },
     "metadata": {
      "needs_background": "light"
     },
     "output_type": "display_data"
    }
   ],
   "source": [
    "cpu_data = []\n",
    "gpu_data = []\n",
    "for n in range(8):\n",
    "    n = 10**n\n",
    "    # 创建在CPU上运算的2个矩阵\n",
    "    with tf.device('/cpu:0'):\n",
    "        cpu_a = tf.random.normal([1, n])\n",
    "        cpu_b = tf.random.normal([n, 1])\n",
    "        print(cpu_a.device, cpu_b.device)\n",
    "    # 创建使用GPU运算的2个矩阵\n",
    "    with tf.device('/gpu:0'):\n",
    "        gpu_a = tf.random.normal([1, n])\n",
    "        gpu_b = tf.random.normal([n, 1])\n",
    "        print(gpu_a.device, gpu_b.device)\n",
    "\n",
    "    def cpu_run():\n",
    "        with tf.device('/cpu:0'):\n",
    "            c = tf.matmul(cpu_a, cpu_b)\n",
    "        return c\n",
    "\n",
    "    def gpu_run():\n",
    "        with tf.device('/gpu:0'):\n",
    "            c = tf.matmul(gpu_a, gpu_b)\n",
    "        return c\n",
    "\n",
    "    # 第一次计算需要热身，避免将初始化阶段时间结算在内\n",
    "    cpu_time = timeit.timeit(cpu_run, number=10)\n",
    "    gpu_time = timeit.timeit(gpu_run, number=10)\n",
    "    print('warmup:', cpu_time, gpu_time)\n",
    "    # 正式计算10次，取平均时间\n",
    "    cpu_time = timeit.timeit(cpu_run, number=10)\n",
    "    gpu_time = timeit.timeit(gpu_run, number=10)\n",
    "    print('run time:', cpu_time, gpu_time)\n",
    "    cpu_data.append(cpu_time/10)\n",
    "    gpu_data.append(gpu_time/10)\n",
    "\n",
    "    del cpu_a, cpu_b, gpu_a, gpu_b\n",
    "\n",
    "x = [10**i for i in range(8)]\n",
    "cpu_data = [1000*i for i in cpu_data]\n",
    "gpu_data = [1000*i for i in gpu_data]\n",
    "plt.plot(x, cpu_data, 'C1')\n",
    "plt.plot(x, cpu_data, color='C1', marker='s', label='CPU')\n",
    "plt.plot(x, gpu_data, 'C0')\n",
    "plt.plot(x, gpu_data, color='C0', marker='^', label='GPU')\n",
    "\n",
    "\n",
    "plt.gca().set_xscale('log')\n",
    "plt.gca().set_yscale('log')\n",
    "plt.ylim([0, 100])\n",
    "plt.xlabel('矩阵大小n:(1xn)@(nx1)')\n",
    "plt.ylabel('运算时间(ms)')\n",
    "plt.legend()\n",
    "# plt.savefig('运行时间')"
   ]
  },
  {
   "cell_type": "markdown",
   "metadata": {},
   "source": [
    "2. 自动梯度\n",
    "\n",
    "    在使用 TensorFlow 构建前向计算过程的时候，除了能够获得数值结果，TensorFlow 还\n",
    "    会自动构建计算图，通过 TensorFlow 提供的自动求导的功能，可以不需要手动推导，即可\n",
    "    计算输出对网络参数的偏导数.表达式:\n",
    "    $$y = aw^2 + bw + c$$\n",
    "    导数:\n",
    "    $$\\frac {dy} {dw} = 2aw +b$$\n",
    "    当(a, b, c, w) = (1, 2, 3, 4)处导数, 得到导数值为10\n",
    "    通过 TensorFlow 的方式，我们可以不需要手动推导导数的表达式，直接给出函数的表达式，即可由 TensorFlow 自动求导，代码实现如下"
   ]
  },
  {
   "cell_type": "code",
   "execution_count": 10,
   "metadata": {},
   "outputs": [
    {
     "data": {
      "text/plain": [
       "<tf.Tensor: shape=(), dtype=float32, numpy=10.0>"
      ]
     },
     "execution_count": 10,
     "metadata": {},
     "output_type": "execute_result"
    }
   ],
   "source": [
    "a = tf.constant(1.)\n",
    "b = tf.constant(2.)\n",
    "c = tf.constant(3.)\n",
    "w = tf.constant(4.)\n",
    "\n",
    "with tf.GradientTape() as tape:  # 梯度环境\n",
    "    tape.watch([w])  # 将w加入梯度跟踪列表\n",
    "    # 构建计算过程, 函数表达式\n",
    "    y = a * w ** 2 + b * w + c\n",
    "# 自动求导\n",
    "[dy_dw] = tape.gradient(y, [w])\n",
    "dy_dw"
   ]
  },
  {
   "cell_type": "markdown",
   "metadata": {},
   "source": [
    "3. 常用神经网络接口\n",
    "\n",
    "    TensorFlow 除了提供底层的矩阵相乘、相加等数学函数，还内建了常用神经网络运算\n",
    "    函数、常用网络层、网络训练、模型保存与加载、网络部署等一系列深度学习系统的便捷\n",
    "    功能。使用 TensorFlow 开发，可以方便地利用这些功能完成常用业务流程，高效稳定"
   ]
  },
  {
   "cell_type": "code",
   "execution_count": null,
   "metadata": {},
   "outputs": [],
   "source": []
  }
 ],
 "metadata": {
  "kernelspec": {
   "display_name": "tf",
   "language": "python",
   "name": "tf"
  },
  "language_info": {
   "codemirror_mode": {
    "name": "ipython",
    "version": 3
   },
   "file_extension": ".py",
   "mimetype": "text/x-python",
   "name": "python",
   "nbconvert_exporter": "python",
   "pygments_lexer": "ipython3",
   "version": "3.7.4"
  }
 },
 "nbformat": 4,
 "nbformat_minor": 2
}
