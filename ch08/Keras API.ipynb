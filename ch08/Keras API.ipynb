{
 "cells": [
  {
   "cell_type": "markdown",
   "metadata": {},
   "source": [
    "# Keras 高层接口\n",
    "Keras 是一个主要由Python 语言开发的开源神经网络计算库，在TensorFlow 2 版本中，Keras被正式确定为TensorFlow 的高层唯一接口API.在TensorFlow 中，Keras 被实现在tf.keras 子模块中.\n",
    "\n",
    "Keras 与tf.keras的区别与联系:\n",
    "- Keras :安装标准的Keras 库就可以方便地调用TensorFlow、CNTK 等后端完成加速计算.\n",
    "- tf.keras:它与TensorFlow 深度融合，且只能基于TensorFlow 后端运算，并对TensorFlow的支持更完美"
   ]
  },
  {
   "cell_type": "markdown",
   "metadata": {},
   "source": [
    "## tf.keras 常见功能模块\n",
    "### 常见网络层类\n",
    "对于常见的神经网络层，可以使用张量方式的底层接口函数来实现，这些接口函数一般在`tf.nn `模块中.\n",
    "\n",
    "更常用地，对于常见的网络层，我们一般直接使用层方式来完成模型的搭建，`tf.keras.layers`命名空间下提供了大量常见网络层的类全连接层、激活函数层、池化层、卷积层、循环神经网络层等. 对于这些网络层类，只需要在创建时指定网络层的相关参数，并调用`__call__`方法即可完成前向计算。在调用\\__call__方法时，Keras 会自动调用每个层的前向传播逻辑，这些逻辑一般实现在类的call 函数中"
   ]
  },
  {
   "cell_type": "code",
   "execution_count": 28,
   "metadata": {},
   "outputs": [],
   "source": [
    "import numpy as np\n",
    "import tensorflow as tf\n",
    "from tensorflow import keras\n",
    "from tensorflow.keras import layers\n",
    "\n",
    "gpus = tf.config.experimental.list_physical_devices('GPU')\n",
    "try:\n",
    "    for gpu in gpus:\n",
    "        tf.config.experimental.set_memory_growth(gpu, True)\n",
    "except RuntimeError as e:\n",
    "    print(e)"
   ]
  },
  {
   "cell_type": "code",
   "execution_count": null,
   "metadata": {},
   "outputs": [],
   "source": [
    "# 例如创建softmax层\n",
    "x = tf.constant([0.1, 0.5, 2, 1])\n",
    "layer = layers.Softmax(axis=-1)\n",
    "out = layer(x)  # 调用softmax前向计算\n",
    "out"
   ]
  },
  {
   "cell_type": "code",
   "execution_count": null,
   "metadata": {},
   "outputs": [],
   "source": [
    "out = tf.nn.softmax(x)  # 使用函数形式\n",
    "out"
   ]
  },
  {
   "cell_type": "markdown",
   "metadata": {},
   "source": [
    "### 网络容器Sequential\n",
    "当网络层数变得较深时，可以通过Keras 提供的网络容器Sequential 将多个网络层封装成一个大网络模型，只需要调用网络模型的实例一次即可完成数据从第一层到最末层的顺序传播运算."
   ]
  },
  {
   "cell_type": "code",
   "execution_count": 1,
   "metadata": {},
   "outputs": [],
   "source": [
    "from tensorflow.keras import layers, Sequential\n",
    "\n",
    "network = Sequential([  # 封装为网络\n",
    "    layers.Dense(3, activation=None),  # 全连接层, 不使用激活函数\n",
    "    layers.ReLU(),  # 激活函数层\n",
    "    layers.Dense(2, activation=None),\n",
    "    layers.ReLU(),\n",
    "])"
   ]
  },
  {
   "cell_type": "code",
   "execution_count": 3,
   "metadata": {},
   "outputs": [
    {
     "data": {
      "text/plain": [
       "<tf.Tensor: id=60, shape=(4, 2), dtype=float32, numpy=\n",
       "array([[0.0990421 , 0.03670365],\n",
       "       [0.        , 0.0832989 ],\n",
       "       [0.08775221, 0.03389173],\n",
       "       [0.5199914 , 0.26148546]], dtype=float32)>"
      ]
     },
     "execution_count": 3,
     "metadata": {},
     "output_type": "execute_result"
    }
   ],
   "source": [
    "x = tf.random.normal([4, 3])\n",
    "network(x)"
   ]
  },
  {
   "cell_type": "code",
   "execution_count": 4,
   "metadata": {},
   "outputs": [
    {
     "name": "stdout",
     "output_type": "stream",
     "text": [
      "Model: \"sequential_1\"\n",
      "_________________________________________________________________\n",
      "Layer (type)                 Output Shape              Param #   \n",
      "=================================================================\n",
      "dense_2 (Dense)              multiple                  15        \n",
      "_________________________________________________________________\n",
      "re_lu_2 (ReLU)               multiple                  0         \n",
      "_________________________________________________________________\n",
      "dense_3 (Dense)              multiple                  12        \n",
      "_________________________________________________________________\n",
      "re_lu_3 (ReLU)               multiple                  0         \n",
      "=================================================================\n",
      "Total params: 27\n",
      "Trainable params: 27\n",
      "Non-trainable params: 0\n",
      "_________________________________________________________________\n"
     ]
    }
   ],
   "source": [
    "# add() 方法动态创建网络层\n",
    "network = Sequential([])\n",
    "layers_num = 2 # 堆叠2 次\n",
    "for _ in range(layers_num):\n",
    "    network.add(layers.Dense(3))\n",
    "    network.add(layers.ReLU())\n",
    "network.build(input_shape=(1, 4))  # 创建网络参数 第一个batch_size任意数\n",
    "network.summary()\n",
    "# Trainable params 待优化的参数"
   ]
  },
  {
   "cell_type": "code",
   "execution_count": 5,
   "metadata": {},
   "outputs": [
    {
     "name": "stdout",
     "output_type": "stream",
     "text": [
      "dense_2/kernel:0 (4, 3)\n",
      "dense_2/bias:0 (3,)\n",
      "dense_3/kernel:0 (3, 3)\n",
      "dense_3/bias:0 (3,)\n"
     ]
    }
   ],
   "source": [
    "for params in network.trainable_variables:\n",
    "    print(params.name, params.shape)  # 参数名 , shape"
   ]
  },
  {
   "cell_type": "markdown",
   "metadata": {},
   "source": [
    "## 模型装配、训练与测试\n",
    "在训练网络时，一般的流程是通过前向计算获得网络的输出值，再通过损失函数计算网络误差，然后通过自动求导工具计算梯度并更新，同时间隔性地测试网络的性能。对于这种常用的训练逻辑，可以直接通过Keras 提供的模型装配与训练等高层接口实现，简洁清晰."
   ]
  },
  {
   "cell_type": "code",
   "execution_count": 158,
   "metadata": {},
   "outputs": [
    {
     "data": {
      "text/plain": [
       "(1797, 64)"
      ]
     },
     "execution_count": 158,
     "metadata": {},
     "output_type": "execute_result"
    }
   ],
   "source": [
    "from sklearn.datasets import load_digits\n",
    "from sklearn.preprocessing import scale\n",
    "from sklearn.model_selection import train_test_split\n",
    "\n",
    "digits = load_digits()\n",
    "# data = scale(digits.data)\n",
    "data.shape  # 1792张 8 * 8 图片"
   ]
  },
  {
   "cell_type": "code",
   "execution_count": 159,
   "metadata": {},
   "outputs": [
    {
     "data": {
      "text/plain": [
       "array([[ 0.,  0.,  5., 13.,  9.,  1.,  0.,  0.],\n",
       "       [ 0.,  0., 13., 15., 10., 15.,  5.,  0.],\n",
       "       [ 0.,  3., 15.,  2.,  0., 11.,  8.,  0.],\n",
       "       [ 0.,  4., 12.,  0.,  0.,  8.,  8.,  0.],\n",
       "       [ 0.,  5.,  8.,  0.,  0.,  9.,  8.,  0.],\n",
       "       [ 0.,  4., 11.,  0.,  1., 12.,  7.,  0.],\n",
       "       [ 0.,  2., 14.,  5., 10., 12.,  0.,  0.],\n",
       "       [ 0.,  0.,  6., 13., 10.,  0.,  0.,  0.]])"
      ]
     },
     "execution_count": 159,
     "metadata": {},
     "output_type": "execute_result"
    }
   ],
   "source": [
    "digits.images[0]"
   ]
  },
  {
   "cell_type": "code",
   "execution_count": 171,
   "metadata": {},
   "outputs": [],
   "source": [
    "def process(X, y):\n",
    "    \n",
    "    X = X / 255.\n",
    "    # y = tf.convert_to_tensor(y, dtype=tf.int32)\n",
    "    y_onehot = tf.one_hot(y, depth=10)\n",
    "    return X, y_onehot"
   ]
  },
  {
   "cell_type": "code",
   "execution_count": 172,
   "metadata": {},
   "outputs": [
    {
     "data": {
      "text/plain": [
       "<matplotlib.image.AxesImage at 0x268a5550>"
      ]
     },
     "execution_count": 172,
     "metadata": {},
     "output_type": "execute_result"
    },
    {
     "data": {
      "image/png": "[encoded data removed]",
      "text/plain": [
       "<Figure size 432x288 with 1 Axes>"
      ]
     },
     "metadata": {
      "needs_background": "light"
     },
     "output_type": "display_data"
    }
   ],
   "source": [
    "import matplotlib.pyplot as plt\n",
    "\n",
    "%matplotlib inline\n",
    "\n",
    "plt.imshow(digits.images[0].reshape(8, 8)/255., cmap=plt.cm.bone)"
   ]
  },
  {
   "cell_type": "code",
   "execution_count": 173,
   "metadata": {},
   "outputs": [],
   "source": [
    "# (X_train, y_train), (X_test, y_test) = tf.keras.datasets.mnist.load_data()\n",
    "X_train, X_test, y_train, y_test = train_test_split(data, digits.target, test_size=0.3, random_state=42)\n",
    "train_db = tf.data.Dataset.from_tensor_slices((X_train, y_train))\n",
    "test_db = tf.data.Dataset.from_tensor_slices((X_test, y_test))\n",
    "train_db = train_db.shuffle(10000).map(process).batch(32)\n",
    "test_db = test_db.shuffle(10000).map(process).batch(32)"
   ]
  },
  {
   "cell_type": "code",
   "execution_count": 174,
   "metadata": {},
   "outputs": [
    {
     "data": {
      "text/plain": [
       "(TensorShape([32, 64]), TensorShape([32, 10]))"
      ]
     },
     "execution_count": 174,
     "metadata": {},
     "output_type": "execute_result"
    }
   ],
   "source": [
    "x1, y1 = next(iter(train_db))\n",
    "x1.shape, y1.shape"
   ]
  },
  {
   "cell_type": "markdown",
   "metadata": {},
   "source": [
    "### 模型装配\n",
    "`keras.layers.Layer` 类是网络层的母类, 定义了网络层的一些常见功能，如添加权值、管理权值列表等.\n",
    "\n",
    "`keras.Model`类是网络的母类, 除了具有Layer 类的功能，还添加了保存模型、加载模型、训练与测试模型等便捷功能。Sequential 也是Model 的子类，因此具有Model 类的所有功能。"
   ]
  },
  {
   "cell_type": "code",
   "execution_count": 253,
   "metadata": {},
   "outputs": [
    {
     "name": "stdout",
     "output_type": "stream",
     "text": [
      "Model: \"sequential_24\"\n",
      "_________________________________________________________________\n",
      "Layer (type)                 Output Shape              Param #   \n",
      "=================================================================\n",
      "dense_82 (Dense)             multiple                  4160      \n",
      "_________________________________________________________________\n",
      "dense_83 (Dense)             multiple                  2080      \n",
      "_________________________________________________________________\n",
      "dense_84 (Dense)             multiple                  330       \n",
      "=================================================================\n",
      "Total params: 6,570\n",
      "Trainable params: 6,570\n",
      "Non-trainable params: 0\n",
      "_________________________________________________________________\n"
     ]
    }
   ],
   "source": [
    "# 手写数字识别MNIST\n",
    "# 创建5层网络\n",
    "network = Sequential([\n",
    "#     layers.Dense(256, activation='relu'),\n",
    "#     layers.Dense(128, activation='relu'),\n",
    "    layers.Dense(64, activation='relu', dtype='float64'),\n",
    "    layers.Dense(32, activation='relu', dtype='float64'),\n",
    "    layers.Dense(10, dtype='float64'),\n",
    "])\n",
    "network.build(input_shape=(4, 8*8))\n",
    "network.summary()"
   ]
  },
  {
   "cell_type": "markdown",
   "metadata": {},
   "source": [
    "建立网络后的训练流程:\n",
    "\n",
    "- 迭代数据集多次 \n",
    "- 每次按批产生训练数据、前向计算\n",
    "- 通过损失函数计算误差值\n",
    "- 反向传播自动计算梯度、更新网络参数\n",
    "\n",
    "在Keras 中提供了compile()和fit()函数方便实现上述逻辑"
   ]
  },
  {
   "cell_type": "code",
   "execution_count": 254,
   "metadata": {},
   "outputs": [],
   "source": [
    "from tensorflow.keras import optimizers, losses\n",
    "\n",
    "network.compile(optimizer=optimizers.Adam(lr=0.01),  # Adam优化器, 学习率0.01\n",
    "               loss=losses.CategoricalCrossentropy(from_logits=True),  # 交叉熵损失,包含softmax\n",
    "               metrics=['accuracy'],   # 指标为准确率\n",
    "               )"
   ]
  },
  {
   "cell_type": "markdown",
   "metadata": {},
   "source": [
    "### 模型训练\n",
    "模型装配完成后，即可通过fit()函数送入待训练的数据集和验证用的数据集，这一步称为模型训练。"
   ]
  },
  {
   "cell_type": "code",
   "execution_count": 255,
   "metadata": {},
   "outputs": [
    {
     "name": "stdout",
     "output_type": "stream",
     "text": [
      "WARNING:tensorflow:Layer sequential_24 is casting an input tensor from dtype float64 to the layer's dtype of float32, which is new behavior in TensorFlow 2.  The layer has dtype float32 because it's dtype defaults to floatx.\n",
      "\n",
      "If you intended to run this layer in float32, you can safely ignore this warning. If in doubt, this warning is likely only an issue if you are porting a TensorFlow 1.X model to TensorFlow 2.\n",
      "\n",
      "To change all layers to have dtype float64 by default, call `tf.keras.backend.set_floatx('float64')`. To change just this layer, pass dtype='float64' to the layer constructor. If you are the author of this layer, you can disable autocasting by passing autocast=False to the base Layer constructor.\n",
      "\n",
      "Epoch 1/10\n",
      "40/40 [==============================] - 1s 18ms/step - loss: 2.2613 - accuracy: 0.1456\n",
      "Epoch 2/10\n",
      "40/40 [==============================] - 0s 9ms/step - loss: 1.8116 - accuracy: 0.4018 - val_loss: 1.3912 - val_accuracy: 0.6444\n",
      "Epoch 3/10\n",
      "40/40 [==============================] - 0s 5ms/step - loss: 1.0885 - accuracy: 0.6953\n",
      "Epoch 4/10\n",
      "40/40 [==============================] - 0s 7ms/step - loss: 0.6857 - accuracy: 0.8091 - val_loss: 0.5832 - val_accuracy: 0.8315\n",
      "Epoch 5/10\n",
      "40/40 [==============================] - 0s 4ms/step - loss: 0.5190 - accuracy: 0.8385\n",
      "Epoch 6/10\n",
      "40/40 [==============================] - 0s 5ms/step - loss: 0.4262 - accuracy: 0.8679 - val_loss: 0.4371 - val_accuracy: 0.8630\n",
      "Epoch 7/10\n",
      "40/40 [==============================] - 0s 4ms/step - loss: 0.3572 - accuracy: 0.8958\n",
      "Epoch 8/10\n",
      "40/40 [==============================] - 0s 5ms/step - loss: 0.3225 - accuracy: 0.8990 - val_loss: 0.4028 - val_accuracy: 0.8537\n",
      "Epoch 9/10\n",
      "40/40 [==============================] - 0s 5ms/step - loss: 0.2989 - accuracy: 0.9006\n",
      "Epoch 10/10\n",
      "40/40 [==============================] - 0s 6ms/step - loss: 0.2531 - accuracy: 0.9212 - val_loss: 0.3153 - val_accuracy: 0.8981\n"
     ]
    }
   ],
   "source": [
    "history = network.fit(train_db, epochs=10,\n",
    "                      validation_data=test_db,\n",
    "                      validation_freq=2)  # 每2个epoch验证一次"
   ]
  },
  {
   "cell_type": "code",
   "execution_count": 207,
   "metadata": {},
   "outputs": [
    {
     "data": {
      "text/plain": [
       "{'loss': [2.267179709440579,\n",
       "  1.7569874092379352,\n",
       "  1.0007887269202072,\n",
       "  0.6834942274947348,\n",
       "  0.5160451082255687,\n",
       "  0.426296033264742,\n",
       "  0.3643665080468957,\n",
       "  0.31726067121334084,\n",
       "  0.27944490902579516,\n",
       "  0.27579089713833194],\n",
       " 'accuracy': [0.19093078,\n",
       "  0.5202864,\n",
       "  0.7311058,\n",
       "  0.7979316,\n",
       "  0.84009546,\n",
       "  0.88225937,\n",
       "  0.8862371,\n",
       "  0.9013524,\n",
       "  0.91567224,\n",
       "  0.91408116],\n",
       " 'val_loss': [1.3101218298328023,\n",
       "  0.5752366638543736,\n",
       "  0.4176017814919179,\n",
       "  0.34929441328490385,\n",
       "  0.3979956790568173],\n",
       " 'val_accuracy': [0.6333333, 0.82592595, 0.8574074, 0.88703704, 0.8648148]}"
      ]
     },
     "execution_count": 207,
     "metadata": {},
     "output_type": "execute_result"
    }
   ],
   "source": [
    "history.history"
   ]
  },
  {
   "cell_type": "markdown",
   "metadata": {},
   "source": [
    "### 模型测试\n",
    "Model 基类除了可以便捷地完成网络的装配与训练、验证，还可以非常方便的预测和测试."
   ]
  },
  {
   "cell_type": "code",
   "execution_count": 179,
   "metadata": {},
   "outputs": [
    {
     "data": {
      "text/plain": [
       "TensorShape([32, 10])"
      ]
     },
     "execution_count": 179,
     "metadata": {},
     "output_type": "execute_result"
    }
   ],
   "source": [
    "x, y = next(iter(test_db))  # 加载一个batch数据"
   ]
  },
  {
   "cell_type": "code",
   "execution_count": 182,
   "metadata": {},
   "outputs": [],
   "source": [
    "out = network.predict(x)  # 模型预测，预测结果保存在out 中\n",
    "y_pred = np.argmax(out, axis=-1)  "
   ]
  },
  {
   "cell_type": "code",
   "execution_count": 183,
   "metadata": {},
   "outputs": [
    {
     "data": {
      "text/plain": [
       "array([7, 6, 3, 2, 8, 2, 1, 8, 2, 5, 7, 5, 7, 4, 1, 9, 9, 2, 5, 0, 8, 1,\n",
       "       0, 7, 1, 2, 7, 9, 5, 0, 0, 4], dtype=int64)"
      ]
     },
     "execution_count": 183,
     "metadata": {},
     "output_type": "execute_result"
    }
   ],
   "source": [
    "y_pred"
   ]
  },
  {
   "cell_type": "code",
   "execution_count": 186,
   "metadata": {},
   "outputs": [
    {
     "data": {
      "text/plain": [
       "array([7, 6, 3, 2, 8, 8, 1, 8, 2, 5, 7, 7, 7, 4, 1, 9, 9, 2, 5, 0, 9, 1,\n",
       "       0, 7, 1, 2, 7, 9, 5, 0, 0, 4], dtype=int64)"
      ]
     },
     "execution_count": 186,
     "metadata": {},
     "output_type": "execute_result"
    }
   ],
   "source": [
    "y_t = np.argmax(y, axis=-1)\n",
    "y_t"
   ]
  },
  {
   "cell_type": "code",
   "execution_count": 188,
   "metadata": {},
   "outputs": [
    {
     "data": {
      "text/plain": [
       "0.90625"
      ]
     },
     "execution_count": 188,
     "metadata": {},
     "output_type": "execute_result"
    }
   ],
   "source": [
    "np.sum(y_t == y_pred) / len(y_pred)"
   ]
  },
  {
   "cell_type": "code",
   "execution_count": 190,
   "metadata": {},
   "outputs": [
    {
     "name": "stdout",
     "output_type": "stream",
     "text": [
      "17/17 [==============================] - 0s 3ms/step - loss: 0.2913 - accuracy: 0.9074\n"
     ]
    },
    {
     "data": {
      "text/plain": [
       "[0.2913366695995305, 0.9074074]"
      ]
     },
     "execution_count": 190,
     "metadata": {},
     "output_type": "execute_result"
    }
   ],
   "source": [
    "network.evaluate(test_db)  # test_db上的性能测试"
   ]
  },
  {
   "cell_type": "markdown",
   "metadata": {},
   "source": [
    "## 模型的保存和加载\n",
    "### 张量方式"
   ]
  },
  {
   "cell_type": "code",
   "execution_count": 208,
   "metadata": {},
   "outputs": [],
   "source": [
    "network.save_weights('mnist_weights.ckpt')"
   ]
  },
  {
   "cell_type": "code",
   "execution_count": 209,
   "metadata": {},
   "outputs": [],
   "source": [
    "del network"
   ]
  },
  {
   "cell_type": "code",
   "execution_count": 210,
   "metadata": {},
   "outputs": [],
   "source": [
    "network = Sequential([\n",
    "#     layers.Dense(256, activation='relu'),\n",
    "#     layers.Dense(128, activation='relu'),\n",
    "    layers.Dense(64, activation='relu', dtype='float64'),\n",
    "    layers.Dense(32, activation='relu', dtype='float64'),\n",
    "    layers.Dense(10, dtype='float64'),\n",
    "])\n",
    "network.compile(optimizer=optimizers.Adam(lr=0.01),\n",
    "               loss=losses.CategoricalCrossentropy(from_logits=True),\n",
    "               metrics=['accuracy'])"
   ]
  },
  {
   "cell_type": "code",
   "execution_count": 211,
   "metadata": {},
   "outputs": [
    {
     "data": {
      "text/plain": [
       "<tensorflow.python.training.tracking.util.CheckpointLoadStatus at 0x22940da0>"
      ]
     },
     "execution_count": 211,
     "metadata": {},
     "output_type": "execute_result"
    }
   ],
   "source": [
    "network.load_weights('mnist_weights.ckpt')"
   ]
  },
  {
   "cell_type": "code",
   "execution_count": 212,
   "metadata": {},
   "outputs": [
    {
     "name": "stdout",
     "output_type": "stream",
     "text": [
      "Model: \"sequential_21\"\n",
      "_________________________________________________________________\n",
      "Layer (type)                 Output Shape              Param #   \n",
      "=================================================================\n",
      "dense_73 (Dense)             multiple                  4160      \n",
      "_________________________________________________________________\n",
      "dense_74 (Dense)             multiple                  2080      \n",
      "_________________________________________________________________\n",
      "dense_75 (Dense)             multiple                  330       \n",
      "=================================================================\n",
      "Total params: 6,570\n",
      "Trainable params: 6,570\n",
      "Non-trainable params: 0\n",
      "_________________________________________________________________\n"
     ]
    }
   ],
   "source": [
    "network.build(input_shape=(4, 8*8))\n",
    "network.summary()"
   ]
  },
  {
   "cell_type": "markdown",
   "metadata": {},
   "source": [
    "这种保存与加载网络的方式最为轻量级，文件中保存的仅仅是张量参数的数值，并没有其\n",
    "它额外的结构参数。但是它需要使用相同的网络结构才能够正确恢复网络状态，因此一般\n",
    "在拥有网络源文件的情况下使用"
   ]
  },
  {
   "cell_type": "markdown",
   "metadata": {},
   "source": [
    "### 网络方式\n",
    "\n",
    "model.h5 文件除了保存了模型参数外，还应保存了网络结构信息，不需要提前\n",
    "创建模型即可直接从文件中恢复出网络network 对象"
   ]
  },
  {
   "cell_type": "code",
   "execution_count": 213,
   "metadata": {},
   "outputs": [],
   "source": [
    "network.save('model.h5')\n",
    "del network"
   ]
  },
  {
   "cell_type": "code",
   "execution_count": 225,
   "metadata": {},
   "outputs": [
    {
     "name": "stdout",
     "output_type": "stream",
     "text": [
      "WARNING:tensorflow:Sequential models without an `input_shape` passed to the first layer cannot reload their optimizer state. As a result, your model isstarting with a freshly initialized optimizer.\n",
      "Model: \"sequential_21\"\n",
      "_________________________________________________________________\n",
      "Layer (type)                 Output Shape              Param #   \n",
      "=================================================================\n",
      "dense_73 (Dense)             multiple                  4160      \n",
      "_________________________________________________________________\n",
      "dense_74 (Dense)             multiple                  2080      \n",
      "_________________________________________________________________\n",
      "dense_75 (Dense)             multiple                  330       \n",
      "=================================================================\n",
      "Total params: 6,570\n",
      "Trainable params: 6,570\n",
      "Non-trainable params: 0\n",
      "_________________________________________________________________\n"
     ]
    }
   ],
   "source": [
    "network = keras.models.load_model('model.h5')\n",
    "network.build(input_shape=(4, 8*8))\n",
    "network.summary()"
   ]
  },
  {
   "cell_type": "markdown",
   "metadata": {},
   "source": [
    "### SavedModel\n",
    "SavedModel 方式具有平台无关性"
   ]
  },
  {
   "cell_type": "code",
   "execution_count": 233,
   "metadata": {},
   "outputs": [
    {
     "name": "stdout",
     "output_type": "stream",
     "text": [
      "INFO:tensorflow:Assets written to: model-savedmodel\\assets\n"
     ]
    }
   ],
   "source": [
    "tf.saved_model.save(network, 'model-savedmodel')"
   ]
  },
  {
   "cell_type": "code",
   "execution_count": 234,
   "metadata": {},
   "outputs": [
    {
     "data": {
      "text/plain": [
       "<tensorflow.python.saved_model.load.Loader._recreate_base_user_object.<locals>._UserObject at 0x22940ef0>"
      ]
     },
     "execution_count": 234,
     "metadata": {},
     "output_type": "execute_result"
    }
   ],
   "source": [
    "network = tf.saved_model.load('model-savedmodel')\n",
    "network"
   ]
  },
  {
   "cell_type": "code",
   "execution_count": 228,
   "metadata": {},
   "outputs": [],
   "source": [
    "tf.saved_model.load?"
   ]
  },
  {
   "cell_type": "code",
   "execution_count": 235,
   "metadata": {},
   "outputs": [
    {
     "name": "stdout",
     "output_type": "stream",
     "text": [
      "Test Accuracy:0.881481\n"
     ]
    }
   ],
   "source": [
    "acc_meter = keras.metrics.CategoricalAccuracy()\n",
    "for x, y in test_db:\n",
    "    pred = network(x)\n",
    "    acc_meter.update_state(y_true=y, y_pred=pred)\n",
    "print(\"Test Accuracy:%f\" % acc_meter.result())"
   ]
  },
  {
   "cell_type": "markdown",
   "metadata": {},
   "source": [
    "## 自定义网络\n",
    "### 自定义网络层\n",
    "\n",
    "至少需要实现初始化\\__init__方法和前向传播逻辑call 方法"
   ]
  },
  {
   "cell_type": "code",
   "execution_count": 242,
   "metadata": {},
   "outputs": [
    {
     "data": {
      "text/plain": [
       "<function tensorflow.python.keras.engine.base_layer.Layer.add_weight(self, name=None, shape=None, dtype=None, initializer=None, regularizer=None, trainable=None, constraint=None, partitioner=None, use_resource=None, synchronization=<VariableSynchronization.AUTO: 0>, aggregation=<VariableAggregation.NONE: 0>, **kwargs)>"
      ]
     },
     "execution_count": 242,
     "metadata": {},
     "output_type": "execute_result"
    }
   ],
   "source": [
    "layers.Layer.add_weight"
   ]
  },
  {
   "cell_type": "code",
   "execution_count": 256,
   "metadata": {},
   "outputs": [],
   "source": [
    "layers.Layer?"
   ]
  },
  {
   "cell_type": "code",
   "execution_count": 267,
   "metadata": {},
   "outputs": [],
   "source": [
    "class MyDense(layers.Layer):\n",
    "    def __init__(self, input_dim, out_dim):\n",
    "        super().__init__()\n",
    "        # 创建权值张量并添加到类管理列表中，设置为需要优化\n",
    "        self.kernel = self.add_weight(shape=(input_dim, out_dim), trainable=True)\n",
    "        # 没有偏置\n",
    "    def call(self, inputs, training=None):\n",
    "        # 实现前向计算\n",
    "        out = inputs @ self.kernel\n",
    "        out = tf.nn.relu(out)\n",
    "        return out"
   ]
  },
  {
   "cell_type": "code",
   "execution_count": 268,
   "metadata": {},
   "outputs": [
    {
     "data": {
      "text/plain": [
       "([<tf.Variable 'Variable:0' shape=(4, 3) dtype=float32, numpy=\n",
       "  array([[ 0.60043955,  0.63166153, -0.6026592 ],\n",
       "         [-0.87410927,  0.70786154,  0.7381562 ],\n",
       "         [-0.42485708, -0.26497793,  0.64553   ],\n",
       "         [-0.10666221,  0.92383635,  0.90859616]], dtype=float32)>],\n",
       " [<tf.Variable 'Variable:0' shape=(4, 3) dtype=float32, numpy=\n",
       "  array([[ 0.60043955,  0.63166153, -0.6026592 ],\n",
       "         [-0.87410927,  0.70786154,  0.7381562 ],\n",
       "         [-0.42485708, -0.26497793,  0.64553   ],\n",
       "         [-0.10666221,  0.92383635,  0.90859616]], dtype=float32)>])"
      ]
     },
     "execution_count": 268,
     "metadata": {},
     "output_type": "execute_result"
    }
   ],
   "source": [
    "net = MyDense(4, 3)\n",
    "net.weights, net.trainable_variables\n",
    "# 类初始化中创建为tf.Variable类型的类成员变量也会自动纳入张量管理中"
   ]
  },
  {
   "cell_type": "code",
   "execution_count": 266,
   "metadata": {},
   "outputs": [
    {
     "data": {
      "text/plain": [
       "[<tf.Variable 'Variable:0' shape=(4, 3) dtype=float32, numpy=\n",
       " array([[ 0.754328  , -0.9152435 ,  0.13642979],\n",
       "        [-0.32667977,  0.41843903, -0.90037096],\n",
       "        [-0.51423925,  0.3639443 ,  0.49711728],\n",
       "        [ 0.84835196,  0.8868474 ,  0.6283009 ]], dtype=float32)>]"
      ]
     },
     "execution_count": 266,
     "metadata": {},
     "output_type": "execute_result"
    }
   ],
   "source": [
    "net.variables"
   ]
  },
  {
   "cell_type": "code",
   "execution_count": 274,
   "metadata": {},
   "outputs": [
    {
     "data": {
      "text/plain": [
       "<tf.Tensor: id=57468, shape=(3, 4), dtype=float32, numpy=\n",
       "array([[ 0.3998409 , -0.97267   ,  0.6637845 , -1.2764329 ],\n",
       "       [ 1.1170532 ,  0.73980343, -0.47469783,  0.729653  ],\n",
       "       [ 0.61917156, -0.7106153 ,  0.11225893, -0.31066328]],\n",
       "      dtype=float32)>"
      ]
     },
     "execution_count": 274,
     "metadata": {},
     "output_type": "execute_result"
    }
   ],
   "source": [
    "x = tf.random.normal([3, 4])\n",
    "x"
   ]
  },
  {
   "cell_type": "code",
   "execution_count": 276,
   "metadata": {},
   "outputs": [
    {
     "data": {
      "text/plain": [
       "<tf.Tensor: id=57471, shape=(3, 3), dtype=float32, numpy=\n",
       "array([[0.9444338 , 0.        , 0.        ],\n",
       "       [0.14790618, 2.0291421 , 0.22941633],\n",
       "       [0.97837245, 0.        , 0.        ]], dtype=float32)>"
      ]
     },
     "execution_count": 276,
     "metadata": {},
     "output_type": "execute_result"
    }
   ],
   "source": [
    "net(x)"
   ]
  },
  {
   "cell_type": "markdown",
   "metadata": {},
   "source": [
    "### 自定义网络\n",
    "\n",
    "Sequential 容器适合于数据按序从第一层传播到第二层，再从第二层传播到第三层，以此规律传播的网络模型.\n",
    "\n",
    "对于复杂的网络结构, 使用自定义网络类更加灵活"
   ]
  },
  {
   "cell_type": "code",
   "execution_count": 278,
   "metadata": {},
   "outputs": [
    {
     "name": "stdout",
     "output_type": "stream",
     "text": [
      "Model: \"sequential_25\"\n",
      "_________________________________________________________________\n",
      "Layer (type)                 Output Shape              Param #   \n",
      "=================================================================\n",
      "my_dense_9 (MyDense)         multiple                  2048      \n",
      "_________________________________________________________________\n",
      "my_dense_10 (MyDense)        multiple                  320       \n",
      "=================================================================\n",
      "Total params: 2,368\n",
      "Trainable params: 2,368\n",
      "Non-trainable params: 0\n",
      "_________________________________________________________________\n"
     ]
    }
   ],
   "source": [
    "network = Sequential([\n",
    "#     MyDense(784, 256), \n",
    "#     MyDense(256, 128), \n",
    "#     MyDense(128, 64), \n",
    "    MyDense(64, 32), \n",
    "    MyDense(32, 10), \n",
    "])\n",
    "network.build(input_shape=(None, 8*8))\n",
    "network.summary()"
   ]
  },
  {
   "cell_type": "code",
   "execution_count": null,
   "metadata": {},
   "outputs": [],
   "source": []
  }
 ],
 "metadata": {
  "kernelspec": {
   "display_name": "Python 3",
   "language": "python",
   "name": "python3"
  },
  "language_info": {
   "codemirror_mode": {
    "name": "ipython",
    "version": 3
   },
   "file_extension": ".py",
   "mimetype": "text/x-python",
   "name": "python",
   "nbconvert_exporter": "python",
   "pygments_lexer": "ipython3",
   "version": "3.7.2rc1"
  }
 },
 "nbformat": 4,
 "nbformat_minor": 2
}
