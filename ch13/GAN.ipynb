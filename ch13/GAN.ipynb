{
 "cells": [
  {
   "cell_type": "markdown",
   "metadata": {},
   "source": [
    "# Generative Adverarial Network "
   ]
  },
  {
   "cell_type": "markdown",
   "metadata": {},
   "source": [
    "生成对抗网络包含了两个子网络：生成网络(Generator，简称G)和判别网络\n",
    "(Discriminator，简称D)，其中生成网络G 负责学习样本的真实分布，判别网络D 负责将\n",
    "生成网络采样的样本与真实样本区分开来。"
   ]
  },
  {
   "cell_type": "code",
   "execution_count": 7,
   "metadata": {},
   "outputs": [],
   "source": [
    "import os\n",
    "import glob"
   ]
  },
  {
   "cell_type": "code",
   "execution_count": 1,
   "metadata": {},
   "outputs": [],
   "source": [
    "import numpy as np\n",
    "import matplotlib.pyplot as plt\n",
    "import tensorflow as tf\n",
    "\n",
    "%matplotlib inline\n",
    "\n",
    "gpus = tf.config.experimental.list_physical_devices('GPU')\n",
    "try:\n",
    "    for gpu in gpus:\n",
    "        tf.config.experimental.set_memory_growth(gpu, True)\n",
    "except RuntimeError as e:\n",
    "    print(e)"
   ]
  },
  {
   "cell_type": "code",
   "execution_count": 8,
   "metadata": {},
   "outputs": [
    {
     "name": "stdout",
     "output_type": "stream",
     "text": [
      "image nums: 51223\n"
     ]
    }
   ],
   "source": [
    "anime_path = glob.glob(r'D:\\chrome_download\\Deep-Learning-with-TensorFlow-book-master\\Deep-Learning-with-TensorFlow-book-master\\ch13\\faces\\*.jpg')\n",
    "print('image nums:', len(anime_path))"
   ]
  },
  {
   "cell_type": "code",
   "execution_count": 24,
   "metadata": {},
   "outputs": [],
   "source": [
    "from tensorflow.keras import layers, Model\n",
    "from tensorflow.keras.utils import plot_model"
   ]
  },
  {
   "cell_type": "code",
   "execution_count": 21,
   "metadata": {},
   "outputs": [],
   "source": [
    "def make_generator_model(z_dim):\n",
    "    filters = 64\n",
    "    model = tf.keras.Sequential([])\n",
    "    \n",
    "    model.add(layers.Reshape((1, 1, z_dim)))\n",
    "    model.add(layers.ReLU())\n",
    "    # 转置卷积-BN-激活函数:(b, 4, 4, 512)\n",
    "    model.add(layers.Conv2DTranspose(filters=filters * 8, kernel_size=4, strides=1, padding='valid', use_bias=False))\n",
    "    model.add(layers.BatchNormalization())\n",
    "    model.add(layers.Activation('relu'))\n",
    "    \n",
    "    # 转置卷积-BN-激活函数:(b, 8, 8, 256)\n",
    "    model.add(layers.Conv2DTranspose(filters=filters * 4, kernel_size=4, strides=2, padding='same', use_bias=False))\n",
    "    model.add(layers.BatchNormalization())\n",
    "    model.add(layers.Activation('relu'))\n",
    "    \n",
    "    # 转置卷积-BN-激活函数:(b, 16, 16, 128)\n",
    "    model.add(layers.Conv2DTranspose(filters=filters * 2, kernel_size=4, strides=2, padding='same', use_bias=False))\n",
    "    model.add(layers.BatchNormalization())\n",
    "    model.add(layers.Activation('relu'))\n",
    "    \n",
    "    # 转置卷积-BN-激活函数:(b, 32, 32, 64)\n",
    "    model.add(layers.Conv2DTranspose(filters=filters * 1, kernel_size=4, strides=2, padding='same', use_bias=False))\n",
    "    model.add(layers.BatchNormalization())\n",
    "    model.add(layers.Activation('relu'))\n",
    "    \n",
    "    # 转置卷积-BN-激活函数:(b, 64, 64, 3)\n",
    "    model.add(layers.Conv2DTranspose(filters=3, kernel_size=4, strides=2, padding='same', use_bias=False, activation='tanh'))\n",
    "    return model"
   ]
  },
  {
   "cell_type": "code",
   "execution_count": 38,
   "metadata": {},
   "outputs": [],
   "source": [
    "generator = make_generator_model(100)\n",
    "# generator = Generator()\n",
    "generator.build(input_shape=(None, 100))"
   ]
  },
  {
   "cell_type": "code",
   "execution_count": 39,
   "metadata": {},
   "outputs": [
    {
     "name": "stdout",
     "output_type": "stream",
     "text": [
      "Model: \"sequential_7\"\n",
      "_________________________________________________________________\n",
      "Layer (type)                 Output Shape              Param #   \n",
      "=================================================================\n",
      "reshape_7 (Reshape)          multiple                  0         \n",
      "_________________________________________________________________\n",
      "re_lu_7 (ReLU)               multiple                  0         \n",
      "_________________________________________________________________\n",
      "conv2d_transpose_45 (Conv2DT multiple                  819200    \n",
      "_________________________________________________________________\n",
      "batch_normalization_36 (Batc multiple                  2048      \n",
      "_________________________________________________________________\n",
      "activation_28 (Activation)   multiple                  0         \n",
      "_________________________________________________________________\n",
      "conv2d_transpose_46 (Conv2DT multiple                  2097152   \n",
      "_________________________________________________________________\n",
      "batch_normalization_37 (Batc multiple                  1024      \n",
      "_________________________________________________________________\n",
      "activation_29 (Activation)   multiple                  0         \n",
      "_________________________________________________________________\n",
      "conv2d_transpose_47 (Conv2DT multiple                  524288    \n",
      "_________________________________________________________________\n",
      "batch_normalization_38 (Batc multiple                  512       \n",
      "_________________________________________________________________\n",
      "activation_30 (Activation)   multiple                  0         \n",
      "_________________________________________________________________\n",
      "conv2d_transpose_48 (Conv2DT multiple                  131072    \n",
      "_________________________________________________________________\n",
      "batch_normalization_39 (Batc multiple                  256       \n",
      "_________________________________________________________________\n",
      "activation_31 (Activation)   multiple                  0         \n",
      "_________________________________________________________________\n",
      "conv2d_transpose_49 (Conv2DT multiple                  3072      \n",
      "=================================================================\n",
      "Total params: 3,578,624\n",
      "Trainable params: 3,576,704\n",
      "Non-trainable params: 1,920\n",
      "_________________________________________________________________\n"
     ]
    }
   ],
   "source": [
    "generator.summary()"
   ]
  },
  {
   "cell_type": "code",
   "execution_count": 31,
   "metadata": {},
   "outputs": [
    {
     "data": {
      "image/png": "[encoded data removed]",
      "text/plain": [
       "<IPython.core.display.Image object>"
      ]
     },
     "execution_count": 31,
     "metadata": {},
     "output_type": "execute_result"
    }
   ],
   "source": [
    "plot_model(generator, show_shapes=True)"
   ]
  },
  {
   "cell_type": "code",
   "execution_count": 35,
   "metadata": {},
   "outputs": [
    {
     "data": {
      "text/plain": [
       "<matplotlib.image.AxesImage at 0x205e17b8>"
      ]
     },
     "execution_count": 35,
     "metadata": {},
     "output_type": "execute_result"
    },
    {
     "data": {
      "image/png": "[encoded data removed]",
      "text/plain": [
       "<Figure size 432x288 with 1 Axes>"
      ]
     },
     "metadata": {
      "needs_background": "light"
     },
     "output_type": "display_data"
    }
   ],
   "source": [
    "noise = tf.random.normal([1, 100])\n",
    "generated_image = generator(noise, training=False)\n",
    "\n",
    "plt.imshow(generated_image[0, :, :, 0])"
   ]
  },
  {
   "cell_type": "code",
   "execution_count": 40,
   "metadata": {},
   "outputs": [
    {
     "data": {
      "text/plain": [
       "TensorShape([1, 64, 64, 3])"
      ]
     },
     "execution_count": 40,
     "metadata": {},
     "output_type": "execute_result"
    }
   ],
   "source": [
    "generated_image.shape"
   ]
  },
  {
   "cell_type": "code",
   "execution_count": null,
   "metadata": {},
   "outputs": [],
   "source": [
    "def make_discriminator_model():\n",
    "    filters = 64\n",
    "    model = tf.keras.Sequential([])\n",
    "    \n",
    "    \n",
    "    # 卷积-BN-激活函数:(b, 31, 31, 64)  (64 - 4 + 1) / 2 向上取整\n",
    "    model.add(layers.Conv2DTranspose(filters=filters * 1, kernel_size=4, strides=2, padding='valid', use_bias=False))\n",
    "    model.add(layers.BatchNormalization())\n",
    "    model.add(layers.Activation('relu'))\n",
    "    \n",
    "    # 转置卷积-BN-激活函数:(b, 4, 4, 512)\n",
    "    model.add(layers.Conv2(filters=filters * 8, kernel_size=4, strides=1, padding='valid', use_bias=False))\n",
    "    model.add(layers.BatchNormalization())\n",
    "    model.add(layers.Activation('relu'))\n",
    "    \n",
    "    # 转置卷积-BN-激活函数:(b, 8, 8, 256)\n",
    "    model.add(layers.Conv2DTranspose(filters=filters * 4, kernel_size=4, strides=2, padding='same', use_bias=False))\n",
    "    model.add(layers.BatchNormalization())\n",
    "    model.add(layers.Activation('relu'))\n",
    "    \n",
    "    # 转置卷积-BN-激活函数:(b, 16, 16, 128)\n",
    "    model.add(layers.Conv2DTranspose(filters=filters * 2, kernel_size=4, strides=2, padding='same', use_bias=False))\n",
    "    model.add(layers.BatchNormalization())\n",
    "    model.add(layers.Activation('relu'))\n",
    "    \n",
    "\n",
    "    \n",
    "    # 转置卷积-BN-激活函数:(b, 64, 64, 3)\n",
    "    model.add(layers.Conv2DTranspose(filters=3, kernel_size=4, strides=2, padding='same', use_bias=False, activation='tanh'))\n",
    "    return model"
   ]
  }
 ],
 "metadata": {
  "kernelspec": {
   "display_name": "Python 3",
   "language": "python",
   "name": "python3"
  },
  "language_info": {
   "codemirror_mode": {
    "name": "ipython",
    "version": 3
   },
   "file_extension": ".py",
   "mimetype": "text/x-python",
   "name": "python",
   "nbconvert_exporter": "python",
   "pygments_lexer": "ipython3",
   "version": "3.7.2rc1"
  }
 },
 "nbformat": 4,
 "nbformat_minor": 2
}
