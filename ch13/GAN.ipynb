{
 "cells": [
  {
   "cell_type": "markdown",
   "metadata": {},
   "source": [
    "# Generative Adversarial Network"
   ]
  },
  {
   "cell_type": "markdown",
   "metadata": {},
   "source": [
    "生成对抗网络包含了两个子网络：生成网络(Generator，简称G)和判别网络\n",
    "(Discriminator，简称D)，其中生成网络G 负责学习样本的真实分布，判别网络D 负责将\n",
    "生成网络采样的样本与真实样本区分开来。"
   ]
  },
  {
   "cell_type": "markdown",
   "metadata": {},
   "source": [
    "https://www.cnblogs.com/wt869054461/p/7156397.html"
   ]
  },
  {
   "cell_type": "code",
   "execution_count": null,
   "metadata": {},
   "outputs": [],
   "source": [
    "import os\n",
    "import glob\n",
    "import time\n",
    "import cv2"
   ]
  },
  {
   "cell_type": "code",
   "execution_count": null,
   "metadata": {},
   "outputs": [],
   "source": [
    "import numpy as np\n",
    "import matplotlib.pyplot as plt\n",
    "import tensorflow as tf\n",
    "\n",
    "%matplotlib inline\n",
    "\n",
    "gpus = tf.config.experimental.list_physical_devices('GPU')\n",
    "try:\n",
    "    for gpu in gpus:\n",
    "        tf.config.experimental.set_memory_growth(gpu, True)\n",
    "except RuntimeError as e:\n",
    "    print(e)"
   ]
  },
  {
   "cell_type": "markdown",
   "metadata": {},
   "source": [
    "## 1.数据导入和预处理"
   ]
  },
  {
   "cell_type": "code",
   "execution_count": null,
   "metadata": {
    "pycharm": {
     "name": "#%%\n"
    }
   },
   "outputs": [],
   "source": [
    "from dataset import make_anime_dataset\n",
    "\n",
    "BATCH_SIZE = 64\n",
    "# img_path = glob.glob(r'/home/ulysses/workspace/AI/Deep-Learning-with-TensorFlow-book/ch13/faces/*.jpg')\n",
    "img_path = glob.glob(r'D:\\chrome_download\\Deep-Learning-with-TensorFlow-book-master\\Deep-Learning-with-TensorFlow-book-master\\ch13/faces/*.jpg')\n",
    "print('images num:', len(img_path))\n",
    "dataset, img_shape, _ = make_anime_dataset(img_path, BATCH_SIZE, resize=64)\n",
    "print(dataset, img_shape)\n",
    "sample = next(iter(dataset)) # 采样\n",
    "print(sample.shape, tf.reduce_max(sample).numpy(),\n",
    "      tf.reduce_min(sample).numpy())\n",
    "dataset = dataset.repeat(100) # 重复循环\n",
    "db_iter = iter(dataset)"
   ]
  },
  {
   "cell_type": "code",
   "execution_count": null,
   "metadata": {},
   "outputs": [],
   "source": [
    "for img in dataset.take(1):\n",
    "#     img_ = ((img[0] + 1.0) * 127.5)\n",
    "    plt.imshow(img[0])\n",
    "    break"
   ]
  },
  {
   "cell_type": "markdown",
   "metadata": {},
   "source": [
    "## 2.构建模型\n",
    "\n",
    "### 构建生成器"
   ]
  },
  {
   "cell_type": "code",
   "execution_count": null,
   "metadata": {},
   "outputs": [],
   "source": [
    "from tensorflow.keras import layers, Model\n",
    "from tensorflow.keras.utils import plot_model"
   ]
  },
  {
   "cell_type": "code",
   "execution_count": null,
   "metadata": {},
   "outputs": [],
   "source": [
    "def make_generator_model(z_dim):\n",
    "    filters = 64\n",
    "    model = tf.keras.Sequential([])\n",
    "    \n",
    "    model.add(layers.Reshape((1, 1, z_dim)))\n",
    "    model.add(layers.ReLU())\n",
    "    # 转置卷积-BN-激活函数:(b, 4, 4, 512)\n",
    "    model.add(layers.Conv2DTranspose(filters=filters * 8, kernel_size=4, strides=1, padding='valid', use_bias=False))\n",
    "    model.add(layers.BatchNormalization())\n",
    "    model.add(layers.Activation('relu'))\n",
    "    \n",
    "    # 转置卷积-BN-激活函数:(b, 8, 8, 256)\n",
    "    model.add(layers.Conv2DTranspose(filters=filters * 4, kernel_size=4, strides=2, padding='same', use_bias=False))\n",
    "    model.add(layers.BatchNormalization())\n",
    "    model.add(layers.Activation('relu'))\n",
    "    \n",
    "    # 转置卷积-BN-激活函数:(b, 16, 16, 128)\n",
    "    model.add(layers.Conv2DTranspose(filters=filters * 2, kernel_size=4, strides=2, padding='same', use_bias=False))\n",
    "    model.add(layers.BatchNormalization())\n",
    "    model.add(layers.Activation('relu'))\n",
    "    \n",
    "    # 转置卷积-BN-激活函数:(b, 32, 32, 64)\n",
    "    model.add(layers.Conv2DTranspose(filters=filters * 1, kernel_size=4, strides=2, padding='same', use_bias=False))\n",
    "    model.add(layers.BatchNormalization())\n",
    "    model.add(layers.Activation('relu'))\n",
    "    \n",
    "    # 转置卷积-BN-激活函数:(b, 64, 64, 3)\n",
    "    model.add(layers.Conv2DTranspose(filters=3, kernel_size=4, strides=2, padding='same', use_bias=False, activation='tanh'))\n",
    "    return model"
   ]
  },
  {
   "cell_type": "code",
   "execution_count": null,
   "metadata": {},
   "outputs": [],
   "source": [
    "generator = make_generator_model(100)\n",
    "# generator = Generator()\n",
    "generator.build(input_shape=(None, 100))"
   ]
  },
  {
   "cell_type": "code",
   "execution_count": null,
   "metadata": {},
   "outputs": [],
   "source": [
    "generator.summary()"
   ]
  },
  {
   "cell_type": "code",
   "execution_count": null,
   "metadata": {},
   "outputs": [],
   "source": [
    "plot_model(generator, show_shapes=True)"
   ]
  },
  {
   "cell_type": "code",
   "execution_count": null,
   "metadata": {},
   "outputs": [],
   "source": [
    "noise = tf.random.normal([1, 100])\n",
    "generated_image = generator(noise, training=False)\n",
    "\n",
    "plt.imshow(generated_image[0, :, :, 0])"
   ]
  },
  {
   "cell_type": "code",
   "execution_count": null,
   "metadata": {},
   "outputs": [],
   "source": [
    "generated_image.shape"
   ]
  },
  {
   "cell_type": "markdown",
   "metadata": {},
   "source": [
    "### 构建判别器"
   ]
  },
  {
   "cell_type": "code",
   "execution_count": null,
   "metadata": {},
   "outputs": [],
   "source": [
    "def make_discriminator_model():\n",
    "    filters = 64\n",
    "    model = tf.keras.Sequential([])\n",
    "    \n",
    "    \n",
    "    # 卷积-BN-激活函数:(b, 31, 31, 64)  (64 - 4 + 1) / 2 向上取整\n",
    "    model.add(layers.Conv2D(filters=filters * 1, kernel_size=4, strides=2, padding='valid', use_bias=False))\n",
    "    model.add(layers.BatchNormalization())\n",
    "    model.add(layers.LeakyReLU())\n",
    "    \n",
    "    # 卷积-BN-激活函数:(b, 14, 14, 128)\n",
    "    model.add(layers.Conv2D(filters=filters * 2, kernel_size=4, strides=2, padding='valid', use_bias=False))\n",
    "    model.add(layers.BatchNormalization())\n",
    "    model.add(layers.LeakyReLU())\n",
    "\n",
    "    # 卷积-BN-激活函数:(b, 6, 6, 256)\n",
    "    model.add(layers.Conv2D(filters=filters * 4, kernel_size=4, strides=2, padding='valid', use_bias=False))\n",
    "    model.add(layers.BatchNormalization())\n",
    "    model.add(layers.LeakyReLU())\n",
    "\n",
    "    \n",
    "    # 卷积-BN-激活函数:(b, 4, 4, 512)\n",
    "    model.add(layers.Conv2D(filters=filters * 8, kernel_size=3, strides=1, padding='valid', use_bias=False))\n",
    "    model.add(layers.BatchNormalization())\n",
    "    model.add(layers.LeakyReLU())\n",
    "    \n",
    "\n",
    "    # 卷积-BN-激活函数:(b, 2, 2, 1024)\n",
    "    model.add(layers.Conv2D(filters=filters * 16, kernel_size=3, strides=1, padding='valid', use_bias=False))\n",
    "    model.add(layers.BatchNormalization())\n",
    "    model.add(layers.LeakyReLU())\n",
    "\n",
    "    # (b, 1024)\n",
    "    model.add(layers.GlobalAveragePooling2D())\n",
    "    model.add(layers.Flatten())\n",
    "    model.add(layers.Dense(1))  # logits 输出\n",
    "\n",
    "    return model"
   ]
  },
  {
   "cell_type": "code",
   "execution_count": null,
   "metadata": {
    "pycharm": {
     "name": "#%%\n"
    }
   },
   "outputs": [],
   "source": [
    "discriminator = make_discriminator_model()\n",
    "discriminator.build(input_shape=(4, 64, 64, 3))"
   ]
  },
  {
   "cell_type": "code",
   "execution_count": null,
   "metadata": {},
   "outputs": [],
   "source": [
    "discriminator.summary()"
   ]
  },
  {
   "cell_type": "markdown",
   "metadata": {},
   "source": [
    "## 3. 定义损失函数"
   ]
  },
  {
   "cell_type": "code",
   "execution_count": null,
   "metadata": {
    "pycharm": {
     "name": "#%%\n"
    }
   },
   "outputs": [],
   "source": [
    "# 判别器和生成器的损失\n",
    "cross_entropy = tf.keras.losses.BinaryCrossentropy(from_logits=True)\n",
    "def discriminator_loss(real_output, fake_output):\n",
    "    # real 越接近1越好\n",
    "    real_loss = cross_entropy(tf.ones_like(real_output), real_output)\n",
    "    # fake 越接近0越好\n",
    "    fake_loss = cross_entropy(tf.zeros_like(fake_output), fake_output)\n",
    "    total_loss = real_loss + fake_loss\n",
    "    return tf.reduce_mean(total_loss)\n",
    "\n",
    "def generator_loss(fake_output):\n",
    "    # 生成的数据结果越接近1越好\n",
    "    loss = cross_entropy(tf.ones_like(fake_output), fake_output)\n",
    "    return tf.reduce_mean(loss)\n",
    "\n",
    "learning_rate = 2e-4\n",
    "generator_optimizer = tf.keras.optimizers.Adam(learning_rate=learning_rate, beta_1=0.5)\n",
    "discriminator_optimizer = tf.keras.optimizers.Adam(learning_rate, beta_1=0.5)"
   ]
  },
  {
   "cell_type": "markdown",
   "metadata": {},
   "source": [
    "```python3\n",
    "checkpoint_directory = \"/tmp/training_checkpoints\"\n",
    "checkpoint_prefix = os.path.join(checkpoint_directory, \"ckpt\")\n",
    "\n",
    "checkpoint = tf.train.Checkpoint(optimizer=optimizer, model=model)\n",
    "status = checkpoint.restore(tf.train.latest_checkpoint(checkpoint_directory))\n",
    "for _ in range(num_training_steps):\n",
    "  optimizer.minimize( ... )  # Variables will be restored on creation.\n",
    "status.assert_consumed()  # Optional sanity checks.\n",
    "checkpoint.save(file_prefix=checkpoint_prefix)\n",
    "```"
   ]
  },
  {
   "cell_type": "code",
   "execution_count": null,
   "metadata": {
    "pycharm": {
     "name": "#%%\n"
    }
   },
   "outputs": [],
   "source": [
    "# checkpoint\n",
    "check_point_dir = './train_checkpoints'\n",
    "check_point_prefix = os.path.join(check_point_dir, 'ckpt')\n",
    "check_point = tf.train.Checkpoint(generator_optimizer = generator_optimizer,\n",
    "                                  discriminator_optimizer = discriminator_optimizer,\n",
    "                                  generator=generator,\n",
    "                                  discriminator=discriminator)"
   ]
  },
  {
   "cell_type": "markdown",
   "metadata": {},
   "source": [
    "## 4. 训练函数"
   ]
  },
  {
   "cell_type": "code",
   "execution_count": null,
   "metadata": {},
   "outputs": [],
   "source": [
    "EPOCHS = 30000\n",
    "z_dim = 100 # 隐向量z维度\n",
    "K = 5  #  判断器迭代次数 \n",
    "\n",
    "nums_examples_to_generate = 100\n",
    "seed = tf.random.normal([nums_examples_to_generate, z_dim])"
   ]
  },
  {
   "cell_type": "code",
   "execution_count": null,
   "metadata": {},
   "outputs": [],
   "source": [
    "# 迭代函数\n",
    "@tf.function\n",
    "def train_step():\n",
    "    \n",
    "    noise = tf.random.normal([BATCH_SIZE, z_dim])\n",
    "    images = next(db_iter)\n",
    "    \n",
    "    for _ in range(K):\n",
    "        with tf.GradientTape() as disc_tape:\n",
    "            generated_images = generator(noise, training=True)\n",
    "            real_output = discriminator(images, training=True)\n",
    "            fake_output = discriminator(generated_images, training=True)\n",
    "            dis_loss = discriminator_loss(real_output, fake_output)\n",
    "\n",
    "        gradients_of_discriminator = disc_tape.gradient(dis_loss, discriminator.trainable_variables)\n",
    "        discriminator_optimizer.apply_gradients(zip(gradients_of_discriminator, discriminator.trainable_variables))\n",
    "    \n",
    "    # 避免更新太多而令 JS 散度上升。\n",
    "    with tf.GradientTape() as gen_tape:\n",
    "        noise = tf.random.normal([BATCH_SIZE, z_dim])\n",
    "        generated_images = generator(noise, training=True)\n",
    "        fake_output = discriminator(generated_images, training=True)\n",
    "        gen_loss = generator_loss(fake_output)\n",
    "    gradients_of_generator = gen_tape.gradient(gen_loss, generator.trainable_variables)\n",
    "    generator_optimizer.apply_gradients(zip(gradients_of_generator, generator.trainable_variables))\n",
    "    \n",
    "    return gen_loss, dis_loss"
   ]
  },
  {
   "cell_type": "markdown",
   "metadata": {},
   "source": [
    "生成图片"
   ]
  },
  {
   "cell_type": "code",
   "execution_count": null,
   "metadata": {},
   "outputs": [],
   "source": [
    "def generate_and_save_images(model, val_block_size, image_path, seed):\n",
    "    def preprocess(img):\n",
    "        img = ((img + 1.0) * 127.5).astype(np.uint8)\n",
    "        # img = img.astype(np.uint8)\n",
    "        return img\n",
    "    val_out = model(seed, training=False)\n",
    "    preprocesed = preprocess(val_out.numpy())\n",
    "    final_image = np.array([])\n",
    "    single_row = np.array([])\n",
    "    for b in range(val_out.shape[0]):\n",
    "        # concat image into a row\n",
    "        if single_row.size == 0:\n",
    "            single_row = preprocesed[b, :, :, :]\n",
    "        else:\n",
    "            single_row = np.concatenate((single_row, preprocesed[b, :, :, :]), axis=1)\n",
    "\n",
    "        # concat image row to final_image\n",
    "        if (b+1) % val_block_size == 0:\n",
    "            if final_image.size == 0:\n",
    "                final_image = single_row\n",
    "            else:\n",
    "                final_image = np.concatenate((final_image, single_row), axis=0)\n",
    "\n",
    "            # reset single row\n",
    "            single_row = np.array([])\n",
    "\n",
    "    if final_image.shape[2] == 1:\n",
    "        final_image = np.squeeze(final_image, axis=2)\n",
    "    # toimage(final_image).save(image_path)\n",
    "    # io.imsave(image_path, final_image)\n",
    "    cv2.imwrite(image_path, final_image)"
   ]
  },
  {
   "cell_type": "code",
   "execution_count": null,
   "metadata": {},
   "outputs": [],
   "source": [
    "def train():\n",
    "    d_losses, g_losses = [],[]\n",
    "    for step in range(EPOCHS):\n",
    "        start = time.time()\n",
    "        gen_loss, dis_loss = train_step()\n",
    "        if step%100 == 0:\n",
    "            print(step, 'd-loss:',float(dis_loss), 'g-loss:', float(gen_loss))\n",
    "            d_losses.append(dis_loss)\n",
    "            g_losses.append(gen_loss)\n",
    "            # 查看同一个seed 生成的不同图片\n",
    "            img_path = os.path.join('gan_images1', 'gan-%d.png'%step)\n",
    "            generate_and_save_images(generator, 10, img_path, seed)\n",
    "        if (step + 1) % 10000 == 0:\n",
    "            checkpoint.save(file_prefix = checkpoint_prefix)\n",
    "    img_path = os.path.join('gan_images1', 'gan-%d.png'%step)\n",
    "    generate_and_save_images(generator, 10, img_path, seed)\n",
    "    return  d_losses, g_losses  "
   ]
  },
  {
   "cell_type": "code",
   "execution_count": null,
   "metadata": {
    "scrolled": true
   },
   "outputs": [],
   "source": [
    "d_losses, g_losses = train()"
   ]
  },
  {
   "cell_type": "code",
   "execution_count": null,
   "metadata": {},
   "outputs": [],
   "source": []
  }
 ],
 "metadata": {
  "kernelspec": {
   "display_name": "Python 3",
   "language": "python",
   "name": "python3"
  },
  "language_info": {
   "codemirror_mode": {
    "name": "ipython",
    "version": 3
   },
   "file_extension": ".py",
   "mimetype": "text/x-python",
   "name": "python",
   "nbconvert_exporter": "python",
   "pygments_lexer": "ipython3",
   "version": "3.7.2rc1"
  }
 },
 "nbformat": 4,
 "nbformat_minor": 2
}
