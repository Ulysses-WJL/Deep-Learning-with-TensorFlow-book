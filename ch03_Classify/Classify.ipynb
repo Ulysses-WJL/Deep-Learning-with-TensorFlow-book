{
 "cells": [
  {
   "cell_type": "markdown",
   "metadata": {},
   "source": [
    "# 分类问题"
   ]
  },
  {
   "cell_type": "markdown",
   "metadata": {},
   "source": [
    "## 手写数字识别\n",
    "\n",
    "**图片的表示方法**\n",
    "\n",
    "一张图片包含了ℎ行(Height/Row)，𝑤列\n",
    "(Width/Column)，每个位置保存了像素(Pixel)值，像素值一般使用 0~255 的整形数值来表达\n",
    "颜色强度信息，例如 0 表示强度最低，255 表示强度最高。如果是彩色图片，则每个像素\n",
    "点包含了 R、G、B 三个通道的强度信息，分别代表红色通道、绿色通道、蓝色通道的颜\n",
    "色强度，所以与灰度图片不同，它的每个像素点使用一个 1 维、长度为 3 的向量(Vector)来\n",
    "表示，向量的 3 个元素依次代表了当前像素点上面的 R、G、B 颜色强值，因此彩色图片\n",
    "需要保存为形状是\\[ℎ, 𝑤, 3\\]的张量(Tensor，可以通俗地理解为 3 维数组)。如果是灰度图片，则使用一个数值来表示灰度强度，例如 0 表示纯黑，255 表示纯白，因此它只需要一\n",
    "个形状为\\[ℎ, 𝑤\\]的二维矩阵(Matrix)来表示一张图片信息(也可以保存为\\[ℎ, 𝑤, 1\\]形状的张\n",
    "量)。\n",
    "\n",
    "我们用形状为\\[ℎ, 𝑤\\]的矩阵来表示一张图片，\n",
    "对于多张图片来说，我们在前面添加一个数量维度(Dimension)，使用形状为\\[𝑏, ℎ, 𝑤\\]的张量\n",
    "来表示，其中𝑏代表了批量(Batch Size)；多张彩色图片可以使用形状为\\[𝑏, ℎ, 𝑤, 𝑐\\]的张量来\n",
    "表示，其中𝑐表示通道数量(Channel)，彩色图片𝑐 = 3。通过 TensorFlow 的 Dataset 对象可\n",
    "以方便完成模型的批量训练，只需要调用 batch()函数即可构建带 batch 功能的数据集对\n",
    "象。"
   ]
  },
  {
   "cell_type": "code",
   "execution_count": 1,
   "metadata": {},
   "outputs": [],
   "source": [
    "import os\n",
    "\n",
    "import numpy as np\n",
    "import tensorflow as tf\n",
    "from tensorflow import keras\n",
    "from tensorflow.keras import layers, optimizers, datasets, metrics\n",
    "\n",
    "np.set_printoptions(threshold=16, precision=True, suppress=True)"
   ]
  },
  {
   "cell_type": "code",
   "execution_count": 2,
   "metadata": {},
   "outputs": [],
   "source": [
    "gpus = tf.config.experimental.list_physical_devices('GPU')\n",
    "try:\n",
    "    for gpu in gpus:\n",
    "        tf.config.experimental.set_memory_growth(gpu, True)\n",
    "except RuntimeError as e:\n",
    "    print(e)"
   ]
  },
  {
   "cell_type": "code",
   "execution_count": 33,
   "metadata": {},
   "outputs": [],
   "source": [
    "# 训练集 测试集\n",
    "(X, y), (X_val, y_val) = datasets.mnist.load_data()  # 加载 MNIST 数据集"
   ]
  },
  {
   "cell_type": "code",
   "execution_count": 36,
   "metadata": {},
   "outputs": [
    {
     "data": {
      "text/plain": "(10000, 28, 28)"
     },
     "execution_count": 36,
     "metadata": {},
     "output_type": "execute_result"
    }
   ],
   "source": [
    "X_val.shape"
   ]
  },
  {
   "cell_type": "code",
   "execution_count": 37,
   "metadata": {},
   "outputs": [
    {
     "data": {
      "text/plain": "(60000, 28, 28)"
     },
     "execution_count": 37,
     "metadata": {},
     "output_type": "execute_result"
    }
   ],
   "source": [
    "X.shape  # 60000个样本 每个28行28列"
   ]
  },
  {
   "cell_type": "code",
   "execution_count": 40,
   "metadata": {},
   "outputs": [
    {
     "data": {
      "text/plain": "<matplotlib.image.AxesImage at 0x7f7dd1ef9250>"
     },
     "execution_count": 40,
     "metadata": {},
     "output_type": "execute_result"
    },
    {
     "data": {
      "image/png": "[encoded data removed]",
      "image/svg+xml": "<?xml version=\"1.0\" encoding=\"utf-8\" standalone=\"no\"?>\n<!DOCTYPE svg PUBLIC \"-//W3C//DTD SVG 1.1//EN\"\n  \"http://www.w3.org/Graphics/SVG/1.1/DTD/svg11.dtd\">\n<!-- Created with matplotlib (https://matplotlib.org/) -->\n<svg height=\"423.80625pt\" version=\"1.1\" viewBox=\"0 0 422.7575 423.80625\" width=\"422.7575pt\" xmlns=\"http://www.w3.org/2000/svg\" xmlns:xlink=\"http://www.w3.org/1999/xlink\">\n <defs>\n  <style type=\"text/css\">\n*{stroke-linecap:butt;stroke-linejoin:round;}\n  </style>\n </defs>\n <g id=\"figure_1\">\n  <g id=\"patch_1\">\n   <path d=\"M -0 423.80625 \nL 422.7575 423.80625 \nL 422.7575 0 \nL -0 0 \nz\n\" style=\"fill:none;\"/>\n  </g>\n  <g id=\"axes_1\">\n   <g id=\"patch_2\">\n    <path d=\"M 35.0375 388.865625 \nL 415.5575 388.865625 \nL 415.5575 8.345625 \nL 35.0375 8.345625 \nz\n\" style=\"fill:#ffffff;\"/>\n   </g>\n   <g clip-path=\"url(#p595184f964)\">\n    <image height=\"381\" id=\"imagee7925bf776\" transform=\"scale(1 -1)translate(0 -381)\" width=\"381\" x=\"35.0375\" xlink:href=\"data:image/png;base64,\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\" y=\"-7.865625\"/>\n   </g>\n   <g id=\"matplotlib.axis_1\">\n    <g id=\"xtick_1\">\n     <g id=\"line2d_1\">\n      <defs>\n       <path d=\"M 0 0 \nL 0 3.5 \n\" id=\"m7cc2e52efc\" style=\"stroke:#000000;stroke-width:0.8;\"/>\n      </defs>\n      <g>\n       <use style=\"stroke:#000000;stroke-width:0.8;\" x=\"41.8325\" xlink:href=\"#m7cc2e52efc\" y=\"388.865625\"/>\n      </g>\n     </g>\n     <g id=\"text_1\">\n      <!-- 0 -->\n      <defs>\n       <path d=\"M 26.09375 -1.296875 \nC 38.796875 -1.296875 46.59375 10.90625 46.59375 36.5 \nC 46.59375 61.796875 38.796875 73.90625 26.09375 73.90625 \nC 13.203125 73.90625 5.5 61.796875 5.5 36.5 \nC 5.5 10.90625 13.203125 -1.296875 26.09375 -1.296875 \nz\nM 26.09375 2 \nC 15.796875 2 9.203125 14.203125 9.203125 36.5 \nC 9.203125 58.5 15.796875 70.703125 26.09375 70.703125 \nC 36.296875 70.703125 42.90625 58.5 42.90625 36.5 \nC 42.90625 14.203125 36.296875 2 26.09375 2 \nz\n\" id=\"NotoSansCJKjp-Thin-48\"/>\n      </defs>\n      <g transform=\"translate(36.623125 411.746875)scale(0.2 -0.2)\">\n       <use xlink:href=\"#NotoSansCJKjp-Thin-48\"/>\n      </g>\n     </g>\n    </g>\n    <g id=\"xtick_2\">\n     <g id=\"line2d_2\">\n      <g>\n       <use style=\"stroke:#000000;stroke-width:0.8;\" x=\"109.7825\" xlink:href=\"#m7cc2e52efc\" y=\"388.865625\"/>\n      </g>\n     </g>\n     <g id=\"text_2\">\n      <!-- 5 -->\n      <defs>\n       <path d=\"M 24.703125 -1.296875 \nC 35.703125 -1.296875 46.796875 7.5 46.796875 23.09375 \nC 46.796875 39.296875 37.296875 46.40625 25.40625 46.40625 \nC 20 46.40625 16 44.90625 12.296875 42.59375 \nL 14.703125 69.296875 \nL 43.09375 69.296875 \nL 43.09375 72.59375 \nL 11.40625 72.59375 \nL 8.796875 40 \nL 11.796875 38.203125 \nC 15.90625 41 19.703125 43 25.09375 43 \nC 36 43 43 35.296875 43 22.90625 \nC 43 10.40625 34.5 2 24.90625 2 \nC 14.796875 2 9.296875 6.40625 5.203125 10.796875 \nL 2.90625 8.09375 \nC 7.296875 3.703125 13.5 -1.296875 24.703125 -1.296875 \nz\n\" id=\"NotoSansCJKjp-Thin-53\"/>\n      </defs>\n      <g transform=\"translate(104.573125 411.746875)scale(0.2 -0.2)\">\n       <use xlink:href=\"#NotoSansCJKjp-Thin-53\"/>\n      </g>\n     </g>\n    </g>\n    <g id=\"xtick_3\">\n     <g id=\"line2d_3\">\n      <g>\n       <use style=\"stroke:#000000;stroke-width:0.8;\" x=\"177.7325\" xlink:href=\"#m7cc2e52efc\" y=\"388.865625\"/>\n      </g>\n     </g>\n     <g id=\"text_3\">\n      <!-- 10 -->\n      <defs>\n       <path d=\"M 9.5 0 \nL 45.296875 0 \nL 45.296875 3.296875 \nL 29.703125 3.296875 \nL 29.703125 72.59375 \nL 26.59375 72.59375 \nC 23.5 70.796875 19.09375 69.296875 13.5 68.40625 \nL 13.5 65.796875 \nL 26.203125 65.796875 \nL 26.203125 3.296875 \nL 9.5 3.296875 \nz\n\" id=\"NotoSansCJKjp-Thin-49\"/>\n      </defs>\n      <g transform=\"translate(167.31375 411.746875)scale(0.2 -0.2)\">\n       <use xlink:href=\"#NotoSansCJKjp-Thin-49\"/>\n       <use x=\"52.099991\" xlink:href=\"#NotoSansCJKjp-Thin-48\"/>\n      </g>\n     </g>\n    </g>\n    <g id=\"xtick_4\">\n     <g id=\"line2d_4\">\n      <g>\n       <use style=\"stroke:#000000;stroke-width:0.8;\" x=\"245.6825\" xlink:href=\"#m7cc2e52efc\" y=\"388.865625\"/>\n      </g>\n     </g>\n     <g id=\"text_4\">\n      <!-- 15 -->\n      <g transform=\"translate(235.26375 411.746875)scale(0.2 -0.2)\">\n       <use xlink:href=\"#NotoSansCJKjp-Thin-49\"/>\n       <use x=\"52.099991\" xlink:href=\"#NotoSansCJKjp-Thin-53\"/>\n      </g>\n     </g>\n    </g>\n    <g id=\"xtick_5\">\n     <g id=\"line2d_5\">\n      <g>\n       <use style=\"stroke:#000000;stroke-width:0.8;\" x=\"313.6325\" xlink:href=\"#m7cc2e52efc\" y=\"388.865625\"/>\n      </g>\n     </g>\n     <g id=\"text_5\">\n      <!-- 20 -->\n      <defs>\n       <path d=\"M 4.59375 0 \nL 47.09375 0 \nL 47.09375 3.296875 \nL 22.5 3.296875 \nC 18.59375 3.296875 14.59375 3.09375 10.59375 2.796875 \nC 31.59375 22.203125 43.5 37.59375 43.5 53.5 \nC 43.5 65.796875 36.40625 73.90625 24.09375 73.90625 \nC 15.59375 73.90625 9.5 69.296875 4.40625 63.59375 \nL 6.90625 61.296875 \nC 11.296875 66.796875 17.296875 70.59375 23.796875 70.59375 \nC 34.90625 70.59375 39.703125 62.90625 39.703125 53.5 \nC 39.703125 39.796875 30.40625 24.40625 4.59375 2.296875 \nz\n\" id=\"NotoSansCJKjp-Thin-50\"/>\n      </defs>\n      <g transform=\"translate(303.21375 411.746875)scale(0.2 -0.2)\">\n       <use xlink:href=\"#NotoSansCJKjp-Thin-50\"/>\n       <use x=\"52.099991\" xlink:href=\"#NotoSansCJKjp-Thin-48\"/>\n      </g>\n     </g>\n    </g>\n    <g id=\"xtick_6\">\n     <g id=\"line2d_6\">\n      <g>\n       <use style=\"stroke:#000000;stroke-width:0.8;\" x=\"381.5825\" xlink:href=\"#m7cc2e52efc\" y=\"388.865625\"/>\n      </g>\n     </g>\n     <g id=\"text_6\">\n      <!-- 25 -->\n      <g transform=\"translate(371.16375 411.746875)scale(0.2 -0.2)\">\n       <use xlink:href=\"#NotoSansCJKjp-Thin-50\"/>\n       <use x=\"52.099991\" xlink:href=\"#NotoSansCJKjp-Thin-53\"/>\n      </g>\n     </g>\n    </g>\n   </g>\n   <g id=\"matplotlib.axis_2\">\n    <g id=\"ytick_1\">\n     <g id=\"line2d_7\">\n      <defs>\n       <path d=\"M 0 0 \nL -3.5 0 \n\" id=\"m5cd3309bc7\" style=\"stroke:#000000;stroke-width:0.8;\"/>\n      </defs>\n      <g>\n       <use style=\"stroke:#000000;stroke-width:0.8;\" x=\"35.0375\" xlink:href=\"#m5cd3309bc7\" y=\"15.140625\"/>\n      </g>\n     </g>\n     <g id=\"text_7\">\n      <!-- 0 -->\n      <g transform=\"translate(17.61875 23.08125)scale(0.2 -0.2)\">\n       <use xlink:href=\"#NotoSansCJKjp-Thin-48\"/>\n      </g>\n     </g>\n    </g>\n    <g id=\"ytick_2\">\n     <g id=\"line2d_8\">\n      <g>\n       <use style=\"stroke:#000000;stroke-width:0.8;\" x=\"35.0375\" xlink:href=\"#m5cd3309bc7\" y=\"83.090625\"/>\n      </g>\n     </g>\n     <g id=\"text_8\">\n      <!-- 5 -->\n      <g transform=\"translate(17.61875 91.03125)scale(0.2 -0.2)\">\n       <use xlink:href=\"#NotoSansCJKjp-Thin-53\"/>\n      </g>\n     </g>\n    </g>\n    <g id=\"ytick_3\">\n     <g id=\"line2d_9\">\n      <g>\n       <use style=\"stroke:#000000;stroke-width:0.8;\" x=\"35.0375\" xlink:href=\"#m5cd3309bc7\" y=\"151.040625\"/>\n      </g>\n     </g>\n     <g id=\"text_9\">\n      <!-- 10 -->\n      <g transform=\"translate(7.2 158.98125)scale(0.2 -0.2)\">\n       <use xlink:href=\"#NotoSansCJKjp-Thin-49\"/>\n       <use x=\"52.099991\" xlink:href=\"#NotoSansCJKjp-Thin-48\"/>\n      </g>\n     </g>\n    </g>\n    <g id=\"ytick_4\">\n     <g id=\"line2d_10\">\n      <g>\n       <use style=\"stroke:#000000;stroke-width:0.8;\" x=\"35.0375\" xlink:href=\"#m5cd3309bc7\" y=\"218.990625\"/>\n      </g>\n     </g>\n     <g id=\"text_10\">\n      <!-- 15 -->\n      <g transform=\"translate(7.2 226.93125)scale(0.2 -0.2)\">\n       <use xlink:href=\"#NotoSansCJKjp-Thin-49\"/>\n       <use x=\"52.099991\" xlink:href=\"#NotoSansCJKjp-Thin-53\"/>\n      </g>\n     </g>\n    </g>\n    <g id=\"ytick_5\">\n     <g id=\"line2d_11\">\n      <g>\n       <use style=\"stroke:#000000;stroke-width:0.8;\" x=\"35.0375\" xlink:href=\"#m5cd3309bc7\" y=\"286.940625\"/>\n      </g>\n     </g>\n     <g id=\"text_11\">\n      <!-- 20 -->\n      <g transform=\"translate(7.2 294.88125)scale(0.2 -0.2)\">\n       <use xlink:href=\"#NotoSansCJKjp-Thin-50\"/>\n       <use x=\"52.099991\" xlink:href=\"#NotoSansCJKjp-Thin-48\"/>\n      </g>\n     </g>\n    </g>\n    <g id=\"ytick_6\">\n     <g id=\"line2d_12\">\n      <g>\n       <use style=\"stroke:#000000;stroke-width:0.8;\" x=\"35.0375\" xlink:href=\"#m5cd3309bc7\" y=\"354.890625\"/>\n      </g>\n     </g>\n     <g id=\"text_12\">\n      <!-- 25 -->\n      <g transform=\"translate(7.2 362.83125)scale(0.2 -0.2)\">\n       <use xlink:href=\"#NotoSansCJKjp-Thin-50\"/>\n       <use x=\"52.099991\" xlink:href=\"#NotoSansCJKjp-Thin-53\"/>\n      </g>\n     </g>\n    </g>\n   </g>\n   <g id=\"patch_3\">\n    <path d=\"M 35.0375 388.865625 \nL 35.0375 8.345625 \n\" style=\"fill:none;stroke:#000000;stroke-linecap:square;stroke-linejoin:miter;stroke-width:0.8;\"/>\n   </g>\n   <g id=\"patch_4\">\n    <path d=\"M 415.5575 388.865625 \nL 415.5575 8.345625 \n\" style=\"fill:none;stroke:#000000;stroke-linecap:square;stroke-linejoin:miter;stroke-width:0.8;\"/>\n   </g>\n   <g id=\"patch_5\">\n    <path d=\"M 35.0375 388.865625 \nL 415.5575 388.865625 \n\" style=\"fill:none;stroke:#000000;stroke-linecap:square;stroke-linejoin:miter;stroke-width:0.8;\"/>\n   </g>\n   <g id=\"patch_6\">\n    <path d=\"M 35.0375 8.345625 \nL 415.5575 8.345625 \n\" style=\"fill:none;stroke:#000000;stroke-linecap:square;stroke-linejoin:miter;stroke-width:0.8;\"/>\n   </g>\n  </g>\n </g>\n <defs>\n  <clipPath id=\"p595184f964\">\n   <rect height=\"380.52\" width=\"380.52\" x=\"35.0375\" y=\"8.345625\"/>\n  </clipPath>\n </defs>\n</svg>\n",
      "text/plain": "<Figure size 648x504 with 1 Axes>"
     },
     "metadata": {
      "needs_background": "light"
     },
     "output_type": "display_data"
    }
   ],
   "source": [
    "plt.imshow(X[0], cmap='bone', interpolation='nearest')"
   ]
  },
  {
   "cell_type": "code",
   "execution_count": 21,
   "metadata": {},
   "outputs": [
    {
     "data": {
      "text/plain": "numpy.ndarray"
     },
     "execution_count": 21,
     "metadata": {},
     "output_type": "execute_result"
    }
   ],
   "source": [
    "type(X)"
   ]
  },
  {
   "cell_type": "code",
   "execution_count": 22,
   "metadata": {},
   "outputs": [],
   "source": [
    "# 转为浮点张量 归一化 再缩放到-1 ~ 1 有利于模型的训练\n",
    "X = 2 * tf.convert_to_tensor(X, dtype=tf.float32) / 255. - 1"
   ]
  },
  {
   "cell_type": "code",
   "execution_count": 23,
   "metadata": {},
   "outputs": [
    {
     "data": {
      "text/plain": "<tf.Tensor: shape=(28, 28), dtype=float32, numpy=\narray([[-1., -1., -1., ..., -1., -1., -1.],\n       [-1., -1., -1., ..., -1., -1., -1.],\n       [-1., -1., -1., ..., -1., -1., -1.],\n       ...,\n       [-1., -1., -1., ..., -1., -1., -1.],\n       [-1., -1., -1., ..., -1., -1., -1.],\n       [-1., -1., -1., ..., -1., -1., -1.]], dtype=float32)>"
     },
     "execution_count": 23,
     "metadata": {},
     "output_type": "execute_result"
    }
   ],
   "source": [
    "X[1]"
   ]
  },
  {
   "cell_type": "code",
   "execution_count": 24,
   "metadata": {},
   "outputs": [
    {
     "data": {
      "text/plain": "<tf.Tensor: shape=(10,), dtype=int32, numpy=array([5, 0, 4, 1, 9, 2, 1, 3, 1, 4], dtype=int32)>"
     },
     "execution_count": 24,
     "metadata": {},
     "output_type": "execute_result"
    }
   ],
   "source": [
    "# y转换为整形张量\n",
    "y = tf.convert_to_tensor(y, dtype=tf.int32)\n",
    "y[:10]"
   ]
  },
  {
   "cell_type": "code",
   "execution_count": 25,
   "metadata": {},
   "outputs": [
    {
     "data": {
      "text/plain": "<tf.Tensor: shape=(10, 10), dtype=float32, numpy=\narray([[0., 0., 0., ..., 0., 0., 0.],\n       [1., 0., 0., ..., 0., 0., 0.],\n       [0., 0., 0., ..., 0., 0., 0.],\n       ...,\n       [0., 0., 0., ..., 0., 0., 0.],\n       [0., 1., 0., ..., 0., 0., 0.],\n       [0., 0., 0., ..., 0., 0., 0.]], dtype=float32)>"
     },
     "execution_count": 25,
     "metadata": {},
     "output_type": "execute_result"
    }
   ],
   "source": [
    "# one-hot 独热码\n",
    "y_onehot = tf.one_hot(y, depth=10)\n",
    "y_onehot[:10]\n",
    "# n_samples * 10"
   ]
  },
  {
   "cell_type": "code",
   "execution_count": 26,
   "metadata": {},
   "outputs": [
    {
     "data": {
      "text/plain": "TensorShape([60000, 10])"
     },
     "execution_count": 26,
     "metadata": {},
     "output_type": "execute_result"
    }
   ],
   "source": [
    "y_onehot.shape"
   ]
  },
  {
   "cell_type": "markdown",
   "metadata": {},
   "source": [
    "## 模型构建\n",
    "对于多输出节点、批量训练方式，我们将模型写成批量形式：\n",
    "$$Y = X@W + b$$\n",
    "其中$𝑿 \\in 𝑅^{b × 𝑑_{in}}，𝒃 ∈ 𝑅^{d_{out}}，𝒀 ∈ 𝑅^{b \\times d_{out}}，𝑾 \\in R^{d_{in} \\times d_{out}}，d_{in}表示输入节点数，d_{out}表示输出节点数$\n",
    "输入节点𝑿形状为$[b, d_{in}]$，表示𝑏个样本的输入数据，每个样本的特征长度为$d_{in}$\n",
    "\n",
    "输入特征长度$d_{in} = 3，输出特征长度d_{out} = 2$的模型\n",
    "\n",
    "![模型](./3输入2输出模型.png)"
   ]
  },
  {
   "cell_type": "markdown",
   "metadata": {},
   "source": [
    "### one-hot编码"
   ]
  },
  {
   "cell_type": "code",
   "execution_count": 11,
   "metadata": {},
   "outputs": [
    {
     "data": {
      "text/plain": "<tf.Tensor: shape=(60000, 10), dtype=float32, numpy=\narray([[0., 0., 0., ..., 0., 0., 0.],\n       [1., 0., 0., ..., 0., 0., 0.],\n       [0., 0., 0., ..., 0., 0., 0.],\n       ...,\n       [0., 0., 0., ..., 0., 0., 0.],\n       [0., 0., 0., ..., 0., 0., 0.],\n       [0., 0., 0., ..., 0., 1., 0.]], dtype=float32)>"
     },
     "execution_count": 11,
     "metadata": {},
     "output_type": "execute_result"
    }
   ],
   "source": [
    "y4 = tf.constant([0, 1, 2, 3])\n",
    "y4 = tf.one_hot(y4, depth=10)  # 指定类别总数为 10\n",
    "y4"
   ]
  },
  {
   "cell_type": "markdown",
   "metadata": {},
   "source": [
    "输入是一张展平后的图片向量$x \\in R^{784}$, 输出是长度为10的向量$o \\in R^{10}$\n",
    "\n",
    "预测模型采用多输入、多输出的线性模型 $o = 𝑾^𝐓𝒙 + 𝒃，$\n",
    "其中模型的输出记为输入的预测值 ，我们希望 越接近真实标签𝒚越好。一般把输入经过\n",
    "一次(线性)变换叫作一层网络。"
   ]
  },
  {
   "cell_type": "markdown",
   "metadata": {},
   "source": [
    "## 误差计算\n",
    "对于分类问题来说，我们的目标是最大化某个性能指标，比如准确度𝑎𝑐𝑐，但是把准确度当作损失函数去优化时发现$\\frac {\\partial{acc}} {\\partial \\theta}$不可导, 无法利用梯度下降算法优化网络参数.一般的做法是，设立一个平滑可导的代理目标函数，比如优化模型的输出 与 One-hot 编码后的真实标签𝒚之间的**距离**(Distance)，通过优化代理目标函数得到的模型，一般在测试性能上也能有良好的表现。因此，相对回归问题而言，分类问题的优化目标函数和评价目标函数是不一致的。\n",
    "$$W^*, b^* = argmin_{w, b} L(o, y)$$\n",
    "\n",
    "对n个样本的**均方差损失函数**可以表达为\n",
    "$$L(o, y) = \\frac 1 n \\sum_{i=1}^n\\sum_{j=1}^{10}(o_j^{(i)} - y_j^{(i)})^2$$\n",
    "\n",
    "## 存在的问题\n",
    "1. 线性模型过于简单, 逼近复杂的人脑图片识别模型，很显然不能胜任\n",
    "1. 表达能力, 表达能力体现为逼近复杂分布的能力。上面的解决方案只使用了少量神经元组成的一层网络模型，相对于人脑中千亿级别的神经元互联结构，它的表达能力明显偏弱\n",
    "\n",
    "\n",
    "## 解决与优化\n",
    "### 非线性模型\n",
    "给线性模型嵌套一个非线性函数, 将其转为非线性模型, 我们把这个非线性函数称为**激活函数**(Activation Function)，用𝜎表示:\n",
    "$$o = \\sigma(Wx + b)$$\n",
    "![激活函数](./激活函数.png)\n",
    "\n",
    "ReLU 函数非常简单，在𝑦 = 𝑥的基础上面截去了𝑥 < 0的部分，可以直观地理解为\n",
    "ReLU 函数仅保留正的输入部份，清零负的输入，具有单边抑制特性。虽然简单，ReLU 函\n",
    "数却有优良的非线性特性，而且梯度计算简单，训练稳定，是深度学习模型使用最广泛的\n",
    "激活函数之一。\n",
    "### 表达能力\n",
    "通过重复堆叠多次变换来增加其表达能力:\n",
    "$$\n",
    "h_1 = ReLU(W_1x + b_1) \\\\\n",
    "h_2 = ReLU(W_2h_1 + b_2) \\\\\n",
    "o = W_3h_2 + b_3 \\\\\n",
    "$$\n",
    "这种由大量神经元模型连接形成的网络结构称为 **神经网络**(Neural Network)。\n",
    "![3层神经网络](./神经网络.png)\n",
    "\n",
    "### 自动求导(Autograd)技术\n",
    "深度学习框架在计算神经网络每层的输出以及损失函数的过程中，会构建神经网络的计算图模\n",
    "型，并自动完成任意参数𝜃的偏导数$\\frac {\\partial L}{\\partial \\theta}$的计算."
   ]
  },
  {
   "cell_type": "markdown",
   "metadata": {},
   "source": []
  },
  {
   "cell_type": "markdown",
   "metadata": {},
   "source": [
    "## 网络搭建与模型训练\n",
    "Tensorflow创建网络:\n",
    "```\n",
    "# 创建一层网络，设置输出节点数为 256，激活函数类型为 ReLU\n",
    "layers.Dense(256, activation='relu')\n",
    "```"
   ]
  },
  {
   "cell_type": "code",
   "execution_count": 12,
   "metadata": {},
   "outputs": [],
   "source": [
    "# 利用 Sequential 容器封装 3 个网络层，前网络层的输出默认作为下一层的输入\n",
    "model = keras.Sequential([\n",
    "    layers.Dense(256, activation='relu'),  # 隐藏层1\n",
    "    layers.Dense(128, activation='relu'),  # 隐藏层2\n",
    "    layers.Dense(10)  # 输出层\n",
    "])"
   ]
  },
  {
   "cell_type": "code",
   "execution_count": 27,
   "metadata": {},
   "outputs": [],
   "source": [
    "with tf.GradientTape() as tape:\n",
    "    # 打平操作，[b, 28, 28] => [b, 784]\n",
    "    X = tf.reshape(X, (-1, 28 * 28))\n",
    "    # 1. 得到输出 [b, 784] -> [b, 10]\n",
    "    out = model(X)\n",
    "    # 标记 转为独热码\n",
    "    y_onehot = tf.one_hot(y, depth=10)\n",
    "    # 2. 计算MSE [b, 10]\n",
    "    loss = tf.square(out - y_onehot)\n",
    "    # 计算每个样本的平均误差，[b]\n",
    "    loss = tf.reduce_sum(loss) / x.shape[0]\n",
    "\n",
    "# 3. 自动求参数的梯度 w1, w2, b1, b2, b3\n",
    "grads = tape.gradient(loss, model.trainable_variables)"
   ]
  },
  {
   "cell_type": "code",
   "execution_count": 28,
   "metadata": {},
   "outputs": [
    {
     "data": {
      "text/plain": "[<tf.Tensor: shape=(784, 256), dtype=float32, numpy=\n array([[ 197.5, -110.3, -399.5, ...,    1.8,  282.5,   19.2],\n        [ 197.5, -110.3, -399.5, ...,    1.8,  282.5,   19.2],\n        [ 197.5, -110.3, -399.5, ...,    1.8,  282.5,   19.2],\n        ...,\n        [ 197.5, -110.3, -399.5, ...,    1.8,  282.5,   19.2],\n        [ 197.5, -110.3, -399.5, ...,    1.8,  282.5,   19.2],\n        [ 197.5, -110.3, -399.5, ...,    1.8,  282.5,   19.2]],\n       dtype=float32)>,\n <tf.Tensor: shape=(256,), dtype=float32, numpy=array([-197.5,  110.3,  399.5, ...,   -1.8, -282.5,  -19.2], dtype=float32)>,\n <tf.Tensor: shape=(256, 128), dtype=float32, numpy=\n array([[ -62.8,  148.1,   -2.8, ...,    1.4, -182.5,   34.4],\n        [ -33.2,   52.8,   -0. , ...,    0.2, -101.9,   14.3],\n        [-131.5,  335.3,   -2. , ...,    3.1, -496.2,   93.2],\n        ...,\n        [   4. ,   30. ,   -0.4, ...,    0.1,  -28.8,    3.8],\n        [ -45.2,  214.4,   -1.8, ...,    3.4, -376.9,   48.5],\n        [ -14.2,    8.3,   -0.4, ...,    0.2,   -9.9,    9.2]],\n       dtype=float32)>,\n <tf.Tensor: shape=(128,), dtype=float32, numpy=array([ -70.9,  167.3,   -1.5, ...,    1.9, -235.7,   46.9], dtype=float32)>,\n <tf.Tensor: shape=(128, 10), dtype=float32, numpy=\n array([[ -233.8,  -610.1,  -384. , ...,  -646. ,  -566.9, -1568.1],\n        [ -287.8,  -446.5,  -494.2, ...,  -547.6,  -419.4, -1155. ],\n        [   -2.9,    -0.6,    -1.2, ...,    -1.4,    -1.1,    -2.7],\n        ...,\n        [   -0. ,    -0.4,    -0.3, ...,    -0.6,    -0.5,    -1.4],\n        [  -55.7,  -265.6,  -171.2, ...,  -284.6,  -212. ,  -606. ],\n        [    2.1,   -25.3,   -19.2, ...,   -20. ,   -21.9,   -60.4]],\n       dtype=float32)>,\n <tf.Tensor: shape=(10,), dtype=float32, numpy=\n array([ -257.2,  -706.8,  -566.6, -1081.8,  -979.5,  -543.9,   263.5,\n         -763.6,  -603. , -1790. ], dtype=float32)>]"
     },
     "execution_count": 28,
     "metadata": {},
     "output_type": "execute_result"
    }
   ],
   "source": [
    "grads"
   ]
  },
  {
   "cell_type": "code",
   "execution_count": 29,
   "metadata": {},
   "outputs": [
    {
     "data": {
      "text/plain": "<tf.Variable 'UnreadVariable' shape=() dtype=int64, numpy=1>"
     },
     "execution_count": 29,
     "metadata": {},
     "output_type": "execute_result"
    }
   ],
   "source": [
    "# w' = w - lr * grad  更新网络参数\n",
    "optimizer = optimizers.SGD(learning_rate=0.001)\n",
    "optimizer.apply_gradients(zip(grads, model.trainable_variables))\n"
   ]
  },
  {
   "cell_type": "markdown",
   "metadata": {},
   "source": [
    "```\n",
    "os.environ['TF_CPP_MIN_LOG_LEVEL'] = '2'\n",
    "```\n",
    "INFO（通知）<WARNING（警告）<ERROR（错误）<FATAL（致命的)\n",
    "\n",
    "|  |base_loging|\t屏蔽信息|\t输出信息|\n",
    "|---|---|---|---|\n",
    "|“0”|\tINFO    |\t无|         INFO + WARNING + ERROR + FATAL|\n",
    "|“1”|   WARNING\t|INFO|              WARNING + ERROR + FATAL|\n",
    "|“2”|\tERROR\t|INFO + WARNING|\t    ERROR + FATAL|\n",
    "|“3”|\tFATAL\t|INFO + WARNING + ERROR|\t    FATAL|"
   ]
  },
  {
   "cell_type": "code",
   "execution_count": 44,
   "metadata": {},
   "outputs": [
    {
     "name": "stdout",
     "output_type": "stream",
     "text": "(60000, 28, 28) (60000,) <dtype: 'float32'> <dtype: 'int32'>\ntf.Tensor(0.0, shape=(), dtype=float32) tf.Tensor(1.0, shape=(), dtype=float32)\ntf.Tensor(0, shape=(), dtype=int32) tf.Tensor(9, shape=(), dtype=int32)\nbatch: (128, 28, 28) (128,)\n0 0 loss: 0.47115659713745117\n0 100 loss: 0.22770734131336212\n0 200 loss: 0.2046838253736496\n0 300 loss: 0.17099882662296295\n0 400 loss: 0.167177215218544\n1 0 loss: 0.15481291711330414\n1 100 loss: 0.15990331768989563\n1 200 loss: 0.1568237543106079\n1 300 loss: 0.14167198538780212\n1 400 loss: 0.1395467221736908\n2 0 loss: 0.1307026445865631\n2 100 loss: 0.14052455127239227\n2 200 loss: 0.13356837630271912\n2 300 loss: 0.1250942349433899\n2 400 loss: 0.12313482910394669\n3 0 loss: 0.11586517095565796\n3 100 loss: 0.12789574265480042\n3 200 loss: 0.11846554279327393\n3 300 loss: 0.1140664592385292\n3 400 loss: 0.11198369413614273\n4 0 loss: 0.1056993380188942\n4 100 loss: 0.11869434267282486\n4 200 loss: 0.10776277631521225\n4 300 loss: 0.10603638738393784\n4 400 loss: 0.10386401414871216\n5 0 loss: 0.0982646569609642\n5 100 loss: 0.11157983541488647\n5 200 loss: 0.09973029047250748\n5 300 loss: 0.09971488267183304\n5 400 loss: 0.09767274558544159\n6 0 loss: 0.09254354983568192\n6 100 loss: 0.10581103712320328\n6 200 loss: 0.09348053485155106\n6 300 loss: 0.09460876882076263\n6 400 loss: 0.09279182553291321\n7 0 loss: 0.08791012316942215\n7 100 loss: 0.10106398910284042\n7 200 loss: 0.08843489736318588\n7 300 loss: 0.09039169549942017\n7 400 loss: 0.08872845023870468\n8 0 loss: 0.08407285064458847\n8 100 loss: 0.09708519279956818\n8 200 loss: 0.08426521718502045\n8 300 loss: 0.08682755380868912\n8 400 loss: 0.08528845012187958\n9 0 loss: 0.0807984322309494\n9 100 loss: 0.09365301579236984\n9 200 loss: 0.0807541161775589\n9 300 loss: 0.08379983901977539\n9 400 loss: 0.08231938630342484\n10 0 loss: 0.07800253480672836\n10 100 loss: 0.09064066410064697\n10 200 loss: 0.07774768024682999\n10 300 loss: 0.08117007464170456\n10 400 loss: 0.07978469878435135\n11 0 loss: 0.07557092607021332\n11 100 loss: 0.08800280094146729\n11 200 loss: 0.0751381665468216\n11 300 loss: 0.07885183393955231\n11 400 loss: 0.07758995145559311\n12 0 loss: 0.07343745976686478\n12 100 loss: 0.08567540347576141\n12 200 loss: 0.07283129543066025\n12 300 loss: 0.07681278139352798\n12 400 loss: 0.07564117759466171\n13 0 loss: 0.07154436409473419\n13 100 loss: 0.08359001576900482\n13 200 loss: 0.07078339159488678\n13 300 loss: 0.07498510181903839\n13 400 loss: 0.0739179402589798\n14 0 loss: 0.06984426081180573\n14 100 loss: 0.08170127868652344\n14 200 loss: 0.06894285976886749\n14 300 loss: 0.07332316786050797\n14 400 loss: 0.07237245887517929\n15 0 loss: 0.06829740107059479\n15 100 loss: 0.07995976507663727\n15 200 loss: 0.06728551536798477\n15 300 loss: 0.071807861328125\n15 400 loss: 0.07096637785434723\n16 0 loss: 0.06687553226947784\n16 100 loss: 0.07833383977413177\n16 200 loss: 0.06578556448221207\n16 300 loss: 0.07041327655315399\n16 400 loss: 0.0696801021695137\n17 0 loss: 0.06556729972362518\n17 100 loss: 0.07682279497385025\n17 200 loss: 0.06440950930118561\n17 300 loss: 0.0691433921456337\n17 400 loss: 0.06849688291549683\n18 0 loss: 0.06436904519796371\n18 100 loss: 0.07543321698904037\n18 200 loss: 0.06313526630401611\n18 300 loss: 0.06797070801258087\n18 400 loss: 0.06740599870681763\n19 0 loss: 0.06325375288724899\n19 100 loss: 0.07415328919887543\n19 200 loss: 0.06194179505109787\n19 300 loss: 0.06689483672380447\n19 400 loss: 0.06638634949922562\n20 0 loss: 0.06221336871385574\n20 100 loss: 0.07296430319547653\n20 200 loss: 0.06083458662033081\n20 300 loss: 0.06588788330554962\n20 400 loss: 0.06542444229125977\n21 0 loss: 0.06123281642794609\n21 100 loss: 0.07186214625835419\n21 200 loss: 0.059806324541568756\n21 300 loss: 0.06494954973459244\n21 400 loss: 0.06453092396259308\n22 0 loss: 0.060308169573545456\n22 100 loss: 0.07082530856132507\n22 200 loss: 0.058858610689640045\n22 300 loss: 0.06406521052122116\n22 400 loss: 0.06369241327047348\n23 0 loss: 0.05944456905126572\n23 100 loss: 0.06984353065490723\n23 200 loss: 0.057976674288511276\n23 300 loss: 0.06322605907917023\n23 400 loss: 0.06291554123163223\n24 0 loss: 0.0586337074637413\n24 100 loss: 0.06891711056232452\n24 200 loss: 0.05715184658765793\n24 300 loss: 0.062432367354631424\n24 400 loss: 0.06218666955828667\n25 0 loss: 0.05787456035614014\n25 100 loss: 0.06803713738918304\n25 200 loss: 0.05638397857546806\n25 300 loss: 0.061680037528276443\n25 400 loss: 0.06149675324559212\n26 0 loss: 0.05715933442115784\n26 100 loss: 0.06719750165939331\n26 200 loss: 0.055661242455244064\n26 300 loss: 0.06096801906824112\n26 400 loss: 0.060847848653793335\n27 0 loss: 0.05648066848516464\n27 100 loss: 0.066402867436409\n27 200 loss: 0.05498088151216507\n27 300 loss: 0.06029217690229416\n27 400 loss: 0.06023196130990982\n28 0 loss: 0.055835895240306854\n28 100 loss: 0.06564320623874664\n28 200 loss: 0.05433568358421326\n28 300 loss: 0.059644632041454315\n28 400 loss: 0.059646815061569214\n29 0 loss: 0.05521760135889053\n29 100 loss: 0.06491382420063019\n29 200 loss: 0.053730301558971405\n29 300 loss: 0.05902821943163872\n29 400 loss: 0.05908653885126114\n30 0 loss: 0.054629117250442505\n30 100 loss: 0.06421821564435959\n30 200 loss: 0.05315908044576645\n30 300 loss: 0.058448128402233124\n30 400 loss: 0.0585450753569603\n31 0 loss: 0.05406785011291504\n31 100 loss: 0.06354689598083496\n31 200 loss: 0.052616674453020096\n31 300 loss: 0.057893745601177216\n31 400 loss: 0.058026451617479324\n32 0 loss: 0.0535275936126709\n32 100 loss: 0.06290684640407562\n32 200 loss: 0.05209745839238167\n32 300 loss: 0.05736064910888672\n32 400 loss: 0.057530295103788376\n33 0 loss: 0.05300959199666977\n33 100 loss: 0.06229143217206001\n33 200 loss: 0.05160021781921387\n33 300 loss: 0.056844670325517654\n33 400 loss: 0.05705537647008896\n34 0 loss: 0.05251074954867363\n34 100 loss: 0.06170094013214111\n34 200 loss: 0.051127005368471146\n34 300 loss: 0.05634978413581848\n34 400 loss: 0.056600965559482574\n35 0 loss: 0.05202620103955269\n35 100 loss: 0.06113293766975403\n35 200 loss: 0.050678450614213943\n35 300 loss: 0.05587600916624069\n35 400 loss: 0.05616409704089165\n36 0 loss: 0.051558155566453934\n36 100 loss: 0.060585081577301025\n36 200 loss: 0.05025123432278633\n36 300 loss: 0.05541985109448433\n36 400 loss: 0.05574871227145195\n37 0 loss: 0.05110911652445793\n37 100 loss: 0.06005629152059555\n37 200 loss: 0.049839429557323456\n37 300 loss: 0.05497918277978897\n37 400 loss: 0.05534755438566208\n38 0 loss: 0.05067680403590202\n38 100 loss: 0.059546343982219696\n38 200 loss: 0.04944175109267235\n38 300 loss: 0.054555416107177734\n38 400 loss: 0.05496321991086006\n39 0 loss: 0.05025980621576309\n39 100 loss: 0.05905609577894211\n39 200 loss: 0.049060311168432236\n39 300 loss: 0.05414639785885811\n39 400 loss: 0.054592061787843704\n40 0 loss: 0.0498582199215889\n40 100 loss: 0.05858283489942551\n40 200 loss: 0.0486922562122345\n40 300 loss: 0.05375221371650696\n40 400 loss: 0.05423685163259506\n41 0 loss: 0.049470204859972\n41 100 loss: 0.0581253282725811\n41 200 loss: 0.048335470259189606\n41 300 loss: 0.05337090045213699\n41 400 loss: 0.05389404296875\n42 0 loss: 0.04909281060099602\n42 100 loss: 0.05768371745944023\n42 200 loss: 0.04799072816967964\n42 300 loss: 0.052999209612607956\n42 400 loss: 0.053560566157102585\n43 0 loss: 0.04872656613588333\n43 100 loss: 0.0572546012699604\n43 200 loss: 0.047656744718551636\n43 300 loss: 0.05263875052332878\n43 400 loss: 0.05323774367570877\n44 0 loss: 0.04837051033973694\n44 100 loss: 0.05683891847729683\n44 200 loss: 0.047334056347608566\n44 300 loss: 0.05229143053293228\n44 400 loss: 0.05292683094739914\n45 0 loss: 0.048025570809841156\n45 100 loss: 0.05643340200185776\n45 200 loss: 0.04702281951904297\n45 300 loss: 0.05195413902401924\n45 400 loss: 0.05262459069490433\n46 0 loss: 0.04768892005085945\n46 100 loss: 0.056040722876787186\n46 200 loss: 0.04672104865312576\n46 300 loss: 0.05162621662020683\n46 400 loss: 0.05232921242713928\n47 0 loss: 0.04735851287841797\n47 100 loss: 0.055660225450992584\n47 200 loss: 0.04642810672521591\n47 300 loss: 0.05130748078227043\n47 400 loss: 0.05204116180539131\n48 0 loss: 0.04703899100422859\n48 100 loss: 0.0552898570895195\n48 200 loss: 0.04614494368433952\n48 300 loss: 0.050997454673051834\n48 400 loss: 0.0517597422003746\n49 0 loss: 0.04672867804765701\n49 100 loss: 0.054929785430431366\n49 200 loss: 0.04587104171514511\n49 300 loss: 0.05069578438997269\n49 400 loss: 0.05148192495107651\n"
    },
    {
     "data": {
      "image/png": "[encoded data removed]",
      "image/svg+xml": "<?xml version=\"1.0\" encoding=\"utf-8\" standalone=\"no\"?>\n<!DOCTYPE svg PUBLIC \"-//W3C//DTD SVG 1.1//EN\"\n  \"http://www.w3.org/Graphics/SVG/1.1/DTD/svg11.dtd\">\n<!-- Created with matplotlib (https://matplotlib.org/) -->\n<svg height=\"447.40125pt\" version=\"1.1\" viewBox=\"0 0 584.215625 447.40125\" width=\"584.215625pt\" xmlns=\"http://www.w3.org/2000/svg\" xmlns:xlink=\"http://www.w3.org/1999/xlink\">\n <defs>\n  <style type=\"text/css\">\n*{stroke-linecap:butt;stroke-linejoin:round;}\n  </style>\n </defs>\n <g id=\"figure_1\">\n  <g id=\"patch_1\">\n   <path d=\"M 0 447.40125 \nL 584.215625 447.40125 \nL 584.215625 0 \nL 0 0 \nz\n\" style=\"fill:none;\"/>\n  </g>\n  <g id=\"axes_1\">\n   <g id=\"patch_2\">\n    <path d=\"M 74.815625 387.72 \nL 577.015625 387.72 \nL 577.015625 7.2 \nL 74.815625 7.2 \nz\n\" style=\"fill:#ffffff;\"/>\n   </g>\n   <g id=\"matplotlib.axis_1\">\n    <g id=\"xtick_1\">\n     <g id=\"line2d_1\">\n      <defs>\n       <path d=\"M 0 0 \nL 0 3.5 \n\" id=\"m640fff8ead\" style=\"stroke:#000000;stroke-width:0.8;\"/>\n      </defs>\n      <g>\n       <use style=\"stroke:#000000;stroke-width:0.8;\" x=\"97.642898\" xlink:href=\"#m640fff8ead\" y=\"387.72\"/>\n      </g>\n     </g>\n     <g id=\"text_1\">\n      <!-- 0 -->\n      <defs>\n       <path d=\"M 26.09375 -1.296875 \nC 38.796875 -1.296875 46.59375 10.90625 46.59375 36.5 \nC 46.59375 61.796875 38.796875 73.90625 26.09375 73.90625 \nC 13.203125 73.90625 5.5 61.796875 5.5 36.5 \nC 5.5 10.90625 13.203125 -1.296875 26.09375 -1.296875 \nz\nM 26.09375 2 \nC 15.796875 2 9.203125 14.203125 9.203125 36.5 \nC 9.203125 58.5 15.796875 70.703125 26.09375 70.703125 \nC 36.296875 70.703125 42.90625 58.5 42.90625 36.5 \nC 42.90625 14.203125 36.296875 2 26.09375 2 \nz\n\" id=\"NotoSansCJKjp-Thin-48\"/>\n      </defs>\n      <g transform=\"translate(92.433523 410.60125)scale(0.2 -0.2)\">\n       <use xlink:href=\"#NotoSansCJKjp-Thin-48\"/>\n      </g>\n     </g>\n    </g>\n    <g id=\"xtick_2\">\n     <g id=\"line2d_2\">\n      <g>\n       <use style=\"stroke:#000000;stroke-width:0.8;\" x=\"190.815439\" xlink:href=\"#m640fff8ead\" y=\"387.72\"/>\n      </g>\n     </g>\n     <g id=\"text_2\">\n      <!-- 10 -->\n      <defs>\n       <path d=\"M 9.5 0 \nL 45.296875 0 \nL 45.296875 3.296875 \nL 29.703125 3.296875 \nL 29.703125 72.59375 \nL 26.59375 72.59375 \nC 23.5 70.796875 19.09375 69.296875 13.5 68.40625 \nL 13.5 65.796875 \nL 26.203125 65.796875 \nL 26.203125 3.296875 \nL 9.5 3.296875 \nz\n\" id=\"NotoSansCJKjp-Thin-49\"/>\n      </defs>\n      <g transform=\"translate(180.396689 410.60125)scale(0.2 -0.2)\">\n       <use xlink:href=\"#NotoSansCJKjp-Thin-49\"/>\n       <use x=\"52.099991\" xlink:href=\"#NotoSansCJKjp-Thin-48\"/>\n      </g>\n     </g>\n    </g>\n    <g id=\"xtick_3\">\n     <g id=\"line2d_3\">\n      <g>\n       <use style=\"stroke:#000000;stroke-width:0.8;\" x=\"283.987981\" xlink:href=\"#m640fff8ead\" y=\"387.72\"/>\n      </g>\n     </g>\n     <g id=\"text_3\">\n      <!-- 20 -->\n      <defs>\n       <path d=\"M 4.59375 0 \nL 47.09375 0 \nL 47.09375 3.296875 \nL 22.5 3.296875 \nC 18.59375 3.296875 14.59375 3.09375 10.59375 2.796875 \nC 31.59375 22.203125 43.5 37.59375 43.5 53.5 \nC 43.5 65.796875 36.40625 73.90625 24.09375 73.90625 \nC 15.59375 73.90625 9.5 69.296875 4.40625 63.59375 \nL 6.90625 61.296875 \nC 11.296875 66.796875 17.296875 70.59375 23.796875 70.59375 \nC 34.90625 70.59375 39.703125 62.90625 39.703125 53.5 \nC 39.703125 39.796875 30.40625 24.40625 4.59375 2.296875 \nz\n\" id=\"NotoSansCJKjp-Thin-50\"/>\n      </defs>\n      <g transform=\"translate(273.569231 410.60125)scale(0.2 -0.2)\">\n       <use xlink:href=\"#NotoSansCJKjp-Thin-50\"/>\n       <use x=\"52.099991\" xlink:href=\"#NotoSansCJKjp-Thin-48\"/>\n      </g>\n     </g>\n    </g>\n    <g id=\"xtick_4\">\n     <g id=\"line2d_4\">\n      <g>\n       <use style=\"stroke:#000000;stroke-width:0.8;\" x=\"377.160523\" xlink:href=\"#m640fff8ead\" y=\"387.72\"/>\n      </g>\n     </g>\n     <g id=\"text_4\">\n      <!-- 30 -->\n      <defs>\n       <path d=\"M 25.296875 -1.296875 \nC 37.296875 -1.296875 46.40625 6.59375 46.40625 19.09375 \nC 46.40625 29.5 38.90625 36.296875 30.09375 38.09375 \nL 30.09375 38.5 \nC 37.796875 41 43.796875 47 43.796875 56.90625 \nC 43.796875 67.703125 35.5 73.90625 25.09375 74 \nC 16.90625 73.90625 11 70 6.40625 65.5 \nL 8.703125 62.90625 \nC 12.59375 67.203125 18.59375 70.59375 25.09375 70.796875 \nC 34.09375 70.59375 39.90625 65 39.90625 56.703125 \nC 39.90625 47.40625 34.09375 39.90625 17.40625 39.90625 \nL 17.40625 36.40625 \nC 35.203125 36.40625 42.59375 29.296875 42.59375 18.90625 \nC 42.59375 8.703125 35.40625 2 25.5 2 \nC 15.5 2 9.796875 6.59375 5.59375 11.203125 \nL 3.296875 8.59375 \nC 7.703125 4 14.09375 -1.296875 25.296875 -1.296875 \nz\n\" id=\"NotoSansCJKjp-Thin-51\"/>\n      </defs>\n      <g transform=\"translate(366.741773 410.60125)scale(0.2 -0.2)\">\n       <use xlink:href=\"#NotoSansCJKjp-Thin-51\"/>\n       <use x=\"52.099991\" xlink:href=\"#NotoSansCJKjp-Thin-48\"/>\n      </g>\n     </g>\n    </g>\n    <g id=\"xtick_5\">\n     <g id=\"line2d_5\">\n      <g>\n       <use style=\"stroke:#000000;stroke-width:0.8;\" x=\"470.333065\" xlink:href=\"#m640fff8ead\" y=\"387.72\"/>\n      </g>\n     </g>\n     <g id=\"text_5\">\n      <!-- 40 -->\n      <defs>\n       <path d=\"M 6.59375 24.5 \nL 28.59375 56.09375 \nC 30.59375 59.296875 32.59375 62.59375 34.296875 65.703125 \nL 34.796875 65.703125 \nC 34.5 62.59375 34.296875 57.40625 34.296875 54.40625 \nL 34.296875 24.5 \nz\nM 48.59375 24.5 \nL 37.796875 24.5 \nL 37.796875 72.59375 \nL 35.296875 72.59375 \nL 1.796875 23.203125 \nL 1.796875 21.296875 \nL 34.296875 21.296875 \nL 34.296875 0 \nL 37.796875 0 \nL 37.796875 21.296875 \nL 48.59375 21.296875 \nz\n\" id=\"NotoSansCJKjp-Thin-52\"/>\n      </defs>\n      <g transform=\"translate(459.914315 410.60125)scale(0.2 -0.2)\">\n       <use xlink:href=\"#NotoSansCJKjp-Thin-52\"/>\n       <use x=\"52.099991\" xlink:href=\"#NotoSansCJKjp-Thin-48\"/>\n      </g>\n     </g>\n    </g>\n    <g id=\"xtick_6\">\n     <g id=\"line2d_6\">\n      <g>\n       <use style=\"stroke:#000000;stroke-width:0.8;\" x=\"563.505606\" xlink:href=\"#m640fff8ead\" y=\"387.72\"/>\n      </g>\n     </g>\n     <g id=\"text_6\">\n      <!-- 50 -->\n      <defs>\n       <path d=\"M 24.703125 -1.296875 \nC 35.703125 -1.296875 46.796875 7.5 46.796875 23.09375 \nC 46.796875 39.296875 37.296875 46.40625 25.40625 46.40625 \nC 20 46.40625 16 44.90625 12.296875 42.59375 \nL 14.703125 69.296875 \nL 43.09375 69.296875 \nL 43.09375 72.59375 \nL 11.40625 72.59375 \nL 8.796875 40 \nL 11.796875 38.203125 \nC 15.90625 41 19.703125 43 25.09375 43 \nC 36 43 43 35.296875 43 22.90625 \nC 43 10.40625 34.5 2 24.90625 2 \nC 14.796875 2 9.296875 6.40625 5.203125 10.796875 \nL 2.90625 8.09375 \nC 7.296875 3.703125 13.5 -1.296875 24.703125 -1.296875 \nz\n\" id=\"NotoSansCJKjp-Thin-53\"/>\n      </defs>\n      <g transform=\"translate(553.086856 410.60125)scale(0.2 -0.2)\">\n       <use xlink:href=\"#NotoSansCJKjp-Thin-53\"/>\n       <use x=\"52.099991\" xlink:href=\"#NotoSansCJKjp-Thin-48\"/>\n      </g>\n     </g>\n    </g>\n    <g id=\"text_7\">\n     <!-- Epoch -->\n     <defs>\n      <path d=\"M 11 0 \nL 51.09375 0 \nL 51.09375 3.296875 \nL 14.703125 3.296875 \nL 14.703125 37.09375 \nL 44.296875 37.09375 \nL 44.296875 40.40625 \nL 14.703125 40.40625 \nL 14.703125 69.296875 \nL 50 69.296875 \nL 50 72.59375 \nL 11 72.59375 \nz\n\" id=\"NotoSansCJKjp-Thin-69\"/>\n      <path d=\"M 14.09375 41.59375 \nC 20.796875 47.40625 26.703125 50.703125 32.09375 50.703125 \nC 45 50.703125 49.796875 40.5 49.796875 27.09375 \nC 49.796875 12.40625 41.703125 2 30.5 2 \nC 26.296875 2 20.296875 3.90625 14.09375 9.09375 \nz\nM 10.5 -24.296875 \nL 14.09375 -24.296875 \nL 14.09375 5.296875 \nC 19.703125 1.09375 25.203125 -1.296875 30.203125 -1.296875 \nC 42.796875 -1.296875 53.59375 9.203125 53.59375 27.09375 \nC 53.59375 43.40625 46.703125 54 32.40625 54 \nC 25.796875 54 19.5 50 14.296875 45.90625 \nL 14.09375 45.90625 \nL 13.5 52.703125 \nL 10.5 52.703125 \nz\n\" id=\"NotoSansCJKjp-Thin-112\"/>\n      <path d=\"M 29.296875 -1.296875 \nC 41.90625 -1.296875 52.703125 8.796875 52.703125 26.203125 \nC 52.703125 43.90625 41.90625 54 29.296875 54 \nC 16.703125 54 5.90625 43.90625 5.90625 26.203125 \nC 5.90625 8.796875 16.703125 -1.296875 29.296875 -1.296875 \nz\nM 29.296875 2 \nC 18.09375 2 9.703125 11.796875 9.703125 26.203125 \nC 9.703125 40.703125 18.09375 50.703125 29.296875 50.703125 \nC 40.5 50.703125 49 40.703125 49 26.203125 \nC 49 11.796875 40.5 2 29.296875 2 \nz\n\" id=\"NotoSansCJKjp-Thin-111\"/>\n      <path d=\"M 29.5 -1.296875 \nC 36.296875 -1.296875 41.90625 1.796875 46.296875 5.703125 \nL 44.203125 8.296875 \nC 40.5 4.796875 35.40625 2 29.59375 2 \nC 17.59375 2 9.703125 11.796875 9.703125 26.203125 \nC 9.703125 40.703125 18.5 50.703125 29.59375 50.703125 \nC 35 50.703125 39.203125 48.09375 42.703125 44.796875 \nL 45 47.40625 \nC 41.5 50.703125 36.796875 54 29.59375 54 \nC 16.90625 54 5.90625 43.90625 5.90625 26.203125 \nC 5.90625 8.796875 16.09375 -1.296875 29.5 -1.296875 \nz\n\" id=\"NotoSansCJKjp-Thin-99\"/>\n      <path d=\"M 10.5 0 \nL 14.09375 0 \nL 14.09375 40.296875 \nC 20.796875 47.203125 25.59375 50.703125 32.09375 50.703125 \nC 41.09375 50.703125 44.796875 45 44.796875 33.40625 \nL 44.796875 0 \nL 48.40625 0 \nL 48.40625 33.90625 \nC 48.40625 47.5 43.296875 54 32.5 54 \nC 25.203125 54 19.703125 49.796875 14.09375 44.09375 \nL 14.09375 79.40625 \nL 10.5 79.40625 \nz\n\" id=\"NotoSansCJKjp-Thin-104\"/>\n     </defs>\n     <g transform=\"translate(297.815625 435.341875)scale(0.2 -0.2)\">\n      <use xlink:href=\"#NotoSansCJKjp-Thin-69\"/>\n      <use x=\"56.199997\" xlink:href=\"#NotoSansCJKjp-Thin-112\"/>\n      <use x=\"115.699982\" xlink:href=\"#NotoSansCJKjp-Thin-111\"/>\n      <use x=\"174.299973\" xlink:href=\"#NotoSansCJKjp-Thin-99\"/>\n      <use x=\"223.499969\" xlink:href=\"#NotoSansCJKjp-Thin-104\"/>\n     </g>\n    </g>\n   </g>\n   <g id=\"matplotlib.axis_2\">\n    <g id=\"ytick_1\">\n     <g id=\"line2d_7\">\n      <defs>\n       <path d=\"M 0 0 \nL -3.5 0 \n\" id=\"m83f1aa556d\" style=\"stroke:#000000;stroke-width:0.8;\"/>\n      </defs>\n      <g>\n       <use style=\"stroke:#000000;stroke-width:0.8;\" x=\"74.815625\" xlink:href=\"#m83f1aa556d\" y=\"373.01358\"/>\n      </g>\n     </g>\n     <g id=\"text_8\">\n      <!-- 0.06 -->\n      <defs>\n       <path d=\"M 11.5 -1.296875 \nC 13.59375 -1.296875 15.59375 0.296875 15.59375 3 \nC 15.59375 5.90625 13.59375 7.5 11.5 7.5 \nC 9.5 7.5 7.5 5.90625 7.5 3 \nC 7.5 0.296875 9.5 -1.296875 11.5 -1.296875 \nz\n\" id=\"NotoSansCJKjp-Thin-46\"/>\n       <path d=\"M 28.90625 2 \nC 16.5 2 10.703125 13.796875 10 30.296875 \nC 15.90625 38.203125 22.703125 41.296875 27.796875 41.296875 \nC 39.203125 41.296875 43.703125 32.703125 43.703125 21.59375 \nC 43.703125 10.703125 37.40625 2 28.90625 2 \nz\nM 46 67.296875 \nC 42.40625 71.296875 37.90625 73.90625 31.703125 73.90625 \nC 18.296875 73.90625 6.203125 63.796875 6.203125 33.90625 \nC 6.203125 11.59375 14.59375 -1.296875 28.703125 -1.296875 \nC 38.796875 -1.296875 47.5 8.40625 47.5 21.59375 \nC 47.5 36.5 40.40625 44.40625 28 44.40625 \nC 21.296875 44.40625 14.90625 40.703125 9.90625 34.59375 \nC 10.09375 61.5 20 70.59375 31.59375 70.59375 \nC 36.203125 70.59375 40.5 68.703125 43.59375 64.796875 \nz\n\" id=\"NotoSansCJKjp-Thin-54\"/>\n      </defs>\n      <g transform=\"translate(31.940625 380.954205)scale(0.2 -0.2)\">\n       <use xlink:href=\"#NotoSansCJKjp-Thin-48\"/>\n       <use x=\"52.099991\" xlink:href=\"#NotoSansCJKjp-Thin-46\"/>\n       <use x=\"75.199982\" xlink:href=\"#NotoSansCJKjp-Thin-48\"/>\n       <use x=\"127.299973\" xlink:href=\"#NotoSansCJKjp-Thin-54\"/>\n      </g>\n     </g>\n    </g>\n    <g id=\"ytick_2\">\n     <g id=\"line2d_8\">\n      <g>\n       <use style=\"stroke:#000000;stroke-width:0.8;\" x=\"74.815625\" xlink:href=\"#m83f1aa556d\" y=\"309.283564\"/>\n      </g>\n     </g>\n     <g id=\"text_9\">\n      <!-- 0.08 -->\n      <defs>\n       <path d=\"M 26.5 -1.296875 \nC 39 -1.296875 47.5 6.796875 47.5 16.90625 \nC 47.5 26.796875 41.203125 32 35.203125 35.703125 \nL 35.203125 36.203125 \nC 39.09375 39.5 45.203125 46.5 45.203125 54.59375 \nC 45.203125 65.296875 38.40625 73.5 26.5 73.5 \nC 16.5 73.5 8.59375 66.203125 8.59375 55.90625 \nC 8.59375 48.296875 13.59375 42.90625 18.703125 39.59375 \nL 18.703125 39.203125 \nC 12.09375 35.59375 4.40625 28.203125 4.40625 18 \nC 4.40625 7 13.59375 -1.296875 26.5 -1.296875 \nz\nM 31.796875 37.296875 \nC 22.296875 41 12.296875 45.296875 12.296875 55.90625 \nC 12.296875 64.09375 18.09375 70.296875 26.5 70.296875 \nC 36.09375 70.296875 41.59375 63 41.59375 54.59375 \nC 41.59375 48.09375 38.09375 42.296875 31.796875 37.296875 \nz\nM 26.5 2 \nC 15.796875 2 8.09375 9.09375 8.09375 18 \nC 8.09375 26.5 13.59375 33.09375 21.40625 37.5 \nC 32.59375 33.09375 43.703125 28.90625 43.703125 16.90625 \nC 43.703125 8.703125 37 2 26.5 2 \nz\n\" id=\"NotoSansCJKjp-Thin-56\"/>\n      </defs>\n      <g transform=\"translate(31.940625 317.224189)scale(0.2 -0.2)\">\n       <use xlink:href=\"#NotoSansCJKjp-Thin-48\"/>\n       <use x=\"52.099991\" xlink:href=\"#NotoSansCJKjp-Thin-46\"/>\n       <use x=\"75.199982\" xlink:href=\"#NotoSansCJKjp-Thin-48\"/>\n       <use x=\"127.299973\" xlink:href=\"#NotoSansCJKjp-Thin-56\"/>\n      </g>\n     </g>\n    </g>\n    <g id=\"ytick_3\">\n     <g id=\"line2d_9\">\n      <g>\n       <use style=\"stroke:#000000;stroke-width:0.8;\" x=\"74.815625\" xlink:href=\"#m83f1aa556d\" y=\"245.553549\"/>\n      </g>\n     </g>\n     <g id=\"text_10\">\n      <!-- 0.10 -->\n      <g transform=\"translate(31.940625 253.494174)scale(0.2 -0.2)\">\n       <use xlink:href=\"#NotoSansCJKjp-Thin-48\"/>\n       <use x=\"52.099991\" xlink:href=\"#NotoSansCJKjp-Thin-46\"/>\n       <use x=\"75.199982\" xlink:href=\"#NotoSansCJKjp-Thin-49\"/>\n       <use x=\"127.299973\" xlink:href=\"#NotoSansCJKjp-Thin-48\"/>\n      </g>\n     </g>\n    </g>\n    <g id=\"ytick_4\">\n     <g id=\"line2d_10\">\n      <g>\n       <use style=\"stroke:#000000;stroke-width:0.8;\" x=\"74.815625\" xlink:href=\"#m83f1aa556d\" y=\"181.823533\"/>\n      </g>\n     </g>\n     <g id=\"text_11\">\n      <!-- 0.12 -->\n      <g transform=\"translate(31.940625 189.764158)scale(0.2 -0.2)\">\n       <use xlink:href=\"#NotoSansCJKjp-Thin-48\"/>\n       <use x=\"52.099991\" xlink:href=\"#NotoSansCJKjp-Thin-46\"/>\n       <use x=\"75.199982\" xlink:href=\"#NotoSansCJKjp-Thin-49\"/>\n       <use x=\"127.299973\" xlink:href=\"#NotoSansCJKjp-Thin-50\"/>\n      </g>\n     </g>\n    </g>\n    <g id=\"ytick_5\">\n     <g id=\"line2d_11\">\n      <g>\n       <use style=\"stroke:#000000;stroke-width:0.8;\" x=\"74.815625\" xlink:href=\"#m83f1aa556d\" y=\"118.093517\"/>\n      </g>\n     </g>\n     <g id=\"text_12\">\n      <!-- 0.14 -->\n      <g transform=\"translate(31.940625 126.034142)scale(0.2 -0.2)\">\n       <use xlink:href=\"#NotoSansCJKjp-Thin-48\"/>\n       <use x=\"52.099991\" xlink:href=\"#NotoSansCJKjp-Thin-46\"/>\n       <use x=\"75.199982\" xlink:href=\"#NotoSansCJKjp-Thin-49\"/>\n       <use x=\"127.299973\" xlink:href=\"#NotoSansCJKjp-Thin-52\"/>\n      </g>\n     </g>\n    </g>\n    <g id=\"ytick_6\">\n     <g id=\"line2d_12\">\n      <g>\n       <use style=\"stroke:#000000;stroke-width:0.8;\" x=\"74.815625\" xlink:href=\"#m83f1aa556d\" y=\"54.363501\"/>\n      </g>\n     </g>\n     <g id=\"text_13\">\n      <!-- 0.16 -->\n      <g transform=\"translate(31.940625 62.304126)scale(0.2 -0.2)\">\n       <use xlink:href=\"#NotoSansCJKjp-Thin-48\"/>\n       <use x=\"52.099991\" xlink:href=\"#NotoSansCJKjp-Thin-46\"/>\n       <use x=\"75.199982\" xlink:href=\"#NotoSansCJKjp-Thin-49\"/>\n       <use x=\"127.299973\" xlink:href=\"#NotoSansCJKjp-Thin-54\"/>\n      </g>\n     </g>\n    </g>\n    <g id=\"text_14\">\n     <!-- MSE -->\n     <defs>\n      <path d=\"M 11 0 \nL 14.5 0 \nL 14.5 50.203125 \nC 14.5 55.90625 14.296875 63.296875 14 69.203125 \nL 14.40625 69.203125 \nL 20.09375 53.203125 \nL 36.5 8.09375 \nL 40.40625 8.09375 \nL 56.703125 53.203125 \nL 62.296875 69.203125 \nL 62.703125 69.203125 \nC 62.5 63.296875 62.296875 55.90625 62.296875 50.203125 \nL 62.296875 0 \nL 66 0 \nL 66 72.59375 \nL 60.09375 72.59375 \nL 44.5 28.796875 \nC 42.59375 23.40625 40.796875 17.90625 38.796875 12.40625 \nL 38.40625 12.40625 \nC 36.40625 17.90625 34.40625 23.40625 32.40625 28.796875 \nL 16.90625 72.59375 \nL 11 72.59375 \nz\n\" id=\"NotoSansCJKjp-Thin-77\"/>\n      <path d=\"M 29.5 -1.296875 \nC 43.203125 -1.296875 52.203125 6.796875 52.203125 17.90625 \nC 52.203125 29.09375 45 33.40625 36.796875 37.09375 \nL 25.703125 42.09375 \nC 20.59375 44.40625 13 47.703125 13 56.796875 \nC 13 65 19.703125 70.40625 29.796875 70.40625 \nC 37.203125 70.40625 43.09375 67.296875 47.296875 62.796875 \nL 49.59375 65.296875 \nC 45.40625 69.90625 38.59375 73.90625 29.796875 73.90625 \nC 18 73.90625 9.203125 66.90625 9.203125 56.40625 \nC 9.203125 45.703125 17.703125 41.40625 24 38.59375 \nL 35.09375 33.59375 \nC 42.40625 30.296875 48.5 27.296875 48.5 17.59375 \nC 48.5 8.5 41.09375 2.203125 29.5 2.203125 \nC 20.796875 2.203125 13.09375 6.09375 7.796875 12.296875 \nL 5.296875 9.703125 \nC 10.796875 3.296875 18.796875 -1.296875 29.5 -1.296875 \nz\n\" id=\"NotoSansCJKjp-Thin-83\"/>\n     </defs>\n     <g transform=\"translate(23.08125 216.470937)rotate(-90)scale(0.2 -0.2)\">\n      <use xlink:href=\"#NotoSansCJKjp-Thin-77\"/>\n      <use x=\"76.999985\" xlink:href=\"#NotoSansCJKjp-Thin-83\"/>\n      <use x=\"133.899979\" xlink:href=\"#NotoSansCJKjp-Thin-69\"/>\n     </g>\n    </g>\n   </g>\n   <g id=\"line2d_13\">\n    <path clip-path=\"url(#pe15e874a63)\" d=\"M 97.642898 24.496364 \nL 106.960152 93.032741 \nL 116.277406 136.567413 \nL 125.59466 167.6985 \nL 134.911914 191.273307 \nL 144.229169 209.6497 \nL 153.546423 224.565064 \nL 162.863677 237.152051 \nL 172.180931 248.039541 \nL 181.498185 257.498613 \nL 190.815439 265.721358 \nL 200.132694 272.943717 \nL 209.449948 279.552957 \nL 218.767202 285.497252 \nL 228.084456 290.922609 \nL 237.40171 295.97492 \nL 246.718965 300.663396 \nL 256.036219 305.035709 \nL 265.353473 309.057126 \nL 274.670727 312.775319 \nL 283.987981 316.242947 \nL 293.305235 319.507325 \nL 302.62249 322.579637 \nL 311.939744 325.480632 \nL 321.256998 328.226691 \nL 330.574252 330.826432 \nL 339.891506 333.301105 \nL 349.20876 335.65237 \nL 358.526015 337.895256 \nL 367.843269 340.05049 \nL 377.160523 342.107577 \nL 386.477777 344.080169 \nL 395.795031 345.988255 \nL 405.112285 347.808642 \nL 414.42954 349.578317 \nL 423.746794 351.286834 \nL 433.064048 352.924959 \nL 442.381302 354.514533 \nL 451.698556 356.057953 \nL 461.015811 357.556788 \nL 470.333065 359.013695 \nL 479.650319 360.432498 \nL 488.967573 361.810798 \nL 498.284827 363.133876 \nL 507.602081 364.420226 \nL 516.919336 365.671463 \nL 526.23659 366.898757 \nL 535.553844 368.102748 \nL 544.871098 369.278072 \nL 554.188352 370.423636 \n\" style=\"fill:none;stroke:#1f77b4;stroke-linecap:square;stroke-width:1.5;\"/>\n    <defs>\n     <path d=\"M -3 3 \nL 3 3 \nL 3 -3 \nL -3 -3 \nz\n\" id=\"m052cb15c3e\" style=\"stroke:#1f77b4;stroke-linejoin:miter;\"/>\n    </defs>\n    <g clip-path=\"url(#pe15e874a63)\">\n     <use style=\"fill:#1f77b4;stroke:#1f77b4;stroke-linejoin:miter;\" x=\"97.642898\" xlink:href=\"#m052cb15c3e\" y=\"24.496364\"/>\n     <use style=\"fill:#1f77b4;stroke:#1f77b4;stroke-linejoin:miter;\" x=\"106.960152\" xlink:href=\"#m052cb15c3e\" y=\"93.032741\"/>\n     <use style=\"fill:#1f77b4;stroke:#1f77b4;stroke-linejoin:miter;\" x=\"116.277406\" xlink:href=\"#m052cb15c3e\" y=\"136.567413\"/>\n     <use style=\"fill:#1f77b4;stroke:#1f77b4;stroke-linejoin:miter;\" x=\"125.59466\" xlink:href=\"#m052cb15c3e\" y=\"167.6985\"/>\n     <use style=\"fill:#1f77b4;stroke:#1f77b4;stroke-linejoin:miter;\" x=\"134.911914\" xlink:href=\"#m052cb15c3e\" y=\"191.273307\"/>\n     <use style=\"fill:#1f77b4;stroke:#1f77b4;stroke-linejoin:miter;\" x=\"144.229169\" xlink:href=\"#m052cb15c3e\" y=\"209.6497\"/>\n     <use style=\"fill:#1f77b4;stroke:#1f77b4;stroke-linejoin:miter;\" x=\"153.546423\" xlink:href=\"#m052cb15c3e\" y=\"224.565064\"/>\n     <use style=\"fill:#1f77b4;stroke:#1f77b4;stroke-linejoin:miter;\" x=\"162.863677\" xlink:href=\"#m052cb15c3e\" y=\"237.152051\"/>\n     <use style=\"fill:#1f77b4;stroke:#1f77b4;stroke-linejoin:miter;\" x=\"172.180931\" xlink:href=\"#m052cb15c3e\" y=\"248.039541\"/>\n     <use style=\"fill:#1f77b4;stroke:#1f77b4;stroke-linejoin:miter;\" x=\"181.498185\" xlink:href=\"#m052cb15c3e\" y=\"257.498613\"/>\n     <use style=\"fill:#1f77b4;stroke:#1f77b4;stroke-linejoin:miter;\" x=\"190.815439\" xlink:href=\"#m052cb15c3e\" y=\"265.721358\"/>\n     <use style=\"fill:#1f77b4;stroke:#1f77b4;stroke-linejoin:miter;\" x=\"200.132694\" xlink:href=\"#m052cb15c3e\" y=\"272.943717\"/>\n     <use style=\"fill:#1f77b4;stroke:#1f77b4;stroke-linejoin:miter;\" x=\"209.449948\" xlink:href=\"#m052cb15c3e\" y=\"279.552957\"/>\n     <use style=\"fill:#1f77b4;stroke:#1f77b4;stroke-linejoin:miter;\" x=\"218.767202\" xlink:href=\"#m052cb15c3e\" y=\"285.497252\"/>\n     <use style=\"fill:#1f77b4;stroke:#1f77b4;stroke-linejoin:miter;\" x=\"228.084456\" xlink:href=\"#m052cb15c3e\" y=\"290.922609\"/>\n     <use style=\"fill:#1f77b4;stroke:#1f77b4;stroke-linejoin:miter;\" x=\"237.40171\" xlink:href=\"#m052cb15c3e\" y=\"295.97492\"/>\n     <use style=\"fill:#1f77b4;stroke:#1f77b4;stroke-linejoin:miter;\" x=\"246.718965\" xlink:href=\"#m052cb15c3e\" y=\"300.663396\"/>\n     <use style=\"fill:#1f77b4;stroke:#1f77b4;stroke-linejoin:miter;\" x=\"256.036219\" xlink:href=\"#m052cb15c3e\" y=\"305.035709\"/>\n     <use style=\"fill:#1f77b4;stroke:#1f77b4;stroke-linejoin:miter;\" x=\"265.353473\" xlink:href=\"#m052cb15c3e\" y=\"309.057126\"/>\n     <use style=\"fill:#1f77b4;stroke:#1f77b4;stroke-linejoin:miter;\" x=\"274.670727\" xlink:href=\"#m052cb15c3e\" y=\"312.775319\"/>\n     <use style=\"fill:#1f77b4;stroke:#1f77b4;stroke-linejoin:miter;\" x=\"283.987981\" xlink:href=\"#m052cb15c3e\" y=\"316.242947\"/>\n     <use style=\"fill:#1f77b4;stroke:#1f77b4;stroke-linejoin:miter;\" x=\"293.305235\" xlink:href=\"#m052cb15c3e\" y=\"319.507325\"/>\n     <use style=\"fill:#1f77b4;stroke:#1f77b4;stroke-linejoin:miter;\" x=\"302.62249\" xlink:href=\"#m052cb15c3e\" y=\"322.579637\"/>\n     <use style=\"fill:#1f77b4;stroke:#1f77b4;stroke-linejoin:miter;\" x=\"311.939744\" xlink:href=\"#m052cb15c3e\" y=\"325.480632\"/>\n     <use style=\"fill:#1f77b4;stroke:#1f77b4;stroke-linejoin:miter;\" x=\"321.256998\" xlink:href=\"#m052cb15c3e\" y=\"328.226691\"/>\n     <use style=\"fill:#1f77b4;stroke:#1f77b4;stroke-linejoin:miter;\" x=\"330.574252\" xlink:href=\"#m052cb15c3e\" y=\"330.826432\"/>\n     <use style=\"fill:#1f77b4;stroke:#1f77b4;stroke-linejoin:miter;\" x=\"339.891506\" xlink:href=\"#m052cb15c3e\" y=\"333.301105\"/>\n     <use style=\"fill:#1f77b4;stroke:#1f77b4;stroke-linejoin:miter;\" x=\"349.20876\" xlink:href=\"#m052cb15c3e\" y=\"335.65237\"/>\n     <use style=\"fill:#1f77b4;stroke:#1f77b4;stroke-linejoin:miter;\" x=\"358.526015\" xlink:href=\"#m052cb15c3e\" y=\"337.895256\"/>\n     <use style=\"fill:#1f77b4;stroke:#1f77b4;stroke-linejoin:miter;\" x=\"367.843269\" xlink:href=\"#m052cb15c3e\" y=\"340.05049\"/>\n     <use style=\"fill:#1f77b4;stroke:#1f77b4;stroke-linejoin:miter;\" x=\"377.160523\" xlink:href=\"#m052cb15c3e\" y=\"342.107577\"/>\n     <use style=\"fill:#1f77b4;stroke:#1f77b4;stroke-linejoin:miter;\" x=\"386.477777\" xlink:href=\"#m052cb15c3e\" y=\"344.080169\"/>\n     <use style=\"fill:#1f77b4;stroke:#1f77b4;stroke-linejoin:miter;\" x=\"395.795031\" xlink:href=\"#m052cb15c3e\" y=\"345.988255\"/>\n     <use style=\"fill:#1f77b4;stroke:#1f77b4;stroke-linejoin:miter;\" x=\"405.112285\" xlink:href=\"#m052cb15c3e\" y=\"347.808642\"/>\n     <use style=\"fill:#1f77b4;stroke:#1f77b4;stroke-linejoin:miter;\" x=\"414.42954\" xlink:href=\"#m052cb15c3e\" y=\"349.578317\"/>\n     <use style=\"fill:#1f77b4;stroke:#1f77b4;stroke-linejoin:miter;\" x=\"423.746794\" xlink:href=\"#m052cb15c3e\" y=\"351.286834\"/>\n     <use style=\"fill:#1f77b4;stroke:#1f77b4;stroke-linejoin:miter;\" x=\"433.064048\" xlink:href=\"#m052cb15c3e\" y=\"352.924959\"/>\n     <use style=\"fill:#1f77b4;stroke:#1f77b4;stroke-linejoin:miter;\" x=\"442.381302\" xlink:href=\"#m052cb15c3e\" y=\"354.514533\"/>\n     <use style=\"fill:#1f77b4;stroke:#1f77b4;stroke-linejoin:miter;\" x=\"451.698556\" xlink:href=\"#m052cb15c3e\" y=\"356.057953\"/>\n     <use style=\"fill:#1f77b4;stroke:#1f77b4;stroke-linejoin:miter;\" x=\"461.015811\" xlink:href=\"#m052cb15c3e\" y=\"357.556788\"/>\n     <use style=\"fill:#1f77b4;stroke:#1f77b4;stroke-linejoin:miter;\" x=\"470.333065\" xlink:href=\"#m052cb15c3e\" y=\"359.013695\"/>\n     <use style=\"fill:#1f77b4;stroke:#1f77b4;stroke-linejoin:miter;\" x=\"479.650319\" xlink:href=\"#m052cb15c3e\" y=\"360.432498\"/>\n     <use style=\"fill:#1f77b4;stroke:#1f77b4;stroke-linejoin:miter;\" x=\"488.967573\" xlink:href=\"#m052cb15c3e\" y=\"361.810798\"/>\n     <use style=\"fill:#1f77b4;stroke:#1f77b4;stroke-linejoin:miter;\" x=\"498.284827\" xlink:href=\"#m052cb15c3e\" y=\"363.133876\"/>\n     <use style=\"fill:#1f77b4;stroke:#1f77b4;stroke-linejoin:miter;\" x=\"507.602081\" xlink:href=\"#m052cb15c3e\" y=\"364.420226\"/>\n     <use style=\"fill:#1f77b4;stroke:#1f77b4;stroke-linejoin:miter;\" x=\"516.919336\" xlink:href=\"#m052cb15c3e\" y=\"365.671463\"/>\n     <use style=\"fill:#1f77b4;stroke:#1f77b4;stroke-linejoin:miter;\" x=\"526.23659\" xlink:href=\"#m052cb15c3e\" y=\"366.898757\"/>\n     <use style=\"fill:#1f77b4;stroke:#1f77b4;stroke-linejoin:miter;\" x=\"535.553844\" xlink:href=\"#m052cb15c3e\" y=\"368.102748\"/>\n     <use style=\"fill:#1f77b4;stroke:#1f77b4;stroke-linejoin:miter;\" x=\"544.871098\" xlink:href=\"#m052cb15c3e\" y=\"369.278072\"/>\n     <use style=\"fill:#1f77b4;stroke:#1f77b4;stroke-linejoin:miter;\" x=\"554.188352\" xlink:href=\"#m052cb15c3e\" y=\"370.423636\"/>\n    </g>\n   </g>\n   <g id=\"patch_3\">\n    <path d=\"M 74.815625 387.72 \nL 74.815625 7.2 \n\" style=\"fill:none;stroke:#000000;stroke-linecap:square;stroke-linejoin:miter;stroke-width:0.8;\"/>\n   </g>\n   <g id=\"patch_4\">\n    <path d=\"M 577.015625 387.72 \nL 577.015625 7.2 \n\" style=\"fill:none;stroke:#000000;stroke-linecap:square;stroke-linejoin:miter;stroke-width:0.8;\"/>\n   </g>\n   <g id=\"patch_5\">\n    <path d=\"M 74.815625 387.72 \nL 577.015625 387.72 \n\" style=\"fill:none;stroke:#000000;stroke-linecap:square;stroke-linejoin:miter;stroke-width:0.8;\"/>\n   </g>\n   <g id=\"patch_6\">\n    <path d=\"M 74.815625 7.2 \nL 577.015625 7.2 \n\" style=\"fill:none;stroke:#000000;stroke-linecap:square;stroke-linejoin:miter;stroke-width:0.8;\"/>\n   </g>\n   <g id=\"legend_1\">\n    <g id=\"patch_7\">\n     <path d=\"M 459.015625 53.940625 \nL 563.015625 53.940625 \nQ 567.015625 53.940625 567.015625 49.940625 \nL 567.015625 21.2 \nQ 567.015625 17.2 563.015625 17.2 \nL 459.015625 17.2 \nQ 455.015625 17.2 455.015625 21.2 \nL 455.015625 49.940625 \nQ 455.015625 53.940625 459.015625 53.940625 \nz\n\" style=\"fill:#ffffff;opacity:0.8;stroke:#cccccc;stroke-linejoin:miter;\"/>\n    </g>\n    <g id=\"line2d_14\">\n     <path d=\"M 463.015625 34.08125 \nL 503.015625 34.08125 \n\" style=\"fill:none;stroke:#1f77b4;stroke-linecap:square;stroke-width:1.5;\"/>\n    </g>\n    <g id=\"line2d_15\">\n     <g>\n      <use style=\"fill:#1f77b4;stroke:#1f77b4;stroke-linejoin:miter;\" x=\"483.015625\" xlink:href=\"#m052cb15c3e\" y=\"34.08125\"/>\n     </g>\n    </g>\n    <g id=\"text_15\">\n     <!-- 训练 -->\n     <defs>\n      <path d=\"M 30.40625 63.09375 \nC 27 67.59375 20 74.5 14.09375 79.59375 \nL 12 77.703125 \nC 17.90625 72.59375 24.796875 65.296875 28.203125 60.796875 \nz\nM 24.40625 5.203125 \nL 24.40625 50.90625 \nL 4.90625 50.90625 \nL 4.90625 48 \nL 21.5 48 \nL 21.5 7.09375 \nC 21.5 2.703125 18.203125 -0.203125 16.796875 -1.203125 \nC 17.5 -1.90625 18.5 -3.09375 19 -3.703125 \nL 19 -3.59375 \nC 20.09375 -2 22.09375 -0.40625 37.5 11.59375 \nC 37.09375 12.09375 36.59375 13.203125 36.203125 14 \nz\nM 44.796875 45.59375 \nC 44.796875 27.40625 43.703125 9.796875 34.296875 -5.09375 \nC 35.09375 -5.5 36.203125 -6.40625 36.59375 -7.09375 \nC 46.5 8.40625 47.703125 26.40625 47.703125 45.59375 \nL 47.703125 80.203125 \nL 44.796875 80.203125 \nz\nM 66.5 5.203125 \nL 69.40625 5.203125 \nL 69.40625 75.703125 \nL 66.5 75.703125 \nz\nM 88.09375 80.40625 \nL 88.09375 -5.59375 \nL 91 -5.59375 \nL 91 80.40625 \nz\n\" id=\"NotoSansCJKjp-Thin-35757\"/>\n      <path d=\"M 7.40625 19.40625 \nC 8.796875 20.203125 11.40625 20.90625 34.703125 25.90625 \nC 34.59375 26.59375 34.5 27.796875 34.5 28.703125 \nL 12.40625 24.296875 \nC 20.09375 33.90625 27.703125 46.703125 34.203125 59.40625 \nL 31.296875 60.796875 \nC 29.5 57 27.59375 53.09375 25.40625 49.296875 \nL 10.90625 47.5 \nC 16.796875 56.796875 22.5 69.203125 26.90625 81.296875 \nL 23.90625 82.5 \nC 20 70 12.90625 56.40625 10.796875 53 \nC 8.703125 49.296875 7.203125 46.703125 5.703125 46.40625 \nC 6.09375 45.5 6.59375 43.90625 6.796875 43.203125 \nC 8 43.796875 10 44.203125 23.703125 46.296875 \nC 19.09375 38.296875 14.5 31.796875 12.796875 29.5 \nC 10.09375 25.703125 8 23 6.296875 22.703125 \nC 6.703125 21.796875 7.203125 20.203125 7.40625 19.40625 \nz\nM 34.59375 13.90625 \nC 23.703125 10 13.09375 6.09375 5.796875 3.703125 \nL 6.703125 0.796875 \nC 14.40625 3.703125 24.796875 7.40625 35 11.09375 \nz\nM 48.40625 24 \nC 45.296875 16.203125 39.296875 6.703125 33.203125 0.40625 \nC 33.90625 -0.09375 35 -0.90625 35.5 -1.5 \nC 41.703125 5.09375 47.796875 14.90625 51.5 23.09375 \nz\nM 44.09375 35.09375 \nC 46.703125 40.09375 49.09375 45.796875 51.40625 51.796875 \nL 64.5 51.796875 \nL 64.5 35.09375 \nz\nM 90.203125 32.203125 \nL 90.203125 35.09375 \nL 67.40625 35.09375 \nL 67.40625 54.703125 \nL 52.40625 54.703125 \nC 53.90625 58.703125 55.296875 62.90625 56.703125 67 \nL 93 67 \nL 93 69.90625 \nL 57.5 69.90625 \nC 58.796875 74 60 78.203125 61.09375 82.296875 \nL 57.90625 83.40625 \nC 57 78.90625 55.703125 74.296875 54.296875 69.90625 \nL 34.703125 69.90625 \nL 34.703125 67 \nL 53.40625 67 \nC 52 62.59375 50.5 58.296875 49.203125 54.703125 \nL 36.5 54.703125 \nL 36.5 51.796875 \nL 48 51.796875 \nC 46.59375 48 45.296875 45 44.59375 43.5 \nC 42.5 38.40625 40.703125 34.5 39.203125 34.203125 \nC 39.703125 33.40625 40.203125 31.703125 40.40625 30.90625 \nC 41.296875 31.703125 43.59375 32.203125 48.703125 32.203125 \nL 64.5 32.203125 \nL 64.5 -2.203125 \nC 64.5 -3.59375 64.09375 -4 62.59375 -4.09375 \nC 61.09375 -4.203125 56.203125 -4.296875 50 -4.09375 \nC 50.5 -5.09375 51.09375 -6.203125 51.296875 -7.09375 \nC 58.203125 -7.09375 62.40625 -7.09375 64.59375 -6.5 \nC 66.59375 -5.90625 67.40625 -4.90625 67.40625 -2.09375 \nL 67.40625 32.203125 \nz\nM 78.5 23 \nC 83.59375 15.40625 89.59375 5.203125 92.59375 -0.59375 \nL 95.296875 0.796875 \nC 92.296875 6.5 86.203125 16.59375 81.09375 24.09375 \nz\n\" id=\"NotoSansCJKjp-Thin-32451\"/>\n     </defs>\n     <g transform=\"translate(519.015625 41.08125)scale(0.2 -0.2)\">\n      <use xlink:href=\"#NotoSansCJKjp-Thin-35757\"/>\n      <use x=\"99.999985\" xlink:href=\"#NotoSansCJKjp-Thin-32451\"/>\n     </g>\n    </g>\n   </g>\n  </g>\n </g>\n <defs>\n  <clipPath id=\"pe15e874a63\">\n   <rect height=\"380.52\" width=\"502.2\" x=\"74.815625\" y=\"7.2\"/>\n  </clipPath>\n </defs>\n</svg>\n",
      "text/plain": "<Figure size 648x504 with 1 Axes>"
     },
     "metadata": {
      "needs_background": "light"
     },
     "output_type": "display_data"
    }
   ],
   "source": [
    "# %load forward.py\n",
    "import  matplotlib\n",
    "from \tmatplotlib import pyplot as plt\n",
    "# Default parameters for plots\n",
    "matplotlib.rcParams['font.size'] = 20\n",
    "matplotlib.rcParams['figure.titlesize'] = 20\n",
    "matplotlib.rcParams['figure.figsize'] = [9, 7]\n",
    "matplotlib.rcParams['font.family'] = ['Noto Sans CJK JP']\n",
    "matplotlib.rcParams['axes.unicode_minus']=False \n",
    "\n",
    "import  tensorflow as tf\n",
    "from    tensorflow import keras\n",
    "from    tensorflow.keras import datasets\n",
    "import  os\n",
    "\n",
    "os.environ['TF_CPP_MIN_LOG_LEVEL'] = '2'\n",
    "\n",
    "# x: [60k, 28, 28],\n",
    "# y: [60k]\n",
    "(x, y), _ = datasets.mnist.load_data()\n",
    "# x: [0~255] => [0~1.]\n",
    "x = tf.convert_to_tensor(x, dtype=tf.float32) / 255.\n",
    "y = tf.convert_to_tensor(y, dtype=tf.int32)\n",
    "\n",
    "print(x.shape, y.shape, x.dtype, y.dtype)\n",
    "print(tf.reduce_min(x), tf.reduce_max(x))\n",
    "print(tf.reduce_min(y), tf.reduce_max(y))\n",
    "\n",
    "# 每次批量处理128张图片\n",
    "train_db = tf.data.Dataset.from_tensor_slices((x,y)).batch(128)\n",
    "train_iter = iter(train_db)\n",
    "sample = next(train_iter)  # (X[0], y[0])\n",
    "print('batch:', sample[0].shape, sample[1].shape)\n",
    "\n",
    "\n",
    "# [b, 784] => [b, 256] => [b, 128] => [b, 10]\n",
    "# [dim_in, dim_out], [dim_out]\n",
    "w1 = tf.Variable(tf.random.truncated_normal([784, 256], stddev=0.1))\n",
    "b1 = tf.Variable(tf.zeros([256]))\n",
    "w2 = tf.Variable(tf.random.truncated_normal([256, 128], stddev=0.1))\n",
    "b2 = tf.Variable(tf.zeros([128]))\n",
    "w3 = tf.Variable(tf.random.truncated_normal([128, 10], stddev=0.1))\n",
    "b3 = tf.Variable(tf.zeros([10]))\n",
    "\n",
    "lr = 1e-3  # learning rate: 0.001\n",
    "\n",
    "losses = []\n",
    "\n",
    "# mini_batch Gradient descent\n",
    "for epoch in range(50): # iterate db for 10\n",
    "    # 每次使用128张图片进行一次梯度下降\n",
    "    for step, (x, y) in enumerate(train_db):\n",
    "        # x:[128, 28, 28]\n",
    "        # y: [128]\n",
    "\n",
    "        # [b, 28, 28] => [b, 28*28]\n",
    "        x = tf.reshape(x, [-1, 28*28])\n",
    "\n",
    "        with tf.GradientTape() as tape: # tf.Variable\n",
    "            # x: [b, 28*28]\n",
    "            # h1 = x@w1 + b1\n",
    "            # [b, 784]@[784, 256] + [256] => [b, 256] + [256] => [b, 256] + [b, 256]\n",
    "            h1 = x@w1 + tf.broadcast_to(b1, [x.shape[0], 256])\n",
    "            h1 = tf.nn.relu(h1)\n",
    "            # [b, 256] => [b, 128]\n",
    "            h2 = h1@w2 + b2\n",
    "            h2 = tf.nn.relu(h2)\n",
    "            # [b, 128] => [b, 10]\n",
    "            out = h2@w3 + b3\n",
    "\n",
    "            # compute loss\n",
    "            # out: [b, 10]\n",
    "            # y: [b] => [b, 10]\n",
    "            y_onehot = tf.one_hot(y, depth=10)\n",
    "\n",
    "            # mse = mean(sum(y-out)^2)\n",
    "            # [b, 10]\n",
    "            loss = tf.square(y_onehot - out)\n",
    "            # mean: scalar\n",
    "            loss = tf.reduce_mean(loss)\n",
    "\n",
    "        # compute gradients\n",
    "        grads = tape.gradient(loss, [w1, b1, w2, b2, w3, b3])\n",
    "        # print(grads)\n",
    "        # w1 = w1 - lr * w1_grad\n",
    "        w1.assign_sub(lr * grads[0])\n",
    "        b1.assign_sub(lr * grads[1])\n",
    "        w2.assign_sub(lr * grads[2])\n",
    "        b2.assign_sub(lr * grads[3])\n",
    "        w3.assign_sub(lr * grads[4])\n",
    "        b3.assign_sub(lr * grads[5])\n",
    "\n",
    "\n",
    "        if step % 100 == 0:\n",
    "            print(epoch, step, 'loss:', float(loss))\n",
    "\n",
    "    losses.append(float(loss))\n",
    "\n",
    "plt.figure()\n",
    "plt.plot(losses, color='C0', marker='s', label='训练')\n",
    "plt.xlabel('Epoch')\n",
    "plt.legend()\n",
    "plt.ylabel('MSE')\n",
    "plt.savefig('forward.svg')\n",
    "plt.show()\n"
   ]
  },
  {
   "cell_type": "code",
   "execution_count": null,
   "metadata": {},
   "outputs": [],
   "source": []
  }
 ],
 "metadata": {
  "kernelspec": {
   "display_name": "tf",
   "language": "python",
   "name": "tf"
  },
  "language_info": {
   "codemirror_mode": {
    "name": "ipython",
    "version": 3
   },
   "file_extension": ".py",
   "mimetype": "text/x-python",
   "name": "python",
   "nbconvert_exporter": "python",
   "pygments_lexer": "ipython3",
   "version": "3.7.6-final"
  }
 },
 "nbformat": 4,
 "nbformat_minor": 2
}